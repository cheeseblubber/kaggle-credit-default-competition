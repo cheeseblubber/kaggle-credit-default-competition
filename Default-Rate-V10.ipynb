{
 "cells": [
  {
   "cell_type": "code",
   "execution_count": 1,
   "metadata": {},
   "outputs": [],
   "source": [
    "%matplotlib inline\n",
    "%reload_ext autoreload\n",
    "%autoreload 2"
   ]
  },
  {
   "cell_type": "code",
   "execution_count": 2,
   "metadata": {},
   "outputs": [],
   "source": [
    "from fastai.structured import apply_cats, proc_df\n",
    "from fastai.column_data import *\n",
    "from sklearn.preprocessing import LabelEncoder\n",
    "import pandas as pd\n",
    "import dill as pickle\n",
    "from IPython.display import display\n",
    "\n",
    "pd.options.display.max_columns = None\n",
    "import numpy as np\n",
    "np.set_printoptions(threshold=50, edgeitems=20)\n",
    "data_path=Path('data/')\n",
    "PATH = data_path\n",
    "SK_ID_CURR = \"SK_ID_CURR\""
   ]
  },
  {
   "cell_type": "code",
   "execution_count": 3,
   "metadata": {},
   "outputs": [],
   "source": [
    "cred_card_bal = pickle.load(open('data/credit_card_balance','rb'))\n",
    "pos_cash_bal = pickle.load(open('data/POS_CASH_balance','rb'))\n",
    "prev = pickle.load(open('data/previous_application','rb'))\n",
    "bureau_bal = pickle.load(open('data/bureau_balance','rb'))\n",
    "install = pickle.load(open('data/installments_payments','rb'))\n",
    "bureau = pickle.load(open('data/bureau','rb'))\n",
    "application_train = pickle.load(open('data/application_train','rb'))\n",
    "application_test = pickle.load(open('data/application_test','rb'))"
   ]
  },
  {
   "cell_type": "code",
   "execution_count": 4,
   "metadata": {},
   "outputs": [],
   "source": [
    "merged_df = pickle.load(open('data/merged_df.pickle','rb'))"
   ]
  },
  {
   "cell_type": "code",
   "execution_count": 5,
   "metadata": {},
   "outputs": [
    {
     "data": {
      "text/plain": [
       "213"
      ]
     },
     "execution_count": 5,
     "metadata": {},
     "output_type": "execute_result"
    }
   ],
   "source": [
    "len(merged_df.columns)"
   ]
  },
  {
   "cell_type": "code",
   "execution_count": 6,
   "metadata": {
    "scrolled": true
   },
   "outputs": [
    {
     "data": {
      "text/html": [
       "<div>\n",
       "<style scoped>\n",
       "    .dataframe tbody tr th:only-of-type {\n",
       "        vertical-align: middle;\n",
       "    }\n",
       "\n",
       "    .dataframe tbody tr th {\n",
       "        vertical-align: top;\n",
       "    }\n",
       "\n",
       "    .dataframe thead th {\n",
       "        text-align: right;\n",
       "    }\n",
       "</style>\n",
       "<table border=\"1\" class=\"dataframe\">\n",
       "  <thead>\n",
       "    <tr style=\"text-align: right;\">\n",
       "      <th></th>\n",
       "      <th>SK_ID_PREV</th>\n",
       "      <th>SK_ID_CURR</th>\n",
       "      <th>NAME_CONTRACT_TYPE</th>\n",
       "      <th>AMT_ANNUITY</th>\n",
       "      <th>AMT_APPLICATION</th>\n",
       "      <th>AMT_CREDIT</th>\n",
       "      <th>AMT_DOWN_PAYMENT</th>\n",
       "      <th>AMT_GOODS_PRICE</th>\n",
       "      <th>WEEKDAY_APPR_PROCESS_START</th>\n",
       "      <th>HOUR_APPR_PROCESS_START</th>\n",
       "      <th>FLAG_LAST_APPL_PER_CONTRACT</th>\n",
       "      <th>NFLAG_LAST_APPL_IN_DAY</th>\n",
       "      <th>RATE_DOWN_PAYMENT</th>\n",
       "      <th>RATE_INTEREST_PRIMARY</th>\n",
       "      <th>RATE_INTEREST_PRIVILEGED</th>\n",
       "      <th>NAME_CASH_LOAN_PURPOSE</th>\n",
       "      <th>NAME_CONTRACT_STATUS</th>\n",
       "      <th>DAYS_DECISION</th>\n",
       "      <th>NAME_PAYMENT_TYPE</th>\n",
       "      <th>CODE_REJECT_REASON</th>\n",
       "      <th>NAME_TYPE_SUITE</th>\n",
       "      <th>NAME_CLIENT_TYPE</th>\n",
       "      <th>NAME_GOODS_CATEGORY</th>\n",
       "      <th>NAME_PORTFOLIO</th>\n",
       "      <th>NAME_PRODUCT_TYPE</th>\n",
       "      <th>CHANNEL_TYPE</th>\n",
       "      <th>SELLERPLACE_AREA</th>\n",
       "      <th>NAME_SELLER_INDUSTRY</th>\n",
       "      <th>CNT_PAYMENT</th>\n",
       "      <th>NAME_YIELD_GROUP</th>\n",
       "      <th>PRODUCT_COMBINATION</th>\n",
       "      <th>DAYS_FIRST_DRAWING</th>\n",
       "      <th>DAYS_FIRST_DUE</th>\n",
       "      <th>DAYS_LAST_DUE_1ST_VERSION</th>\n",
       "      <th>DAYS_LAST_DUE</th>\n",
       "      <th>DAYS_TERMINATION</th>\n",
       "      <th>NFLAG_INSURED_ON_APPROVAL</th>\n",
       "    </tr>\n",
       "  </thead>\n",
       "  <tbody>\n",
       "    <tr>\n",
       "      <th>1403575</th>\n",
       "      <td>2386847</td>\n",
       "      <td>318661</td>\n",
       "      <td>Consumer loans</td>\n",
       "      <td>10125.900</td>\n",
       "      <td>150678.0</td>\n",
       "      <td>99954.0</td>\n",
       "      <td>60273.0</td>\n",
       "      <td>150678.0</td>\n",
       "      <td>THURSDAY</td>\n",
       "      <td>16</td>\n",
       "      <td>Y</td>\n",
       "      <td>1</td>\n",
       "      <td>0.409686</td>\n",
       "      <td>NaN</td>\n",
       "      <td>NaN</td>\n",
       "      <td>XAP</td>\n",
       "      <td>Approved</td>\n",
       "      <td>-1035</td>\n",
       "      <td>XNA</td>\n",
       "      <td>XAP</td>\n",
       "      <td>Children</td>\n",
       "      <td>New</td>\n",
       "      <td>Computers</td>\n",
       "      <td>POS</td>\n",
       "      <td>XNA</td>\n",
       "      <td>Regional / Local</td>\n",
       "      <td>150</td>\n",
       "      <td>Consumer electronics</td>\n",
       "      <td>12.0</td>\n",
       "      <td>middle</td>\n",
       "      <td>POS household with interest</td>\n",
       "      <td>365243.0</td>\n",
       "      <td>-1004.0</td>\n",
       "      <td>-674.0</td>\n",
       "      <td>-704.0</td>\n",
       "      <td>-695.0</td>\n",
       "      <td>0.0</td>\n",
       "    </tr>\n",
       "    <tr>\n",
       "      <th>1015955</th>\n",
       "      <td>2539072</td>\n",
       "      <td>446597</td>\n",
       "      <td>Cash loans</td>\n",
       "      <td>32811.750</td>\n",
       "      <td>225000.0</td>\n",
       "      <td>275373.0</td>\n",
       "      <td>NaN</td>\n",
       "      <td>225000.0</td>\n",
       "      <td>WEDNESDAY</td>\n",
       "      <td>11</td>\n",
       "      <td>Y</td>\n",
       "      <td>1</td>\n",
       "      <td>NaN</td>\n",
       "      <td>NaN</td>\n",
       "      <td>NaN</td>\n",
       "      <td>Journey</td>\n",
       "      <td>Approved</td>\n",
       "      <td>-512</td>\n",
       "      <td>Cash through the bank</td>\n",
       "      <td>XAP</td>\n",
       "      <td>NaN</td>\n",
       "      <td>New</td>\n",
       "      <td>XNA</td>\n",
       "      <td>Cash</td>\n",
       "      <td>walk-in</td>\n",
       "      <td>Credit and cash offices</td>\n",
       "      <td>100</td>\n",
       "      <td>XNA</td>\n",
       "      <td>12.0</td>\n",
       "      <td>high</td>\n",
       "      <td>Cash Street: high</td>\n",
       "      <td>365243.0</td>\n",
       "      <td>-482.0</td>\n",
       "      <td>-152.0</td>\n",
       "      <td>-212.0</td>\n",
       "      <td>-207.0</td>\n",
       "      <td>1.0</td>\n",
       "    </tr>\n",
       "    <tr>\n",
       "      <th>621083</th>\n",
       "      <td>1879930</td>\n",
       "      <td>111997</td>\n",
       "      <td>Consumer loans</td>\n",
       "      <td>14257.080</td>\n",
       "      <td>89428.5</td>\n",
       "      <td>88213.5</td>\n",
       "      <td>9000.0</td>\n",
       "      <td>89428.5</td>\n",
       "      <td>THURSDAY</td>\n",
       "      <td>10</td>\n",
       "      <td>Y</td>\n",
       "      <td>1</td>\n",
       "      <td>0.100828</td>\n",
       "      <td>NaN</td>\n",
       "      <td>NaN</td>\n",
       "      <td>XAP</td>\n",
       "      <td>Approved</td>\n",
       "      <td>-82</td>\n",
       "      <td>Cash through the bank</td>\n",
       "      <td>XAP</td>\n",
       "      <td>NaN</td>\n",
       "      <td>Repeater</td>\n",
       "      <td>Photo / Cinema Equipment</td>\n",
       "      <td>POS</td>\n",
       "      <td>XNA</td>\n",
       "      <td>Country-wide</td>\n",
       "      <td>110</td>\n",
       "      <td>Connectivity</td>\n",
       "      <td>8.0</td>\n",
       "      <td>high</td>\n",
       "      <td>POS mobile with interest</td>\n",
       "      <td>365243.0</td>\n",
       "      <td>-47.0</td>\n",
       "      <td>163.0</td>\n",
       "      <td>365243.0</td>\n",
       "      <td>365243.0</td>\n",
       "      <td>0.0</td>\n",
       "    </tr>\n",
       "    <tr>\n",
       "      <th>359637</th>\n",
       "      <td>1866695</td>\n",
       "      <td>102574</td>\n",
       "      <td>Cash loans</td>\n",
       "      <td>NaN</td>\n",
       "      <td>0.0</td>\n",
       "      <td>0.0</td>\n",
       "      <td>NaN</td>\n",
       "      <td>NaN</td>\n",
       "      <td>WEDNESDAY</td>\n",
       "      <td>14</td>\n",
       "      <td>Y</td>\n",
       "      <td>1</td>\n",
       "      <td>NaN</td>\n",
       "      <td>NaN</td>\n",
       "      <td>NaN</td>\n",
       "      <td>XNA</td>\n",
       "      <td>Canceled</td>\n",
       "      <td>-280</td>\n",
       "      <td>XNA</td>\n",
       "      <td>XAP</td>\n",
       "      <td>NaN</td>\n",
       "      <td>Repeater</td>\n",
       "      <td>XNA</td>\n",
       "      <td>XNA</td>\n",
       "      <td>XNA</td>\n",
       "      <td>Credit and cash offices</td>\n",
       "      <td>-1</td>\n",
       "      <td>XNA</td>\n",
       "      <td>NaN</td>\n",
       "      <td>XNA</td>\n",
       "      <td>Cash</td>\n",
       "      <td>NaN</td>\n",
       "      <td>NaN</td>\n",
       "      <td>NaN</td>\n",
       "      <td>NaN</td>\n",
       "      <td>NaN</td>\n",
       "      <td>NaN</td>\n",
       "    </tr>\n",
       "    <tr>\n",
       "      <th>365882</th>\n",
       "      <td>2543674</td>\n",
       "      <td>199921</td>\n",
       "      <td>Cash loans</td>\n",
       "      <td>NaN</td>\n",
       "      <td>0.0</td>\n",
       "      <td>0.0</td>\n",
       "      <td>NaN</td>\n",
       "      <td>NaN</td>\n",
       "      <td>TUESDAY</td>\n",
       "      <td>7</td>\n",
       "      <td>Y</td>\n",
       "      <td>1</td>\n",
       "      <td>NaN</td>\n",
       "      <td>NaN</td>\n",
       "      <td>NaN</td>\n",
       "      <td>XNA</td>\n",
       "      <td>Canceled</td>\n",
       "      <td>-49</td>\n",
       "      <td>XNA</td>\n",
       "      <td>XAP</td>\n",
       "      <td>NaN</td>\n",
       "      <td>Repeater</td>\n",
       "      <td>XNA</td>\n",
       "      <td>XNA</td>\n",
       "      <td>XNA</td>\n",
       "      <td>Credit and cash offices</td>\n",
       "      <td>-1</td>\n",
       "      <td>XNA</td>\n",
       "      <td>NaN</td>\n",
       "      <td>XNA</td>\n",
       "      <td>Cash</td>\n",
       "      <td>NaN</td>\n",
       "      <td>NaN</td>\n",
       "      <td>NaN</td>\n",
       "      <td>NaN</td>\n",
       "      <td>NaN</td>\n",
       "      <td>NaN</td>\n",
       "    </tr>\n",
       "    <tr>\n",
       "      <th>1325411</th>\n",
       "      <td>2715956</td>\n",
       "      <td>416632</td>\n",
       "      <td>Revolving loans</td>\n",
       "      <td>2250.000</td>\n",
       "      <td>45000.0</td>\n",
       "      <td>45000.0</td>\n",
       "      <td>NaN</td>\n",
       "      <td>45000.0</td>\n",
       "      <td>FRIDAY</td>\n",
       "      <td>11</td>\n",
       "      <td>Y</td>\n",
       "      <td>1</td>\n",
       "      <td>NaN</td>\n",
       "      <td>NaN</td>\n",
       "      <td>NaN</td>\n",
       "      <td>XAP</td>\n",
       "      <td>Approved</td>\n",
       "      <td>-182</td>\n",
       "      <td>XNA</td>\n",
       "      <td>XAP</td>\n",
       "      <td>Unaccompanied</td>\n",
       "      <td>Repeater</td>\n",
       "      <td>XNA</td>\n",
       "      <td>Cards</td>\n",
       "      <td>walk-in</td>\n",
       "      <td>Credit and cash offices</td>\n",
       "      <td>-1</td>\n",
       "      <td>XNA</td>\n",
       "      <td>0.0</td>\n",
       "      <td>XNA</td>\n",
       "      <td>Card Street</td>\n",
       "      <td>365243.0</td>\n",
       "      <td>365243.0</td>\n",
       "      <td>365243.0</td>\n",
       "      <td>365243.0</td>\n",
       "      <td>365243.0</td>\n",
       "      <td>0.0</td>\n",
       "    </tr>\n",
       "    <tr>\n",
       "      <th>134879</th>\n",
       "      <td>2730546</td>\n",
       "      <td>187093</td>\n",
       "      <td>Consumer loans</td>\n",
       "      <td>6328.710</td>\n",
       "      <td>66996.0</td>\n",
       "      <td>69246.0</td>\n",
       "      <td>0.0</td>\n",
       "      <td>66996.0</td>\n",
       "      <td>MONDAY</td>\n",
       "      <td>19</td>\n",
       "      <td>Y</td>\n",
       "      <td>1</td>\n",
       "      <td>0.000000</td>\n",
       "      <td>NaN</td>\n",
       "      <td>NaN</td>\n",
       "      <td>XAP</td>\n",
       "      <td>Approved</td>\n",
       "      <td>-11</td>\n",
       "      <td>Cash through the bank</td>\n",
       "      <td>XAP</td>\n",
       "      <td>Family</td>\n",
       "      <td>Repeater</td>\n",
       "      <td>Computers</td>\n",
       "      <td>POS</td>\n",
       "      <td>XNA</td>\n",
       "      <td>Country-wide</td>\n",
       "      <td>1500</td>\n",
       "      <td>Consumer electronics</td>\n",
       "      <td>12.0</td>\n",
       "      <td>low_action</td>\n",
       "      <td>POS household without interest</td>\n",
       "      <td>365243.0</td>\n",
       "      <td>365243.0</td>\n",
       "      <td>349.0</td>\n",
       "      <td>365243.0</td>\n",
       "      <td>365243.0</td>\n",
       "      <td>1.0</td>\n",
       "    </tr>\n",
       "    <tr>\n",
       "      <th>148354</th>\n",
       "      <td>1767182</td>\n",
       "      <td>439210</td>\n",
       "      <td>Consumer loans</td>\n",
       "      <td>14559.345</td>\n",
       "      <td>134955.0</td>\n",
       "      <td>121459.5</td>\n",
       "      <td>13495.5</td>\n",
       "      <td>134955.0</td>\n",
       "      <td>WEDNESDAY</td>\n",
       "      <td>12</td>\n",
       "      <td>Y</td>\n",
       "      <td>1</td>\n",
       "      <td>0.108909</td>\n",
       "      <td>NaN</td>\n",
       "      <td>NaN</td>\n",
       "      <td>XAP</td>\n",
       "      <td>Approved</td>\n",
       "      <td>-1076</td>\n",
       "      <td>Cash through the bank</td>\n",
       "      <td>XAP</td>\n",
       "      <td>NaN</td>\n",
       "      <td>New</td>\n",
       "      <td>Mobile</td>\n",
       "      <td>POS</td>\n",
       "      <td>XNA</td>\n",
       "      <td>Regional / Local</td>\n",
       "      <td>15</td>\n",
       "      <td>Consumer electronics</td>\n",
       "      <td>12.0</td>\n",
       "      <td>high</td>\n",
       "      <td>POS other with interest</td>\n",
       "      <td>365243.0</td>\n",
       "      <td>-1041.0</td>\n",
       "      <td>-711.0</td>\n",
       "      <td>-711.0</td>\n",
       "      <td>-708.0</td>\n",
       "      <td>0.0</td>\n",
       "    </tr>\n",
       "    <tr>\n",
       "      <th>392240</th>\n",
       "      <td>1129787</td>\n",
       "      <td>250409</td>\n",
       "      <td>Consumer loans</td>\n",
       "      <td>5212.080</td>\n",
       "      <td>115695.0</td>\n",
       "      <td>115695.0</td>\n",
       "      <td>0.0</td>\n",
       "      <td>115695.0</td>\n",
       "      <td>SUNDAY</td>\n",
       "      <td>15</td>\n",
       "      <td>Y</td>\n",
       "      <td>1</td>\n",
       "      <td>0.000000</td>\n",
       "      <td>NaN</td>\n",
       "      <td>NaN</td>\n",
       "      <td>XAP</td>\n",
       "      <td>Approved</td>\n",
       "      <td>-615</td>\n",
       "      <td>Cash through the bank</td>\n",
       "      <td>XAP</td>\n",
       "      <td>NaN</td>\n",
       "      <td>New</td>\n",
       "      <td>Consumer Electronics</td>\n",
       "      <td>POS</td>\n",
       "      <td>XNA</td>\n",
       "      <td>Country-wide</td>\n",
       "      <td>1500</td>\n",
       "      <td>Consumer electronics</td>\n",
       "      <td>24.0</td>\n",
       "      <td>low_action</td>\n",
       "      <td>POS household without interest</td>\n",
       "      <td>365243.0</td>\n",
       "      <td>-584.0</td>\n",
       "      <td>106.0</td>\n",
       "      <td>-194.0</td>\n",
       "      <td>-188.0</td>\n",
       "      <td>0.0</td>\n",
       "    </tr>\n",
       "    <tr>\n",
       "      <th>1106009</th>\n",
       "      <td>2686833</td>\n",
       "      <td>170043</td>\n",
       "      <td>Consumer loans</td>\n",
       "      <td>35650.215</td>\n",
       "      <td>362520.0</td>\n",
       "      <td>362520.0</td>\n",
       "      <td>0.0</td>\n",
       "      <td>362520.0</td>\n",
       "      <td>SUNDAY</td>\n",
       "      <td>7</td>\n",
       "      <td>Y</td>\n",
       "      <td>1</td>\n",
       "      <td>0.000000</td>\n",
       "      <td>NaN</td>\n",
       "      <td>NaN</td>\n",
       "      <td>XAP</td>\n",
       "      <td>Approved</td>\n",
       "      <td>-707</td>\n",
       "      <td>Cash through the bank</td>\n",
       "      <td>XAP</td>\n",
       "      <td>NaN</td>\n",
       "      <td>New</td>\n",
       "      <td>Clothing and Accessories</td>\n",
       "      <td>POS</td>\n",
       "      <td>XNA</td>\n",
       "      <td>Stone</td>\n",
       "      <td>85</td>\n",
       "      <td>Clothing</td>\n",
       "      <td>12.0</td>\n",
       "      <td>middle</td>\n",
       "      <td>POS industry with interest</td>\n",
       "      <td>365243.0</td>\n",
       "      <td>-675.0</td>\n",
       "      <td>-345.0</td>\n",
       "      <td>-465.0</td>\n",
       "      <td>-462.0</td>\n",
       "      <td>0.0</td>\n",
       "    </tr>\n",
       "  </tbody>\n",
       "</table>\n",
       "</div>"
      ],
      "text/plain": [
       "         SK_ID_PREV  SK_ID_CURR NAME_CONTRACT_TYPE  AMT_ANNUITY  \\\n",
       "1403575     2386847      318661     Consumer loans    10125.900   \n",
       "1015955     2539072      446597         Cash loans    32811.750   \n",
       "621083      1879930      111997     Consumer loans    14257.080   \n",
       "359637      1866695      102574         Cash loans          NaN   \n",
       "365882      2543674      199921         Cash loans          NaN   \n",
       "1325411     2715956      416632    Revolving loans     2250.000   \n",
       "134879      2730546      187093     Consumer loans     6328.710   \n",
       "148354      1767182      439210     Consumer loans    14559.345   \n",
       "392240      1129787      250409     Consumer loans     5212.080   \n",
       "1106009     2686833      170043     Consumer loans    35650.215   \n",
       "\n",
       "         AMT_APPLICATION  AMT_CREDIT  AMT_DOWN_PAYMENT  AMT_GOODS_PRICE  \\\n",
       "1403575         150678.0     99954.0           60273.0         150678.0   \n",
       "1015955         225000.0    275373.0               NaN         225000.0   \n",
       "621083           89428.5     88213.5            9000.0          89428.5   \n",
       "359637               0.0         0.0               NaN              NaN   \n",
       "365882               0.0         0.0               NaN              NaN   \n",
       "1325411          45000.0     45000.0               NaN          45000.0   \n",
       "134879           66996.0     69246.0               0.0          66996.0   \n",
       "148354          134955.0    121459.5           13495.5         134955.0   \n",
       "392240          115695.0    115695.0               0.0         115695.0   \n",
       "1106009         362520.0    362520.0               0.0         362520.0   \n",
       "\n",
       "        WEEKDAY_APPR_PROCESS_START  HOUR_APPR_PROCESS_START  \\\n",
       "1403575                   THURSDAY                       16   \n",
       "1015955                  WEDNESDAY                       11   \n",
       "621083                    THURSDAY                       10   \n",
       "359637                   WEDNESDAY                       14   \n",
       "365882                     TUESDAY                        7   \n",
       "1325411                     FRIDAY                       11   \n",
       "134879                      MONDAY                       19   \n",
       "148354                   WEDNESDAY                       12   \n",
       "392240                      SUNDAY                       15   \n",
       "1106009                     SUNDAY                        7   \n",
       "\n",
       "        FLAG_LAST_APPL_PER_CONTRACT  NFLAG_LAST_APPL_IN_DAY  \\\n",
       "1403575                           Y                       1   \n",
       "1015955                           Y                       1   \n",
       "621083                            Y                       1   \n",
       "359637                            Y                       1   \n",
       "365882                            Y                       1   \n",
       "1325411                           Y                       1   \n",
       "134879                            Y                       1   \n",
       "148354                            Y                       1   \n",
       "392240                            Y                       1   \n",
       "1106009                           Y                       1   \n",
       "\n",
       "         RATE_DOWN_PAYMENT  RATE_INTEREST_PRIMARY  RATE_INTEREST_PRIVILEGED  \\\n",
       "1403575           0.409686                    NaN                       NaN   \n",
       "1015955                NaN                    NaN                       NaN   \n",
       "621083            0.100828                    NaN                       NaN   \n",
       "359637                 NaN                    NaN                       NaN   \n",
       "365882                 NaN                    NaN                       NaN   \n",
       "1325411                NaN                    NaN                       NaN   \n",
       "134879            0.000000                    NaN                       NaN   \n",
       "148354            0.108909                    NaN                       NaN   \n",
       "392240            0.000000                    NaN                       NaN   \n",
       "1106009           0.000000                    NaN                       NaN   \n",
       "\n",
       "        NAME_CASH_LOAN_PURPOSE NAME_CONTRACT_STATUS  DAYS_DECISION  \\\n",
       "1403575                    XAP             Approved          -1035   \n",
       "1015955                Journey             Approved           -512   \n",
       "621083                     XAP             Approved            -82   \n",
       "359637                     XNA             Canceled           -280   \n",
       "365882                     XNA             Canceled            -49   \n",
       "1325411                    XAP             Approved           -182   \n",
       "134879                     XAP             Approved            -11   \n",
       "148354                     XAP             Approved          -1076   \n",
       "392240                     XAP             Approved           -615   \n",
       "1106009                    XAP             Approved           -707   \n",
       "\n",
       "             NAME_PAYMENT_TYPE CODE_REJECT_REASON NAME_TYPE_SUITE  \\\n",
       "1403575                    XNA                XAP        Children   \n",
       "1015955  Cash through the bank                XAP             NaN   \n",
       "621083   Cash through the bank                XAP             NaN   \n",
       "359637                     XNA                XAP             NaN   \n",
       "365882                     XNA                XAP             NaN   \n",
       "1325411                    XNA                XAP   Unaccompanied   \n",
       "134879   Cash through the bank                XAP          Family   \n",
       "148354   Cash through the bank                XAP             NaN   \n",
       "392240   Cash through the bank                XAP             NaN   \n",
       "1106009  Cash through the bank                XAP             NaN   \n",
       "\n",
       "        NAME_CLIENT_TYPE       NAME_GOODS_CATEGORY NAME_PORTFOLIO  \\\n",
       "1403575              New                 Computers            POS   \n",
       "1015955              New                       XNA           Cash   \n",
       "621083          Repeater  Photo / Cinema Equipment            POS   \n",
       "359637          Repeater                       XNA            XNA   \n",
       "365882          Repeater                       XNA            XNA   \n",
       "1325411         Repeater                       XNA          Cards   \n",
       "134879          Repeater                 Computers            POS   \n",
       "148354               New                    Mobile            POS   \n",
       "392240               New      Consumer Electronics            POS   \n",
       "1106009              New  Clothing and Accessories            POS   \n",
       "\n",
       "        NAME_PRODUCT_TYPE             CHANNEL_TYPE  SELLERPLACE_AREA  \\\n",
       "1403575               XNA         Regional / Local               150   \n",
       "1015955           walk-in  Credit and cash offices               100   \n",
       "621083                XNA             Country-wide               110   \n",
       "359637                XNA  Credit and cash offices                -1   \n",
       "365882                XNA  Credit and cash offices                -1   \n",
       "1325411           walk-in  Credit and cash offices                -1   \n",
       "134879                XNA             Country-wide              1500   \n",
       "148354                XNA         Regional / Local                15   \n",
       "392240                XNA             Country-wide              1500   \n",
       "1106009               XNA                    Stone                85   \n",
       "\n",
       "         NAME_SELLER_INDUSTRY  CNT_PAYMENT NAME_YIELD_GROUP  \\\n",
       "1403575  Consumer electronics         12.0           middle   \n",
       "1015955                   XNA         12.0             high   \n",
       "621083           Connectivity          8.0             high   \n",
       "359637                    XNA          NaN              XNA   \n",
       "365882                    XNA          NaN              XNA   \n",
       "1325411                   XNA          0.0              XNA   \n",
       "134879   Consumer electronics         12.0       low_action   \n",
       "148354   Consumer electronics         12.0             high   \n",
       "392240   Consumer electronics         24.0       low_action   \n",
       "1106009              Clothing         12.0           middle   \n",
       "\n",
       "                    PRODUCT_COMBINATION  DAYS_FIRST_DRAWING  DAYS_FIRST_DUE  \\\n",
       "1403575     POS household with interest            365243.0         -1004.0   \n",
       "1015955               Cash Street: high            365243.0          -482.0   \n",
       "621083         POS mobile with interest            365243.0           -47.0   \n",
       "359637                             Cash                 NaN             NaN   \n",
       "365882                             Cash                 NaN             NaN   \n",
       "1325411                     Card Street            365243.0        365243.0   \n",
       "134879   POS household without interest            365243.0        365243.0   \n",
       "148354          POS other with interest            365243.0         -1041.0   \n",
       "392240   POS household without interest            365243.0          -584.0   \n",
       "1106009      POS industry with interest            365243.0          -675.0   \n",
       "\n",
       "         DAYS_LAST_DUE_1ST_VERSION  DAYS_LAST_DUE  DAYS_TERMINATION  \\\n",
       "1403575                     -674.0         -704.0            -695.0   \n",
       "1015955                     -152.0         -212.0            -207.0   \n",
       "621083                       163.0       365243.0          365243.0   \n",
       "359637                         NaN            NaN               NaN   \n",
       "365882                         NaN            NaN               NaN   \n",
       "1325411                   365243.0       365243.0          365243.0   \n",
       "134879                       349.0       365243.0          365243.0   \n",
       "148354                      -711.0         -711.0            -708.0   \n",
       "392240                       106.0         -194.0            -188.0   \n",
       "1106009                     -345.0         -465.0            -462.0   \n",
       "\n",
       "         NFLAG_INSURED_ON_APPROVAL  \n",
       "1403575                        0.0  \n",
       "1015955                        1.0  \n",
       "621083                         0.0  \n",
       "359637                         NaN  \n",
       "365882                         NaN  \n",
       "1325411                        0.0  \n",
       "134879                         1.0  \n",
       "148354                         0.0  \n",
       "392240                         0.0  \n",
       "1106009                        0.0  "
      ]
     },
     "execution_count": 6,
     "metadata": {},
     "output_type": "execute_result"
    }
   ],
   "source": [
    "prev.sample(10)"
   ]
  },
  {
   "cell_type": "code",
   "execution_count": 7,
   "metadata": {},
   "outputs": [],
   "source": [
    "def most_recent_sk_id(curr_sk_id):\n",
    "    columns = prev[prev[\"SK_ID_CURR\"] == curr_sk_id]\n",
    "    most_recent_loan = columns[columns[\"DAYS_DECISION\"] == max(columns[\"DAYS_DECISION\"])]\n",
    "    recent_prev_sk_id = list(most_recent_loan[\"SK_ID_PREV\"])[0]\n",
    "    return recent_prev_sk_id"
   ]
  },
  {
   "cell_type": "code",
   "execution_count": 8,
   "metadata": {},
   "outputs": [],
   "source": [
    "largest_idx = prev.groupby([\"SK_ID_CURR\"], sort=False)['DAYS_DECISION'].idxmax()"
   ]
  },
  {
   "cell_type": "code",
   "execution_count": 9,
   "metadata": {},
   "outputs": [],
   "source": [
    "def get_most_recent(prev_df):\n",
    "    largest_idx = prev_df.groupby([\"SK_ID_CURR\"], sort=False)['DAYS_DECISION'].idxmax()\n",
    "    return prev_df[prev_df.index.isin(largest_idx.values)]"
   ]
  },
  {
   "cell_type": "code",
   "execution_count": 10,
   "metadata": {},
   "outputs": [],
   "source": [
    "most_recent = get_most_recent(prev)"
   ]
  },
  {
   "cell_type": "code",
   "execution_count": 11,
   "metadata": {
    "scrolled": true
   },
   "outputs": [
    {
     "data": {
      "text/plain": [
       "338857"
      ]
     },
     "execution_count": 11,
     "metadata": {},
     "output_type": "execute_result"
    }
   ],
   "source": [
    "len(most_recent)"
   ]
  },
  {
   "cell_type": "code",
   "execution_count": 12,
   "metadata": {},
   "outputs": [],
   "source": [
    "joined_df = pd.merge(merged_df, most_recent, how='left', on=['SK_ID_CURR'], suffixes=[\"\", \"_add_1\"])"
   ]
  },
  {
   "cell_type": "code",
   "execution_count": 13,
   "metadata": {},
   "outputs": [
    {
     "data": {
      "text/plain": [
       "356255"
      ]
     },
     "execution_count": 13,
     "metadata": {},
     "output_type": "execute_result"
    }
   ],
   "source": [
    "len(joined_df)"
   ]
  },
  {
   "cell_type": "code",
   "execution_count": 14,
   "metadata": {},
   "outputs": [],
   "source": [
    "train_df = joined_df.loc[joined_df[SK_ID_CURR].isin(application_train[SK_ID_CURR])]"
   ]
  },
  {
   "cell_type": "code",
   "execution_count": 15,
   "metadata": {},
   "outputs": [],
   "source": [
    "test_df = joined_df.loc[joined_df[SK_ID_CURR].isin(application_test[SK_ID_CURR])]"
   ]
  },
  {
   "cell_type": "code",
   "execution_count": 16,
   "metadata": {},
   "outputs": [],
   "source": [
    "assert(len(train_df) == len(application_train))"
   ]
  },
  {
   "cell_type": "code",
   "execution_count": 17,
   "metadata": {},
   "outputs": [],
   "source": [
    "assert(len(test_df) == len(application_test))"
   ]
  },
  {
   "cell_type": "code",
   "execution_count": 18,
   "metadata": {},
   "outputs": [
    {
     "data": {
      "text/plain": [
       "249"
      ]
     },
     "execution_count": 18,
     "metadata": {},
     "output_type": "execute_result"
    }
   ],
   "source": [
    "len(train_df.columns)"
   ]
  },
  {
   "cell_type": "code",
   "execution_count": 19,
   "metadata": {},
   "outputs": [],
   "source": [
    "samp_size = len(train_df)"
   ]
  },
  {
   "cell_type": "code",
   "execution_count": 20,
   "metadata": {},
   "outputs": [],
   "source": [
    "train_ratio  = 0.75\n",
    "train_size = int(samp_size * train_ratio); train_size\n",
    "val_idx = list(range(train_size, len(train_df)))"
   ]
  },
  {
   "cell_type": "code",
   "execution_count": 21,
   "metadata": {
    "scrolled": true
   },
   "outputs": [
    {
     "data": {
      "text/plain": [
       "[230633,\n",
       " 230634,\n",
       " 230635,\n",
       " 230636,\n",
       " 230637,\n",
       " 230638,\n",
       " 230639,\n",
       " 230640,\n",
       " 230641,\n",
       " 230642]"
      ]
     },
     "execution_count": 21,
     "metadata": {},
     "output_type": "execute_result"
    }
   ],
   "source": [
    "val_idx[:10]"
   ]
  },
  {
   "cell_type": "code",
   "execution_count": 22,
   "metadata": {},
   "outputs": [],
   "source": [
    "column_type_map = joined_df.columns.to_series().groupby(joined_df.dtypes).groups"
   ]
  },
  {
   "cell_type": "code",
   "execution_count": 23,
   "metadata": {},
   "outputs": [],
   "source": [
    "dtype_int64, dtype_float64, dtype_o = column_type_map.keys()"
   ]
  },
  {
   "cell_type": "code",
   "execution_count": 24,
   "metadata": {},
   "outputs": [
    {
     "data": {
      "text/plain": [
       "Index(['CNT_CHILDREN', 'DAYS_BIRTH', 'DAYS_EMPLOYED', 'DAYS_ID_PUBLISH',\n",
       "       'FLAG_CONT_MOBILE', 'FLAG_DOCUMENT_10', 'FLAG_DOCUMENT_11',\n",
       "       'FLAG_DOCUMENT_12', 'FLAG_DOCUMENT_13', 'FLAG_DOCUMENT_14',\n",
       "       'FLAG_DOCUMENT_15', 'FLAG_DOCUMENT_16', 'FLAG_DOCUMENT_17',\n",
       "       'FLAG_DOCUMENT_18', 'FLAG_DOCUMENT_19', 'FLAG_DOCUMENT_2',\n",
       "       'FLAG_DOCUMENT_20', 'FLAG_DOCUMENT_21', 'FLAG_DOCUMENT_3',\n",
       "       'FLAG_DOCUMENT_4', 'FLAG_DOCUMENT_5', 'FLAG_DOCUMENT_6',\n",
       "       'FLAG_DOCUMENT_7', 'FLAG_DOCUMENT_8', 'FLAG_DOCUMENT_9', 'FLAG_EMAIL',\n",
       "       'FLAG_EMP_PHONE', 'FLAG_MOBIL', 'FLAG_PHONE', 'FLAG_WORK_PHONE',\n",
       "       'HOUR_APPR_PROCESS_START', 'LIVE_CITY_NOT_WORK_CITY',\n",
       "       'LIVE_REGION_NOT_WORK_REGION', 'REGION_RATING_CLIENT',\n",
       "       'REGION_RATING_CLIENT_W_CITY', 'REG_CITY_NOT_LIVE_CITY',\n",
       "       'REG_CITY_NOT_WORK_CITY', 'REG_REGION_NOT_LIVE_REGION',\n",
       "       'REG_REGION_NOT_WORK_REGION', 'SK_ID_CURR'],\n",
       "      dtype='object')"
      ]
     },
     "execution_count": 24,
     "metadata": {},
     "output_type": "execute_result"
    }
   ],
   "source": [
    "column_type_map[dtype_int64]"
   ]
  },
  {
   "cell_type": "code",
   "execution_count": 25,
   "metadata": {},
   "outputs": [
    {
     "data": {
      "text/plain": [
       "Index(['CODE_GENDER', 'EMERGENCYSTATE_MODE', 'FLAG_OWN_CAR', 'FLAG_OWN_REALTY',\n",
       "       'FONDKAPREMONT_MODE', 'HOUSETYPE_MODE', 'NAME_CONTRACT_TYPE',\n",
       "       'NAME_EDUCATION_TYPE', 'NAME_FAMILY_STATUS', 'NAME_HOUSING_TYPE',\n",
       "       'NAME_INCOME_TYPE', 'NAME_TYPE_SUITE', 'OCCUPATION_TYPE',\n",
       "       'ORGANIZATION_TYPE', 'WALLSMATERIAL_MODE', 'WEEKDAY_APPR_PROCESS_START',\n",
       "       'NAME_CONTRACT_TYPE_BAVG', 'WEEKDAY_APPR_PROCESS_START_BAVG',\n",
       "       'FLAG_LAST_APPL_PER_CONTRACT', 'NAME_CASH_LOAN_PURPOSE',\n",
       "       'NAME_CONTRACT_STATUS', 'NAME_PAYMENT_TYPE', 'CODE_REJECT_REASON',\n",
       "       'NAME_TYPE_SUITE_BAVG', 'NAME_CLIENT_TYPE', 'NAME_GOODS_CATEGORY',\n",
       "       'NAME_PORTFOLIO', 'NAME_PRODUCT_TYPE', 'CHANNEL_TYPE',\n",
       "       'NAME_SELLER_INDUSTRY', 'NAME_YIELD_GROUP', 'PRODUCT_COMBINATION',\n",
       "       'NAME_CONTRACT_STATUS_CCAVG', 'STATUS', 'NAME_CONTRACT_STATUS_CAVG',\n",
       "       'NAME_CONTRACT_TYPE_add_1', 'WEEKDAY_APPR_PROCESS_START_add_1',\n",
       "       'FLAG_LAST_APPL_PER_CONTRACT_add_1', 'NAME_CASH_LOAN_PURPOSE_add_1',\n",
       "       'NAME_CONTRACT_STATUS_add_1', 'NAME_PAYMENT_TYPE_add_1',\n",
       "       'CODE_REJECT_REASON_add_1', 'NAME_TYPE_SUITE_add_1',\n",
       "       'NAME_CLIENT_TYPE_add_1', 'NAME_GOODS_CATEGORY_add_1',\n",
       "       'NAME_PORTFOLIO_add_1', 'NAME_PRODUCT_TYPE_add_1', 'CHANNEL_TYPE_add_1',\n",
       "       'NAME_SELLER_INDUSTRY_add_1', 'NAME_YIELD_GROUP_add_1',\n",
       "       'PRODUCT_COMBINATION_add_1'],\n",
       "      dtype='object')"
      ]
     },
     "execution_count": 25,
     "metadata": {},
     "output_type": "execute_result"
    }
   ],
   "source": [
    "column_type_map[dtype_o]"
   ]
  },
  {
   "cell_type": "code",
   "execution_count": 26,
   "metadata": {},
   "outputs": [],
   "source": [
    "cat_vars  = list(set(column_type_map[dtype_int64])) + list(set(column_type_map[dtype_o]))"
   ]
  },
  {
   "cell_type": "code",
   "execution_count": 27,
   "metadata": {},
   "outputs": [],
   "source": [
    "days = []\n",
    "for var in cat_vars:\n",
    "    if \"DAYS\" in var:\n",
    "        days.append(var)"
   ]
  },
  {
   "cell_type": "code",
   "execution_count": 28,
   "metadata": {},
   "outputs": [],
   "source": [
    "not_cat = [\"SK_ID_CURR\"] + days"
   ]
  },
  {
   "cell_type": "code",
   "execution_count": 29,
   "metadata": {},
   "outputs": [
    {
     "data": {
      "text/plain": [
       "['SK_ID_CURR', 'DAYS_BIRTH', 'DAYS_EMPLOYED', 'DAYS_ID_PUBLISH']"
      ]
     },
     "execution_count": 29,
     "metadata": {},
     "output_type": "execute_result"
    }
   ],
   "source": [
    "not_cat"
   ]
  },
  {
   "cell_type": "code",
   "execution_count": 30,
   "metadata": {},
   "outputs": [
    {
     "data": {
      "text/plain": [
       "['SK_ID_CURR', 'DAYS_BIRTH', 'DAYS_EMPLOYED', 'DAYS_ID_PUBLISH']"
      ]
     },
     "execution_count": 30,
     "metadata": {},
     "output_type": "execute_result"
    }
   ],
   "source": [
    "not_cat"
   ]
  },
  {
   "cell_type": "code",
   "execution_count": 31,
   "metadata": {},
   "outputs": [],
   "source": [
    "# train_df[\"SK_ID_CURR\"] = train_df[\"SK_ID_CURR\"].astype(\"int64\")"
   ]
  },
  {
   "cell_type": "code",
   "execution_count": 32,
   "metadata": {},
   "outputs": [],
   "source": [
    "# test_df[\"SK_ID_CURR\"] = train_df[\"SK_ID_CURR\"].astype(\"int64\")"
   ]
  },
  {
   "cell_type": "code",
   "execution_count": 33,
   "metadata": {},
   "outputs": [],
   "source": [
    "cat_vars = list(set(cat_vars) - set(not_cat))"
   ]
  },
  {
   "cell_type": "code",
   "execution_count": 34,
   "metadata": {},
   "outputs": [],
   "source": [
    "cat_vars = list(set(cat_vars) - set(days))"
   ]
  },
  {
   "cell_type": "code",
   "execution_count": 35,
   "metadata": {
    "scrolled": true
   },
   "outputs": [
    {
     "data": {
      "text/plain": [
       "['FLAG_DOCUMENT_12',\n",
       " 'PRODUCT_COMBINATION_add_1',\n",
       " 'NAME_YIELD_GROUP_add_1',\n",
       " 'NAME_CONTRACT_TYPE_BAVG',\n",
       " 'HOUR_APPR_PROCESS_START',\n",
       " 'FLAG_EMAIL',\n",
       " 'REG_REGION_NOT_WORK_REGION',\n",
       " 'FLAG_MOBIL',\n",
       " 'FLAG_DOCUMENT_19',\n",
       " 'NAME_PORTFOLIO_add_1',\n",
       " 'NAME_PAYMENT_TYPE_add_1',\n",
       " 'FLAG_DOCUMENT_6',\n",
       " 'NAME_CONTRACT_TYPE_add_1',\n",
       " 'FLAG_OWN_CAR',\n",
       " 'FLAG_DOCUMENT_7',\n",
       " 'PRODUCT_COMBINATION',\n",
       " 'STATUS',\n",
       " 'ORGANIZATION_TYPE',\n",
       " 'FLAG_LAST_APPL_PER_CONTRACT',\n",
       " 'FLAG_DOCUMENT_2',\n",
       " 'LIVE_CITY_NOT_WORK_CITY',\n",
       " 'FLAG_DOCUMENT_5',\n",
       " 'FLAG_DOCUMENT_15',\n",
       " 'REG_CITY_NOT_LIVE_CITY',\n",
       " 'WEEKDAY_APPR_PROCESS_START_add_1',\n",
       " 'NAME_EDUCATION_TYPE',\n",
       " 'CNT_CHILDREN',\n",
       " 'NAME_CONTRACT_STATUS',\n",
       " 'NAME_GOODS_CATEGORY_add_1',\n",
       " 'NAME_HOUSING_TYPE',\n",
       " 'FLAG_DOCUMENT_4',\n",
       " 'FLAG_WORK_PHONE',\n",
       " 'NAME_GOODS_CATEGORY',\n",
       " 'CHANNEL_TYPE',\n",
       " 'FLAG_DOCUMENT_14',\n",
       " 'NAME_YIELD_GROUP',\n",
       " 'FLAG_DOCUMENT_11',\n",
       " 'NAME_PRODUCT_TYPE',\n",
       " 'HOUSETYPE_MODE',\n",
       " 'EMERGENCYSTATE_MODE',\n",
       " 'FLAG_DOCUMENT_16',\n",
       " 'FONDKAPREMONT_MODE',\n",
       " 'CODE_REJECT_REASON_add_1',\n",
       " 'NAME_PRODUCT_TYPE_add_1',\n",
       " 'WEEKDAY_APPR_PROCESS_START',\n",
       " 'FLAG_EMP_PHONE',\n",
       " 'NAME_FAMILY_STATUS',\n",
       " 'WALLSMATERIAL_MODE',\n",
       " 'FLAG_DOCUMENT_17',\n",
       " 'WEEKDAY_APPR_PROCESS_START_BAVG',\n",
       " 'NAME_TYPE_SUITE',\n",
       " 'REGION_RATING_CLIENT',\n",
       " 'REGION_RATING_CLIENT_W_CITY',\n",
       " 'CODE_REJECT_REASON',\n",
       " 'FLAG_DOCUMENT_8',\n",
       " 'NAME_PAYMENT_TYPE',\n",
       " 'NAME_PORTFOLIO',\n",
       " 'NAME_CLIENT_TYPE_add_1',\n",
       " 'NAME_SELLER_INDUSTRY',\n",
       " 'NAME_TYPE_SUITE_add_1',\n",
       " 'FLAG_DOCUMENT_9',\n",
       " 'FLAG_DOCUMENT_10',\n",
       " 'NAME_SELLER_INDUSTRY_add_1',\n",
       " 'FLAG_DOCUMENT_3',\n",
       " 'NAME_CONTRACT_STATUS_add_1',\n",
       " 'FLAG_PHONE',\n",
       " 'CHANNEL_TYPE_add_1',\n",
       " 'FLAG_DOCUMENT_18',\n",
       " 'NAME_INCOME_TYPE',\n",
       " 'NAME_CONTRACT_STATUS_CCAVG',\n",
       " 'NAME_TYPE_SUITE_BAVG',\n",
       " 'OCCUPATION_TYPE',\n",
       " 'FLAG_LAST_APPL_PER_CONTRACT_add_1',\n",
       " 'NAME_CONTRACT_STATUS_CAVG',\n",
       " 'NAME_CASH_LOAN_PURPOSE',\n",
       " 'FLAG_OWN_REALTY',\n",
       " 'NAME_CONTRACT_TYPE',\n",
       " 'FLAG_CONT_MOBILE',\n",
       " 'FLAG_DOCUMENT_20',\n",
       " 'NAME_CASH_LOAN_PURPOSE_add_1',\n",
       " 'REG_REGION_NOT_LIVE_REGION',\n",
       " 'FLAG_DOCUMENT_13',\n",
       " 'NAME_CLIENT_TYPE',\n",
       " 'LIVE_REGION_NOT_WORK_REGION',\n",
       " 'FLAG_DOCUMENT_21',\n",
       " 'REG_CITY_NOT_WORK_CITY',\n",
       " 'CODE_GENDER']"
      ]
     },
     "execution_count": 35,
     "metadata": {},
     "output_type": "execute_result"
    }
   ],
   "source": [
    "cat_vars"
   ]
  },
  {
   "cell_type": "code",
   "execution_count": 36,
   "metadata": {},
   "outputs": [],
   "source": [
    "contin_vars = list(set(column_type_map[dtype_float64])) + not_cat"
   ]
  },
  {
   "cell_type": "code",
   "execution_count": 37,
   "metadata": {},
   "outputs": [
    {
     "data": {
      "text/plain": [
       "['SK_ID_CURR', 'DAYS_BIRTH', 'DAYS_EMPLOYED', 'DAYS_ID_PUBLISH']"
      ]
     },
     "execution_count": 37,
     "metadata": {},
     "output_type": "execute_result"
    }
   ],
   "source": [
    "not_cat"
   ]
  },
  {
   "cell_type": "code",
   "execution_count": 38,
   "metadata": {},
   "outputs": [
    {
     "data": {
      "text/plain": [
       "['EXT_SOURCE_3',\n",
       " 'AMT_DOWN_PAYMENT_add_1',\n",
       " 'LIVINGAPARTMENTS_MEDI',\n",
       " 'NFLAG_INSURED_ON_APPROVAL_add_1',\n",
       " 'YEARS_BUILD_MEDI',\n",
       " 'CNT_PAYMENT',\n",
       " 'RATE_INTEREST_PRIVILEGED_add_1',\n",
       " 'MONTHS_BALANCE',\n",
       " 'DAYS_TERMINATION',\n",
       " 'NFLAG_LAST_APPL_IN_DAY_add_1',\n",
       " 'YEARS_BEGINEXPLUATATION_MODE',\n",
       " 'DAYS_INSTALMENT',\n",
       " 'AMT_CREDIT_SUM_DEBT',\n",
       " 'AMT_REQ_CREDIT_BUREAU_QRT',\n",
       " 'RATE_DOWN_PAYMENT',\n",
       " 'SK_DPD_CAVG',\n",
       " 'ENTRANCES_AVG',\n",
       " 'AMT_BALANCE',\n",
       " 'SK_DPD',\n",
       " 'SK_ID_PREV_IAVG',\n",
       " 'AMT_ANNUITY',\n",
       " 'TOTAL PREV LOAN AMT',\n",
       " 'CNT_INSTALMENT_FUTURE',\n",
       " 'AMT_CREDIT_MAX_OVERDUE',\n",
       " 'CNT_PAYMENT_add_1',\n",
       " 'BASEMENTAREA_MEDI',\n",
       " 'AMT_INCOME_TOTAL',\n",
       " 'SELLERPLACE_AREA_add_1',\n",
       " 'DAYS_LAST_DUE_1ST_VERSION',\n",
       " 'DAYS_CREDIT_UPDATE',\n",
       " 'AMT_TOTAL_RECEIVABLE',\n",
       " 'APARTMENTS_MEDI',\n",
       " 'TOTALAREA_MODE',\n",
       " 'ENTRANCES_MODE',\n",
       " 'AMT_PAYMENT_TOTAL_CURRENT',\n",
       " 'PREV APP COUNT',\n",
       " 'COMMONAREA_MEDI',\n",
       " 'CREDIT_DAY_OVERDUE',\n",
       " 'DAYS_ENTRY_PAYMENT',\n",
       " 'YEARS_BEGINEXPLUATATION_MEDI',\n",
       " 'REGION_POPULATION_RELATIVE',\n",
       " 'HOUR_APPR_PROCESS_START_add_1',\n",
       " 'RATE_DOWN_PAYMENT_add_1',\n",
       " 'DEF_30_CNT_SOCIAL_CIRCLE',\n",
       " 'ENTRANCES_MEDI',\n",
       " 'AMT_CREDIT_SUM_LIMIT',\n",
       " 'FLOORSMIN_MEDI',\n",
       " 'AMT_ANNUITY_BAVG',\n",
       " 'AMT_DRAWINGS_CURRENT',\n",
       " 'DAYS_LAST_PHONE_CHANGE',\n",
       " 'DAYS_DECISION',\n",
       " 'LIVINGAPARTMENTS_MODE',\n",
       " 'DAYS_LAST_DUE',\n",
       " 'AMT_ANNUITY_PAVG',\n",
       " 'NONLIVINGAPARTMENTS_MEDI',\n",
       " 'SK_ID_BUREAU',\n",
       " 'SK_ID_CURR_CNT_CRED_CARD',\n",
       " 'DAYS_FIRST_DUE',\n",
       " 'DAYS_TERMINATION_add_1',\n",
       " 'NFLAG_LAST_APPL_IN_DAY',\n",
       " 'RATE_INTEREST_PRIMARY_add_1',\n",
       " 'DAYS_LAST_DUE_1ST_VERSION_add_1',\n",
       " 'AMT_PAYMENT_CURRENT',\n",
       " 'LANDAREA_AVG',\n",
       " 'CNT_FAM_MEMBERS',\n",
       " 'DAYS_LAST_DUE_add_1',\n",
       " 'AMT_GOODS_PRICE',\n",
       " 'AMT_DRAWINGS_ATM_CURRENT',\n",
       " 'FLOORSMIN_AVG',\n",
       " 'AMT_APPLICATION_add_1',\n",
       " 'DEF_60_CNT_SOCIAL_CIRCLE',\n",
       " 'CNT_DRAWINGS_OTHER_CURRENT',\n",
       " 'DAYS_FIRST_DRAWING',\n",
       " 'NFLAG_INSURED_ON_APPROVAL',\n",
       " 'AMT_CREDIT_add_1',\n",
       " 'FLOORSMIN_MODE',\n",
       " 'SK_DPD_DEF_CAVG',\n",
       " 'AMT_REQ_CREDIT_BUREAU_MON',\n",
       " 'CNT_INSTALMENT',\n",
       " 'APARTMENTS_MODE',\n",
       " 'NONLIVINGAREA_MEDI',\n",
       " 'YEARS_BUILD_AVG',\n",
       " 'APARTMENTS_AVG',\n",
       " 'CNT_DRAWINGS_ATM_CURRENT',\n",
       " 'AMT_CREDIT_LIMIT_ACTUAL',\n",
       " 'CNT_DRAWINGS_POS_CURRENT',\n",
       " 'CNT_DRAWINGS_CURRENT',\n",
       " 'AMT_DRAWINGS_POS_CURRENT',\n",
       " 'FLOORSMAX_MEDI',\n",
       " 'LANDAREA_MEDI',\n",
       " 'DAYS_FIRST_DRAWING_add_1',\n",
       " 'NONLIVINGAPARTMENTS_AVG',\n",
       " 'AMT_INST_MIN_REGULARITY',\n",
       " 'AMT_PAYMENT',\n",
       " 'AMT_ANNUITY_add_1',\n",
       " 'OWN_CAR_AGE',\n",
       " 'AMT_GOODS_PRICE_PAVG',\n",
       " 'TARGET',\n",
       " 'HOUR_APPR_PROCESS_START_PAVG',\n",
       " 'RATE_INTEREST_PRIVILEGED',\n",
       " 'AMT_REQ_CREDIT_BUREAU_WEEK',\n",
       " 'SK_DPD_DEF',\n",
       " 'AMT_GOODS_PRICE_add_1',\n",
       " 'DAYS_CREDIT_ENDDATE',\n",
       " 'CNT_CREDIT_PROLONG',\n",
       " 'YEARS_BUILD_MODE',\n",
       " 'ELEVATORS_AVG',\n",
       " 'FLOORSMAX_AVG',\n",
       " 'LIVINGAREA_MEDI',\n",
       " 'OBS_60_CNT_SOCIAL_CIRCLE',\n",
       " 'BASEMENTAREA_MODE',\n",
       " 'MONTHS_BALANCE_B_B',\n",
       " 'AMT_RECIVABLE',\n",
       " 'YEARS_BEGINEXPLUATATION_AVG',\n",
       " 'SK_ID_PREV_add_1',\n",
       " 'ELEVATORS_MODE',\n",
       " 'DAYS_DECISION_add_1',\n",
       " 'DAYS_CREDIT',\n",
       " 'DAYS_REGISTRATION',\n",
       " 'LIVINGAPARTMENTS_AVG',\n",
       " 'AMT_APPLICATION',\n",
       " 'COMMONAREA_MODE',\n",
       " 'COMMONAREA_AVG',\n",
       " 'BASEMENTAREA_AVG',\n",
       " 'ELEVATORS_MEDI',\n",
       " 'AMT_CREDIT_SUM',\n",
       " 'AMT_RECEIVABLE_PRINCIPAL',\n",
       " 'DAYS_ENDDATE_FACT',\n",
       " 'AMT_DRAWINGS_OTHER_CURRENT',\n",
       " 'NUM_INSTALMENT_VERSION',\n",
       " 'FLOORSMAX_MODE',\n",
       " 'EXT_SOURCE_2',\n",
       " 'AMT_CREDIT_PAVG',\n",
       " 'NONLIVINGAREA_AVG',\n",
       " 'NONLIVINGAREA_MODE',\n",
       " 'NUM_INSTALMENT_NUMBER',\n",
       " 'SK_ID_CURR_CNT_BUREAU',\n",
       " 'AMT_REQ_CREDIT_BUREAU_DAY',\n",
       " 'AMT_DOWN_PAYMENT',\n",
       " 'CNT_INSTALMENT_MATURE_CUM',\n",
       " 'DAYS_FIRST_DUE_add_1',\n",
       " 'RATE_INTEREST_PRIMARY',\n",
       " 'SK_ID_PREV',\n",
       " 'AMT_INSTALMENT',\n",
       " 'NONLIVINGAPARTMENTS_MODE',\n",
       " 'LIVINGAREA_MODE',\n",
       " 'SK_ID_PREV_CCAVG',\n",
       " 'SK_ID_CURR_CNT_POS_CASH',\n",
       " 'LIVINGAREA_AVG',\n",
       " 'AMT_CREDIT',\n",
       " 'OBS_30_CNT_SOCIAL_CIRCLE',\n",
       " 'AMT_REQ_CREDIT_BUREAU_YEAR',\n",
       " 'SK_ID_CURR_CNT_INSTALL',\n",
       " 'AMT_CREDIT_SUM_OVERDUE',\n",
       " 'SELLERPLACE_AREA',\n",
       " 'AMT_REQ_CREDIT_BUREAU_HOUR',\n",
       " 'EXT_SOURCE_1',\n",
       " 'LANDAREA_MODE',\n",
       " 'SK_ID_CURR',\n",
       " 'DAYS_BIRTH',\n",
       " 'DAYS_EMPLOYED',\n",
       " 'DAYS_ID_PUBLISH']"
      ]
     },
     "execution_count": 38,
     "metadata": {},
     "output_type": "execute_result"
    }
   ],
   "source": [
    "contin_vars"
   ]
  },
  {
   "cell_type": "code",
   "execution_count": 39,
   "metadata": {
    "scrolled": true
   },
   "outputs": [
    {
     "name": "stderr",
     "output_type": "stream",
     "text": [
      "/home/cheeseblubber/anaconda3/envs/fastai-latest/lib/python3.6/site-packages/ipykernel_launcher.py:2: SettingWithCopyWarning: \n",
      "A value is trying to be set on a copy of a slice from a DataFrame.\n",
      "Try using .loc[row_indexer,col_indexer] = value instead\n",
      "\n",
      "See the caveats in the documentation: http://pandas.pydata.org/pandas-docs/stable/indexing.html#indexing-view-versus-copy\n",
      "  \n",
      "/home/cheeseblubber/anaconda3/envs/fastai-latest/lib/python3.6/site-packages/ipykernel_launcher.py:3: SettingWithCopyWarning: \n",
      "A value is trying to be set on a copy of a slice from a DataFrame.\n",
      "Try using .loc[row_indexer,col_indexer] = value instead\n",
      "\n",
      "See the caveats in the documentation: http://pandas.pydata.org/pandas-docs/stable/indexing.html#indexing-view-versus-copy\n",
      "  This is separate from the ipykernel package so we can avoid doing imports until\n"
     ]
    }
   ],
   "source": [
    "for v in cat_vars:\n",
    "    train_df[v] = train_df[v].astype('category')\n",
    "    test_df[v] = test_df[v].astype('category')"
   ]
  },
  {
   "cell_type": "code",
   "execution_count": 40,
   "metadata": {},
   "outputs": [
    {
     "name": "stderr",
     "output_type": "stream",
     "text": [
      "/home/cheeseblubber/anaconda3/envs/fastai-latest/lib/python3.6/site-packages/ipykernel_launcher.py:2: SettingWithCopyWarning: \n",
      "A value is trying to be set on a copy of a slice from a DataFrame.\n",
      "Try using .loc[row_indexer,col_indexer] = value instead\n",
      "\n",
      "See the caveats in the documentation: http://pandas.pydata.org/pandas-docs/stable/indexing.html#indexing-view-versus-copy\n",
      "  \n",
      "/home/cheeseblubber/anaconda3/envs/fastai-latest/lib/python3.6/site-packages/ipykernel_launcher.py:3: SettingWithCopyWarning: \n",
      "A value is trying to be set on a copy of a slice from a DataFrame.\n",
      "Try using .loc[row_indexer,col_indexer] = value instead\n",
      "\n",
      "See the caveats in the documentation: http://pandas.pydata.org/pandas-docs/stable/indexing.html#indexing-view-versus-copy\n",
      "  This is separate from the ipykernel package so we can avoid doing imports until\n"
     ]
    }
   ],
   "source": [
    "for v in contin_vars:\n",
    "    train_df[v] = train_df[v].fillna(0).astype('float32')\n",
    "    test_df[v] = test_df[v].fillna(0).astype('float32')"
   ]
  },
  {
   "cell_type": "code",
   "execution_count": 41,
   "metadata": {},
   "outputs": [],
   "source": [
    "cat_sz = [(c, len(train_df[c].cat.categories)+1) for c in cat_vars]"
   ]
  },
  {
   "cell_type": "code",
   "execution_count": 42,
   "metadata": {},
   "outputs": [
    {
     "name": "stderr",
     "output_type": "stream",
     "text": [
      "/home/cheeseblubber/workspace/competition/home-default-credit/fastai/structured.py:200: SettingWithCopyWarning: \n",
      "A value is trying to be set on a copy of a slice from a DataFrame.\n",
      "Try using .loc[row_indexer,col_indexer] = value instead\n",
      "\n",
      "See the caveats in the documentation: http://pandas.pydata.org/pandas-docs/stable/indexing.html#indexing-view-versus-copy\n",
      "  df[n] = pd.Categorical(c, categories=trn[n].cat.categories, ordered=True)\n"
     ]
    }
   ],
   "source": [
    "apply_cats(test_df, train_df)"
   ]
  },
  {
   "cell_type": "code",
   "execution_count": 43,
   "metadata": {},
   "outputs": [
    {
     "data": {
      "text/plain": [
       "[('FLAG_DOCUMENT_12', 3),\n",
       " ('PRODUCT_COMBINATION_add_1', 18),\n",
       " ('NAME_YIELD_GROUP_add_1', 6),\n",
       " ('NAME_CONTRACT_TYPE_BAVG', 5),\n",
       " ('HOUR_APPR_PROCESS_START', 25),\n",
       " ('FLAG_EMAIL', 3),\n",
       " ('REG_REGION_NOT_WORK_REGION', 3),\n",
       " ('FLAG_MOBIL', 3),\n",
       " ('FLAG_DOCUMENT_19', 3),\n",
       " ('NAME_PORTFOLIO_add_1', 6),\n",
       " ('NAME_PAYMENT_TYPE_add_1', 5),\n",
       " ('FLAG_DOCUMENT_6', 3),\n",
       " ('NAME_CONTRACT_TYPE_add_1', 5),\n",
       " ('FLAG_OWN_CAR', 3),\n",
       " ('FLAG_DOCUMENT_7', 3),\n",
       " ('PRODUCT_COMBINATION', 19),\n",
       " ('STATUS', 9),\n",
       " ('ORGANIZATION_TYPE', 59),\n",
       " ('FLAG_LAST_APPL_PER_CONTRACT', 3),\n",
       " ('FLAG_DOCUMENT_2', 3),\n",
       " ('LIVE_CITY_NOT_WORK_CITY', 3),\n",
       " ('FLAG_DOCUMENT_5', 3),\n",
       " ('FLAG_DOCUMENT_15', 3),\n",
       " ('REG_CITY_NOT_LIVE_CITY', 3),\n",
       " ('WEEKDAY_APPR_PROCESS_START_add_1', 8),\n",
       " ('NAME_EDUCATION_TYPE', 6),\n",
       " ('CNT_CHILDREN', 16),\n",
       " ('NAME_CONTRACT_STATUS', 5),\n",
       " ('NAME_GOODS_CATEGORY_add_1', 27),\n",
       " ('NAME_HOUSING_TYPE', 7),\n",
       " ('FLAG_DOCUMENT_4', 3),\n",
       " ('FLAG_WORK_PHONE', 3),\n",
       " ('NAME_GOODS_CATEGORY', 27),\n",
       " ('CHANNEL_TYPE', 9),\n",
       " ('FLAG_DOCUMENT_14', 3),\n",
       " ('NAME_YIELD_GROUP', 6),\n",
       " ('FLAG_DOCUMENT_11', 3),\n",
       " ('NAME_PRODUCT_TYPE', 4),\n",
       " ('HOUSETYPE_MODE', 4),\n",
       " ('EMERGENCYSTATE_MODE', 3),\n",
       " ('FLAG_DOCUMENT_16', 3),\n",
       " ('FONDKAPREMONT_MODE', 5),\n",
       " ('CODE_REJECT_REASON_add_1', 10),\n",
       " ('NAME_PRODUCT_TYPE_add_1', 4),\n",
       " ('WEEKDAY_APPR_PROCESS_START', 8),\n",
       " ('FLAG_EMP_PHONE', 3),\n",
       " ('NAME_FAMILY_STATUS', 7),\n",
       " ('WALLSMATERIAL_MODE', 8),\n",
       " ('FLAG_DOCUMENT_17', 3),\n",
       " ('WEEKDAY_APPR_PROCESS_START_BAVG', 8),\n",
       " ('NAME_TYPE_SUITE', 8),\n",
       " ('REGION_RATING_CLIENT', 4),\n",
       " ('REGION_RATING_CLIENT_W_CITY', 4),\n",
       " ('CODE_REJECT_REASON', 10),\n",
       " ('FLAG_DOCUMENT_8', 3),\n",
       " ('NAME_PAYMENT_TYPE', 5),\n",
       " ('NAME_PORTFOLIO', 6),\n",
       " ('NAME_CLIENT_TYPE_add_1', 5),\n",
       " ('NAME_SELLER_INDUSTRY', 12),\n",
       " ('NAME_TYPE_SUITE_add_1', 8),\n",
       " ('FLAG_DOCUMENT_9', 3),\n",
       " ('FLAG_DOCUMENT_10', 3),\n",
       " ('NAME_SELLER_INDUSTRY_add_1', 12),\n",
       " ('FLAG_DOCUMENT_3', 3),\n",
       " ('NAME_CONTRACT_STATUS_add_1', 5),\n",
       " ('FLAG_PHONE', 3),\n",
       " ('CHANNEL_TYPE_add_1', 9),\n",
       " ('FLAG_DOCUMENT_18', 3),\n",
       " ('NAME_INCOME_TYPE', 9),\n",
       " ('NAME_CONTRACT_STATUS_CCAVG', 5),\n",
       " ('NAME_TYPE_SUITE_BAVG', 9),\n",
       " ('OCCUPATION_TYPE', 19),\n",
       " ('FLAG_LAST_APPL_PER_CONTRACT_add_1', 3),\n",
       " ('NAME_CONTRACT_STATUS_CAVG', 8),\n",
       " ('NAME_CASH_LOAN_PURPOSE', 26),\n",
       " ('FLAG_OWN_REALTY', 3),\n",
       " ('NAME_CONTRACT_TYPE', 3),\n",
       " ('FLAG_CONT_MOBILE', 3),\n",
       " ('FLAG_DOCUMENT_20', 3),\n",
       " ('NAME_CASH_LOAN_PURPOSE_add_1', 26),\n",
       " ('REG_REGION_NOT_LIVE_REGION', 3),\n",
       " ('FLAG_DOCUMENT_13', 3),\n",
       " ('NAME_CLIENT_TYPE', 5),\n",
       " ('LIVE_REGION_NOT_WORK_REGION', 3),\n",
       " ('FLAG_DOCUMENT_21', 3),\n",
       " ('REG_CITY_NOT_WORK_CITY', 3),\n",
       " ('CODE_GENDER', 4)]"
      ]
     },
     "execution_count": 43,
     "metadata": {},
     "output_type": "execute_result"
    }
   ],
   "source": [
    "cat_sz"
   ]
  },
  {
   "cell_type": "code",
   "execution_count": 44,
   "metadata": {},
   "outputs": [],
   "source": [
    "emb_szs = [(c, min(50, (c+1)//2)) for _,c in cat_sz]"
   ]
  },
  {
   "cell_type": "code",
   "execution_count": 45,
   "metadata": {},
   "outputs": [
    {
     "name": "stderr",
     "output_type": "stream",
     "text": [
      "/home/cheeseblubber/anaconda3/envs/fastai-latest/lib/python3.6/site-packages/pandas/core/frame.py:3694: SettingWithCopyWarning: \n",
      "A value is trying to be set on a copy of a slice from a DataFrame\n",
      "\n",
      "See the caveats in the documentation: http://pandas.pydata.org/pandas-docs/stable/indexing.html#indexing-view-versus-copy\n",
      "  errors=errors)\n"
     ]
    }
   ],
   "source": [
    "proc_train_df, y, _, mapper = proc_df(train_df, y_fld=\"TARGET\", skip_flds=[\"SK_ID_CURR\", \"SK_ID_PREV\"], do_scale=True)"
   ]
  },
  {
   "cell_type": "code",
   "execution_count": 46,
   "metadata": {},
   "outputs": [
    {
     "name": "stderr",
     "output_type": "stream",
     "text": [
      "/home/cheeseblubber/anaconda3/envs/fastai-latest/lib/python3.6/site-packages/pandas/core/frame.py:3694: SettingWithCopyWarning: \n",
      "A value is trying to be set on a copy of a slice from a DataFrame\n",
      "\n",
      "See the caveats in the documentation: http://pandas.pydata.org/pandas-docs/stable/indexing.html#indexing-view-versus-copy\n",
      "  errors=errors)\n"
     ]
    }
   ],
   "source": [
    "proc_test_df, _, nas, mapper = proc_df(test_df, do_scale=True, mapper=mapper)"
   ]
  },
  {
   "cell_type": "code",
   "execution_count": 47,
   "metadata": {},
   "outputs": [],
   "source": [
    "bs = 1000"
   ]
  },
  {
   "cell_type": "code",
   "execution_count": 48,
   "metadata": {},
   "outputs": [
    {
     "data": {
      "text/plain": [
       "array([1., 0., 0., 0., 0., 0., 0., 0., 0., 0.], dtype=float32)"
      ]
     },
     "execution_count": 48,
     "metadata": {},
     "output_type": "execute_result"
    }
   ],
   "source": [
    "y[:10]"
   ]
  },
  {
   "cell_type": "code",
   "execution_count": 49,
   "metadata": {},
   "outputs": [
    {
     "data": {
      "text/plain": [
       "249"
      ]
     },
     "execution_count": 49,
     "metadata": {},
     "output_type": "execute_result"
    }
   ],
   "source": [
    "len(proc_test_df.columns)"
   ]
  },
  {
   "cell_type": "code",
   "execution_count": 50,
   "metadata": {},
   "outputs": [],
   "source": [
    "proc_test_df.drop(columns=[\"TARGET\"], inplace=True)"
   ]
  },
  {
   "cell_type": "code",
   "execution_count": 51,
   "metadata": {
    "scrolled": true
   },
   "outputs": [
    {
     "data": {
      "text/plain": [
       "[('FLAG_DOCUMENT_12', 3),\n",
       " ('PRODUCT_COMBINATION_add_1', 18),\n",
       " ('NAME_YIELD_GROUP_add_1', 6),\n",
       " ('NAME_CONTRACT_TYPE_BAVG', 5),\n",
       " ('HOUR_APPR_PROCESS_START', 25),\n",
       " ('FLAG_EMAIL', 3),\n",
       " ('REG_REGION_NOT_WORK_REGION', 3),\n",
       " ('FLAG_MOBIL', 3),\n",
       " ('FLAG_DOCUMENT_19', 3),\n",
       " ('NAME_PORTFOLIO_add_1', 6),\n",
       " ('NAME_PAYMENT_TYPE_add_1', 5),\n",
       " ('FLAG_DOCUMENT_6', 3),\n",
       " ('NAME_CONTRACT_TYPE_add_1', 5),\n",
       " ('FLAG_OWN_CAR', 3),\n",
       " ('FLAG_DOCUMENT_7', 3),\n",
       " ('PRODUCT_COMBINATION', 19),\n",
       " ('STATUS', 9),\n",
       " ('ORGANIZATION_TYPE', 59),\n",
       " ('FLAG_LAST_APPL_PER_CONTRACT', 3),\n",
       " ('FLAG_DOCUMENT_2', 3),\n",
       " ('LIVE_CITY_NOT_WORK_CITY', 3),\n",
       " ('FLAG_DOCUMENT_5', 3),\n",
       " ('FLAG_DOCUMENT_15', 3),\n",
       " ('REG_CITY_NOT_LIVE_CITY', 3),\n",
       " ('WEEKDAY_APPR_PROCESS_START_add_1', 8),\n",
       " ('NAME_EDUCATION_TYPE', 6),\n",
       " ('CNT_CHILDREN', 16),\n",
       " ('NAME_CONTRACT_STATUS', 5),\n",
       " ('NAME_GOODS_CATEGORY_add_1', 27),\n",
       " ('NAME_HOUSING_TYPE', 7),\n",
       " ('FLAG_DOCUMENT_4', 3),\n",
       " ('FLAG_WORK_PHONE', 3),\n",
       " ('NAME_GOODS_CATEGORY', 27),\n",
       " ('CHANNEL_TYPE', 9),\n",
       " ('FLAG_DOCUMENT_14', 3),\n",
       " ('NAME_YIELD_GROUP', 6),\n",
       " ('FLAG_DOCUMENT_11', 3),\n",
       " ('NAME_PRODUCT_TYPE', 4),\n",
       " ('HOUSETYPE_MODE', 4),\n",
       " ('EMERGENCYSTATE_MODE', 3),\n",
       " ('FLAG_DOCUMENT_16', 3),\n",
       " ('FONDKAPREMONT_MODE', 5),\n",
       " ('CODE_REJECT_REASON_add_1', 10),\n",
       " ('NAME_PRODUCT_TYPE_add_1', 4),\n",
       " ('WEEKDAY_APPR_PROCESS_START', 8),\n",
       " ('FLAG_EMP_PHONE', 3),\n",
       " ('NAME_FAMILY_STATUS', 7),\n",
       " ('WALLSMATERIAL_MODE', 8),\n",
       " ('FLAG_DOCUMENT_17', 3),\n",
       " ('WEEKDAY_APPR_PROCESS_START_BAVG', 8),\n",
       " ('NAME_TYPE_SUITE', 8),\n",
       " ('REGION_RATING_CLIENT', 4),\n",
       " ('REGION_RATING_CLIENT_W_CITY', 4),\n",
       " ('CODE_REJECT_REASON', 10),\n",
       " ('FLAG_DOCUMENT_8', 3),\n",
       " ('NAME_PAYMENT_TYPE', 5),\n",
       " ('NAME_PORTFOLIO', 6),\n",
       " ('NAME_CLIENT_TYPE_add_1', 5),\n",
       " ('NAME_SELLER_INDUSTRY', 12),\n",
       " ('NAME_TYPE_SUITE_add_1', 8),\n",
       " ('FLAG_DOCUMENT_9', 3),\n",
       " ('FLAG_DOCUMENT_10', 3),\n",
       " ('NAME_SELLER_INDUSTRY_add_1', 12),\n",
       " ('FLAG_DOCUMENT_3', 3),\n",
       " ('NAME_CONTRACT_STATUS_add_1', 5),\n",
       " ('FLAG_PHONE', 3),\n",
       " ('CHANNEL_TYPE_add_1', 9),\n",
       " ('FLAG_DOCUMENT_18', 3),\n",
       " ('NAME_INCOME_TYPE', 9),\n",
       " ('NAME_CONTRACT_STATUS_CCAVG', 5),\n",
       " ('NAME_TYPE_SUITE_BAVG', 9),\n",
       " ('OCCUPATION_TYPE', 19),\n",
       " ('FLAG_LAST_APPL_PER_CONTRACT_add_1', 3),\n",
       " ('NAME_CONTRACT_STATUS_CAVG', 8),\n",
       " ('NAME_CASH_LOAN_PURPOSE', 26),\n",
       " ('FLAG_OWN_REALTY', 3),\n",
       " ('NAME_CONTRACT_TYPE', 3),\n",
       " ('FLAG_CONT_MOBILE', 3),\n",
       " ('FLAG_DOCUMENT_20', 3),\n",
       " ('NAME_CASH_LOAN_PURPOSE_add_1', 26),\n",
       " ('REG_REGION_NOT_LIVE_REGION', 3),\n",
       " ('FLAG_DOCUMENT_13', 3),\n",
       " ('NAME_CLIENT_TYPE', 5),\n",
       " ('LIVE_REGION_NOT_WORK_REGION', 3),\n",
       " ('FLAG_DOCUMENT_21', 3),\n",
       " ('REG_CITY_NOT_WORK_CITY', 3),\n",
       " ('CODE_GENDER', 4)]"
      ]
     },
     "execution_count": 51,
     "metadata": {},
     "output_type": "execute_result"
    }
   ],
   "source": [
    "cat_sz"
   ]
  },
  {
   "cell_type": "code",
   "execution_count": 53,
   "metadata": {},
   "outputs": [],
   "source": [
    "proc_train_df.to_pickle(\"data/train_df1\")\n",
    "proc_test_df.to_pickle(\"data/test_df1\")"
   ]
  },
  {
   "cell_type": "code",
   "execution_count": 56,
   "metadata": {
    "scrolled": true
   },
   "outputs": [
    {
     "data": {
      "text/plain": [
       "307511    0.0\n",
       "307512    0.0\n",
       "307513    0.0\n",
       "307514    0.0\n",
       "307515    0.0\n",
       "307516    0.0\n",
       "307517    0.0\n",
       "307518    0.0\n",
       "307519    0.0\n",
       "307520    0.0\n",
       "307521    0.0\n",
       "307522    0.0\n",
       "307523    0.0\n",
       "307524    0.0\n",
       "307525    0.0\n",
       "307526    0.0\n",
       "307527    0.0\n",
       "307528    0.0\n",
       "307529    0.0\n",
       "307530    0.0\n",
       "307531    0.0\n",
       "307532    0.0\n",
       "307533    0.0\n",
       "307534    0.0\n",
       "307535    0.0\n",
       "307536    0.0\n",
       "307537    0.0\n",
       "307538    0.0\n",
       "307539    0.0\n",
       "307540    0.0\n",
       "         ... \n",
       "356225    0.0\n",
       "356226    0.0\n",
       "356227    0.0\n",
       "356228    0.0\n",
       "356229    0.0\n",
       "356230    0.0\n",
       "356231    0.0\n",
       "356232    0.0\n",
       "356233    0.0\n",
       "356234    0.0\n",
       "356235    0.0\n",
       "356236    0.0\n",
       "356237    0.0\n",
       "356238    0.0\n",
       "356239    0.0\n",
       "356240    0.0\n",
       "356241    0.0\n",
       "356242    0.0\n",
       "356243    0.0\n",
       "356244    0.0\n",
       "356245    0.0\n",
       "356246    0.0\n",
       "356247    0.0\n",
       "356248    0.0\n",
       "356249    0.0\n",
       "356250    0.0\n",
       "356251    0.0\n",
       "356252    0.0\n",
       "356253    0.0\n",
       "356254    0.0\n",
       "Name: TARGET, Length: 48744, dtype: float32"
      ]
     },
     "execution_count": 56,
     "metadata": {},
     "output_type": "execute_result"
    }
   ],
   "source": [
    "test_df[\"TARGET\"]"
   ]
  },
  {
   "cell_type": "code",
   "execution_count": 57,
   "metadata": {},
   "outputs": [
    {
     "data": {
      "text/plain": [
       "False"
      ]
     },
     "execution_count": 57,
     "metadata": {},
     "output_type": "execute_result"
    }
   ],
   "source": [
    "\"TARGET\" in list(proc_train_df.columns)"
   ]
  },
  {
   "cell_type": "code",
   "execution_count": 84,
   "metadata": {},
   "outputs": [
    {
     "data": {
      "text/plain": [
       "['SK_ID_PREV', 'SK_ID_CURR']"
      ]
     },
     "execution_count": 84,
     "metadata": {},
     "output_type": "execute_result"
    }
   ],
   "source": [
    "list(set(proc_test_df.columns) - set(proc_train_df.columns))"
   ]
  },
  {
   "cell_type": "code",
   "execution_count": 77,
   "metadata": {},
   "outputs": [
    {
     "data": {
      "text/plain": [
       "248"
      ]
     },
     "execution_count": 77,
     "metadata": {},
     "output_type": "execute_result"
    }
   ],
   "source": [
    "len(proc_test_df.columns)"
   ]
  },
  {
   "cell_type": "code",
   "execution_count": 86,
   "metadata": {},
   "outputs": [],
   "source": [
    "proc_test_df.drop(columns=[\"SK_ID_PREV\", \"SK_ID_CURR\"], inplace=True)"
   ]
  },
  {
   "cell_type": "code",
   "execution_count": 87,
   "metadata": {},
   "outputs": [],
   "source": [
    "md = ColumnarModelData.from_data_frame(\n",
    "    PATH, val_idx, proc_train_df, y.astype(np.int32), \n",
    "    cat_flds=cat_vars, bs=bs, is_reg=False, test_df=proc_test_df,\n",
    "    is_multi=False\n",
    ")"
   ]
  },
  {
   "cell_type": "code",
   "execution_count": 153,
   "metadata": {},
   "outputs": [],
   "source": [
    "m = md.get_learner(emb_szs, len(proc_train_df.columns)-len(cat_vars), 0.1, 2, [50,30], drops=[0.25, 0.20])"
   ]
  },
  {
   "cell_type": "code",
   "execution_count": 154,
   "metadata": {},
   "outputs": [
    {
     "data": {
      "application/vnd.jupyter.widget-view+json": {
       "model_id": "8b53bdfed74047348d6aa68171a1a28f",
       "version_major": 2,
       "version_minor": 0
      },
      "text/plain": [
       "HBox(children=(IntProgress(value=0, description='Epoch', max=1), HTML(value='')))"
      ]
     },
     "metadata": {},
     "output_type": "display_data"
    },
    {
     "name": "stdout",
     "output_type": "stream",
     "text": [
      "epoch      trn_loss   val_loss                               \n",
      "    0      0.323883   0.279429  \n"
     ]
    }
   ],
   "source": [
    "m.lr_find()"
   ]
  },
  {
   "cell_type": "code",
   "execution_count": 155,
   "metadata": {},
   "outputs": [
    {
     "data": {
      "image/png": "[encoded data removed]",
      "text/plain": [
       "<Figure size 432x288 with 1 Axes>"
      ]
     },
     "metadata": {},
     "output_type": "display_data"
    }
   ],
   "source": [
    "m.sched.plot()"
   ]
  },
  {
   "cell_type": "code",
   "execution_count": 156,
   "metadata": {},
   "outputs": [],
   "source": [
    "lr = 1e-2"
   ]
  },
  {
   "cell_type": "code",
   "execution_count": 157,
   "metadata": {},
   "outputs": [
    {
     "data": {
      "application/vnd.jupyter.widget-view+json": {
       "model_id": "c216151b590a44158abc31a9f3a1f7ad",
       "version_major": 2,
       "version_minor": 0
      },
      "text/plain": [
       "HBox(children=(IntProgress(value=0, description='Epoch', max=2), HTML(value='')))"
      ]
     },
     "metadata": {},
     "output_type": "display_data"
    },
    {
     "name": "stdout",
     "output_type": "stream",
     "text": [
      "epoch      trn_loss   val_loss                               \n",
      "    0      0.269503   0.249377  \n",
      "    1      0.256073   0.249025                               \n"
     ]
    },
    {
     "data": {
      "text/plain": [
       "[array([0.24903])]"
      ]
     },
     "execution_count": 157,
     "metadata": {},
     "output_type": "execute_result"
    }
   ],
   "source": [
    "m.fit(lr, 1, cycle_len=2)"
   ]
  },
  {
   "cell_type": "code",
   "execution_count": 158,
   "metadata": {},
   "outputs": [
    {
     "data": {
      "application/vnd.jupyter.widget-view+json": {
       "model_id": "0868a6180da84848a21fd59041184144",
       "version_major": 2,
       "version_minor": 0
      },
      "text/plain": [
       "HBox(children=(IntProgress(value=0, description='Epoch', max=4), HTML(value='')))"
      ]
     },
     "metadata": {},
     "output_type": "display_data"
    },
    {
     "name": "stdout",
     "output_type": "stream",
     "text": [
      "epoch      trn_loss   val_loss                               \n",
      "    0      0.255148   0.24608   \n",
      "    1      0.249513   0.245859                               \n",
      "    2      0.254455   0.248389                               \n",
      "    3      0.25211    0.245695                               \n"
     ]
    },
    {
     "data": {
      "text/plain": [
       "[array([0.2457])]"
      ]
     },
     "execution_count": 158,
     "metadata": {},
     "output_type": "execute_result"
    }
   ],
   "source": [
    "m.fit(lr, 2, cycle_len=2)"
   ]
  },
  {
   "cell_type": "code",
   "execution_count": 159,
   "metadata": {},
   "outputs": [
    {
     "data": {
      "application/vnd.jupyter.widget-view+json": {
       "model_id": "1a2483473f5147a29edb9eb1a95aaa9c",
       "version_major": 2,
       "version_minor": 0
      },
      "text/plain": [
       "HBox(children=(IntProgress(value=0, description='Epoch', max=15), HTML(value='')))"
      ]
     },
     "metadata": {},
     "output_type": "display_data"
    },
    {
     "name": "stdout",
     "output_type": "stream",
     "text": [
      "epoch      trn_loss   val_loss                               \n",
      "    0      0.24826    0.245397  \n",
      "    1      0.247271   0.245072                               \n",
      "    2      0.245985   0.244892                               \n",
      "    3      0.249844   0.244505                               \n",
      "    4      0.245754   0.245435                               \n",
      "    5      0.244953   0.244587                               \n",
      "    6      0.247889   0.245243                               \n",
      "    7      0.242928   0.244892                               \n",
      "    8      0.241625   0.244808                               \n",
      "    9      0.246398   0.245601                               \n",
      "    10     0.243564   0.246096                               \n",
      "    11     0.240139   0.245293                               \n",
      "    12     0.24575    0.245837                               \n",
      "    13     0.241007   0.245471                               \n",
      "    14     0.237192   0.245457                               \n"
     ]
    },
    {
     "data": {
      "text/plain": [
       "[array([0.24546])]"
      ]
     },
     "execution_count": 159,
     "metadata": {},
     "output_type": "execute_result"
    }
   ],
   "source": [
    "m.fit(lr/2, 5, wds=1e-7, cycle_len=3, best_save_name=\"best_home_default1\")"
   ]
  },
  {
   "cell_type": "code",
   "execution_count": null,
   "metadata": {},
   "outputs": [],
   "source": [
    "m.load(name=\"best_home_default1\")"
   ]
  },
  {
   "cell_type": "code",
   "execution_count": null,
   "metadata": {},
   "outputs": [],
   "source": [
    "m.fit(lr/10, 2, cycle_len=2, wds=1e-7, best_save_name=\"best_home_default2\")"
   ]
  },
  {
   "cell_type": "code",
   "execution_count": null,
   "metadata": {},
   "outputs": [],
   "source": [
    "m.load(name=\"best_home_default2\")"
   ]
  },
  {
   "cell_type": "code",
   "execution_count": 108,
   "metadata": {},
   "outputs": [],
   "source": [
    "pred_test=m.predict(True)"
   ]
  },
  {
   "cell_type": "code",
   "execution_count": 109,
   "metadata": {},
   "outputs": [],
   "source": [
    "pred_test = np.exp(pred_test)"
   ]
  },
  {
   "cell_type": "code",
   "execution_count": 110,
   "metadata": {},
   "outputs": [
    {
     "data": {
      "text/plain": [
       "array([0.94453, 0.80775, 0.96143, 0.92495, 0.81945, 0.93728, 0.9937 , 0.9389 , 0.98859, 0.89904, 0.95811,\n",
       "       0.93979, 0.83626, 0.98165, 0.96304, 0.86035, 0.95172, 0.9863 , 0.87585, 0.93692, ..., 0.91261,\n",
       "       0.94857, 0.96386, 0.97293, 0.98493, 0.90118, 0.86932, 0.98954, 0.90076, 0.96551, 0.93612, 0.95867,\n",
       "       0.97562, 0.87737, 0.95709, 0.976  , 0.9146 , 0.9576 , 0.94769, 0.82164], dtype=float32)"
      ]
     },
     "execution_count": 110,
     "metadata": {},
     "output_type": "execute_result"
    }
   ],
   "source": [
    "pred_test[:,0]"
   ]
  },
  {
   "cell_type": "code",
   "execution_count": 111,
   "metadata": {},
   "outputs": [
    {
     "data": {
      "text/plain": [
       "(array([    1.,     0.,     3.,    52.,   272.,   672.,  1384.,  3347., 10552., 32461.]),\n",
       " array([0.16914, 0.25223, 0.33531, 0.4184 , 0.50149, 0.58457, 0.66766, 0.75074, 0.83383, 0.91691, 1.     ]),\n",
       " <a list of 10 Patch objects>)"
      ]
     },
     "execution_count": 111,
     "metadata": {},
     "output_type": "execute_result"
    },
    {
     "data": {
      "image/png": "[encoded data removed]",
      "text/plain": [
       "<Figure size 432x288 with 1 Axes>"
      ]
     },
     "metadata": {},
     "output_type": "display_data"
    }
   ],
   "source": [
    "matplotlib.pyplot.hist(pred_test[:,0])"
   ]
  },
  {
   "cell_type": "code",
   "execution_count": 112,
   "metadata": {},
   "outputs": [],
   "source": [
    "application_test['TARGET']=pred_test[:,1]"
   ]
  },
  {
   "cell_type": "code",
   "execution_count": 116,
   "metadata": {},
   "outputs": [],
   "source": [
    "csv_fn=f'{PATH}/tmp/sub7.csv'"
   ]
  },
  {
   "cell_type": "code",
   "execution_count": 117,
   "metadata": {},
   "outputs": [],
   "source": [
    "application_test['SK_ID_CURR'] = application_test['SK_ID_CURR'].astype(int)"
   ]
  },
  {
   "cell_type": "code",
   "execution_count": 118,
   "metadata": {},
   "outputs": [],
   "source": [
    "application_test[['SK_ID_CURR','TARGET']].to_csv(csv_fn, index=False)"
   ]
  },
  {
   "cell_type": "code",
   "execution_count": 119,
   "metadata": {},
   "outputs": [
    {
     "data": {
      "text/html": [
       "<a href='data/tmp/sub7.csv' target='_blank'>data/tmp/sub7.csv</a><br>"
      ],
      "text/plain": [
       "/home/cheeseblubber/workspace/competition/home-default-credit/data/tmp/sub7.csv"
      ]
     },
     "execution_count": 119,
     "metadata": {},
     "output_type": "execute_result"
    }
   ],
   "source": [
    "FileLink(csv_fn)"
   ]
  },
  {
   "cell_type": "code",
   "execution_count": null,
   "metadata": {},
   "outputs": [],
   "source": []
  }
 ],
 "metadata": {
  "kernelspec": {
   "display_name": "Python 3",
   "language": "python",
   "name": "python3"
  },
  "language_info": {
   "codemirror_mode": {
    "name": "ipython",
    "version": 3
   },
   "file_extension": ".py",
   "mimetype": "text/x-python",
   "name": "python",
   "nbconvert_exporter": "python",
   "pygments_lexer": "ipython3",
   "version": "3.6.5"
  }
 },
 "nbformat": 4,
 "nbformat_minor": 2
}
