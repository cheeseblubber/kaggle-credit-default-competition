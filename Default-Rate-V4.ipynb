{
 "cells": [
  {
   "cell_type": "code",
   "execution_count": 2,
   "metadata": {},
   "outputs": [],
   "source": [
    "%matplotlib inline\n",
    "%reload_ext autoreload\n",
    "%autoreload 2"
   ]
  },
  {
   "cell_type": "code",
   "execution_count": 3,
   "metadata": {},
   "outputs": [],
   "source": [
    "from fastai.structured import apply_cats, proc_df\n",
    "from fastai.column_data import *\n",
    "from sklearn.preprocessing import LabelEncoder\n",
    "import pandas as pd\n",
    "import dill as pickle\n",
    "\n",
    "import numpy as np\n",
    "np.set_printoptions(threshold=50, edgeitems=20)\n",
    "data_path=Path('data/')\n",
    "PATH = data_path"
   ]
  },
  {
   "cell_type": "code",
   "execution_count": 6,
   "metadata": {},
   "outputs": [],
   "source": [
    "lb=LabelEncoder()\n",
    "def LabelEncoding_Cat(df):\n",
    "    df=df.copy()\n",
    "    Cat_Var=df.select_dtypes('object').columns.tolist()\n",
    "    for col in Cat_Var:\n",
    "        df[col]=lb.fit_transform(df[col].astype('str'))\n",
    "    return df    \n",
    "\n",
    "def Fill_NA(df):\n",
    "    df=df.copy()\n",
    "    Num_Features=df.select_dtypes(['float64','int64']).columns.tolist()\n",
    "    df[Num_Features]= df[Num_Features].fillna(123456789)\n",
    "    return df\n"
   ]
  },
  {
   "cell_type": "markdown",
   "metadata": {},
   "source": [
    "# Format and clean data"
   ]
  },
  {
   "cell_type": "code",
   "execution_count": 7,
   "metadata": {},
   "outputs": [],
   "source": [
    "def read_csv(file_name):\n",
    "    return pd.read_csv(data_path/file_name)"
   ]
  },
  {
   "cell_type": "code",
   "execution_count": 8,
   "metadata": {},
   "outputs": [],
   "source": [
    "join_key = \"SK_ID_CURR\""
   ]
  },
  {
   "cell_type": "code",
   "execution_count": 10,
   "metadata": {},
   "outputs": [],
   "source": [
    "bureau = read_csv(\"bureau_balance.csv\")\n",
    "cred_card_bal = read_csv(\"credit_card_balance.csv\")\n",
    "pos_cash_bal = read_csv(\"POS_CASH_balance.csv\")\n",
    "prev = read_csv(\"previous_application.csv\")"
   ]
  },
  {
   "cell_type": "code",
   "execution_count": 11,
   "metadata": {},
   "outputs": [],
   "source": [
    "application_train = read_csv(\"application_train.csv\")"
   ]
  },
  {
   "cell_type": "code",
   "execution_count": 12,
   "metadata": {},
   "outputs": [],
   "source": [
    "application_test = read_csv(\"application_test.csv\")"
   ]
  },
  {
   "cell_type": "code",
   "execution_count": 39,
   "metadata": {},
   "outputs": [],
   "source": [
    "def process_dataframe(input_df, encoder_dict=None):\n",
    "    \"\"\" Process a dataframe into a form useable by LightGBM \"\"\"\n",
    "\n",
    "    # Label encode categoricals\n",
    "    categorical_feats = input_df.columns[input_df.dtypes == 'object']\n",
    "    categorical_feats = categorical_feats\n",
    "    encoder_dict = {}\n",
    "    for feat in categorical_feats:\n",
    "        encoder = LabelEncoder()\n",
    "        input_df[feat] = encoder.fit_transform(input_df[feat].fillna('NULL'))\n",
    "        encoder_dict[feat] = encoder\n",
    "\n",
    "    return input_df, categorical_feats.tolist(), encoder_dict"
   ]
  },
  {
   "cell_type": "code",
   "execution_count": 40,
   "metadata": {},
   "outputs": [],
   "source": [
    "def feature_engineering(app_data, bureau_df, bureau_balance_df, credit_card_df,\n",
    "                        pos_cash_df, prev_app_df, install_df):\n",
    "    \"\"\" Process the dataframes into a single one containing all the features \"\"\"\n",
    "\n",
    "    print('Combined train & test input shape before any merging  = {}'.format(app_data.shape))\n",
    "\n",
    "    # Previous applications\n",
    "    agg_funs = {'SK_ID_CURR': 'count', 'AMT_CREDIT': 'sum'}\n",
    "    prev_apps = prev_app_df.groupby('SK_ID_CURR').agg(agg_funs)\n",
    "    prev_apps.columns = ['PREV APP COUNT', 'TOTAL PREV LOAN AMT']\n",
    "    merged_df = app_data.merge(prev_apps, left_on='SK_ID_CURR', right_index=True, how='left')\n",
    "\n",
    "    # Average the rest of the previous app data\n",
    "    prev_apps_avg = prev_app_df.groupby('SK_ID_CURR').mean()\n",
    "    merged_df = merged_df.merge(prev_apps_avg, left_on='SK_ID_CURR', right_index=True,\n",
    "                                how='left', suffixes=['', '_PAVG'])\n",
    "    print('Shape after merging with previous apps num data = {}'.format(merged_df.shape))\n",
    "    # Previous app categorical features\n",
    "    prev_app_df, cat_feats, _ = process_dataframe(prev_app_df)\n",
    "    prev_apps_cat_avg = prev_app_df[cat_feats + ['SK_ID_CURR']].groupby('SK_ID_CURR')\\\n",
    "                             .agg({k: lambda x: str(x.mode().iloc[0]) for k in cat_feats})\n",
    "    merged_df = merged_df.merge(prev_apps_cat_avg, left_on='SK_ID_CURR', right_index=True,\n",
    "                            how='left', suffixes=['', '_BAVG'])\n",
    "    print('Shape after merging with previous apps cat data = {}'.format(merged_df.shape))\n",
    "\n",
    "    # Credit card data - numerical features\n",
    "    wm = lambda x: np.average(x, weights=-1/credit_card_df.loc[x.index, 'MONTHS_BALANCE'])\n",
    "    credit_card_avgs = credit_card_df.groupby('SK_ID_CURR').agg(wm)   \n",
    "    merged_df = merged_df.merge(credit_card_avgs, left_on='SK_ID_CURR', right_index=True,\n",
    "                                how='left', suffixes=['', '_CCAVG'])\n",
    "    # Credit card data - categorical features\n",
    "    most_recent_index = credit_card_df.groupby('SK_ID_CURR')['MONTHS_BALANCE'].idxmax()\n",
    "    cat_feats = credit_card_df.columns[credit_card_df.dtypes == 'object'].tolist()  + ['SK_ID_CURR']\n",
    "    merged_df = merged_df.merge(credit_card_df.loc[most_recent_index, cat_feats], left_on='SK_ID_CURR', right_on='SK_ID_CURR',\n",
    "                       how='left', suffixes=['', '_CCAVG'])\n",
    "    print('Shape after merging with credit card data = {}'.format(merged_df.shape))\n",
    "\n",
    "    # Credit bureau data - numerical features\n",
    "    credit_bureau_avgs = bureau_df.groupby('SK_ID_CURR').mean()\n",
    "    merged_df = merged_df.merge(credit_bureau_avgs, left_on='SK_ID_CURR', right_index=True,\n",
    "                                how='left', suffixes=['', '_BAVG'])\n",
    "    print('Shape after merging with credit bureau data = {}'.format(merged_df.shape))\n",
    "    \n",
    "    # Bureau balance data\n",
    "    most_recent_index = bureau_balance_df.groupby('SK_ID_BUREAU')['MONTHS_BALANCE'].idxmax()\n",
    "    bureau_balance_df = bureau_balance_df.loc[most_recent_index, :]\n",
    "    merged_df = merged_df.merge(bureau_balance_df, left_on='SK_ID_BUREAU', right_on='SK_ID_BUREAU',\n",
    "                            how='left', suffixes=['', '_B_B'])\n",
    "    print('Shape after merging with bureau balance data = {}'.format(merged_df.shape))\n",
    "\n",
    "    # Pos cash data - weight values by recency when averaging\n",
    "    wm = lambda x: np.average(x, weights=-1/pos_cash_df.loc[x.index, 'MONTHS_BALANCE'])\n",
    "    f = {'CNT_INSTALMENT': wm, 'CNT_INSTALMENT_FUTURE': wm, 'SK_DPD': wm, 'SK_DPD_DEF':wm}\n",
    "    cash_avg = pos_cash_df.groupby('SK_ID_CURR')['CNT_INSTALMENT','CNT_INSTALMENT_FUTURE',\n",
    "                                                 'SK_DPD', 'SK_DPD_DEF'].agg(f)\n",
    "    merged_df = merged_df.merge(cash_avg, left_on='SK_ID_CURR', right_index=True,\n",
    "                                how='left', suffixes=['', '_CAVG'])\n",
    "    # Pos cash data data - categorical features\n",
    "    most_recent_index = pos_cash_df.groupby('SK_ID_CURR')['MONTHS_BALANCE'].idxmax()\n",
    "    cat_feats = pos_cash_df.columns[pos_cash_df.dtypes == 'object'].tolist()  + ['SK_ID_CURR']\n",
    "    merged_df = merged_df.merge(pos_cash_df.loc[most_recent_index, cat_feats], left_on='SK_ID_CURR', right_on='SK_ID_CURR',\n",
    "                       how='left', suffixes=['', '_CAVG'])\n",
    "    print('Shape after merging with pos cash data = {}'.format(merged_df.shape))\n",
    "\n",
    "    # Installments data\n",
    "    ins_avg = install_df.groupby('SK_ID_CURR').mean()\n",
    "    merged_df = merged_df.merge(ins_avg, left_on='SK_ID_CURR', right_index=True,\n",
    "                                how='left', suffixes=['', '_IAVG'])\n",
    "    print('Shape after merging with installments data = {}'.format(merged_df.shape))\n",
    "    \n",
    "    # Add more value counts\n",
    "    merged_df = merged_df.merge(pd.DataFrame(bureau_df['SK_ID_CURR'].value_counts()), left_on='SK_ID_CURR', \n",
    "                                right_index=True, how='left', suffixes=['', '_CNT_BUREAU'])\n",
    "    merged_df = merged_df.merge(pd.DataFrame(credit_card_df['SK_ID_CURR'].value_counts()), left_on='SK_ID_CURR', \n",
    "                                right_index=True, how='left', suffixes=['', '_CNT_CRED_CARD'])\n",
    "    merged_df = merged_df.merge(pd.DataFrame(pos_cash_df['SK_ID_CURR'].value_counts()), left_on='SK_ID_CURR', \n",
    "                                right_index=True, how='left', suffixes=['', '_CNT_POS_CASH'])\n",
    "    merged_df = merged_df.merge(pd.DataFrame(install_df['SK_ID_CURR'].value_counts()), left_on='SK_ID_CURR', \n",
    "                                right_index=True, how='left', suffixes=['', '_CNT_INSTALL'])\n",
    "    print('Shape after merging with counts data = {}'.format(merged_df.shape))\n",
    "\n",
    "    return merged_df"
   ]
  },
  {
   "cell_type": "code",
   "execution_count": 31,
   "metadata": {},
   "outputs": [
    {
     "name": "stdout",
     "output_type": "stream",
     "text": [
      "application_test.csv\t\t    installments_payments.csv\r\n",
      "application_train.csv\t\t    models\r\n",
      "bureau_balance.csv\t\t    POS_CASH_balance.csv\r\n",
      "bureau.csv\t\t\t    previous_application.csv\r\n",
      "credit_card_balance.csv\t\t    sample_submission.csv\r\n",
      "HomeCredit_columns_description.csv  tmp\r\n"
     ]
    }
   ],
   "source": [
    "!ls data"
   ]
  },
  {
   "cell_type": "code",
   "execution_count": 41,
   "metadata": {},
   "outputs": [],
   "source": [
    "cred_card_bal = read_csv(\"credit_card_balance.csv\")\n",
    "pos_cash_bal = read_csv(\"POS_CASH_balance.csv\")\n",
    "prev = read_csv(\"previous_application.csv\")"
   ]
  },
  {
   "cell_type": "code",
   "execution_count": 35,
   "metadata": {},
   "outputs": [],
   "source": [
    "bureau_bal = read_csv(\"bureau_balance.csv\")"
   ]
  },
  {
   "cell_type": "code",
   "execution_count": 33,
   "metadata": {},
   "outputs": [],
   "source": [
    "install = read_csv(\"installments_payments.csv\")"
   ]
  },
  {
   "cell_type": "code",
   "execution_count": 34,
   "metadata": {},
   "outputs": [],
   "source": [
    "bureau = read_csv(\"bureau.csv\")"
   ]
  },
  {
   "cell_type": "code",
   "execution_count": null,
   "metadata": {},
   "outputs": [
    {
     "name": "stderr",
     "output_type": "stream",
     "text": [
      "/home/cheeseblubber/anaconda3/envs/fastai-latest/lib/python3.6/site-packages/ipykernel_launcher.py:2: FutureWarning: Sorting because non-concatenation axis is not aligned. A future version\n",
      "of pandas will change to not sort by default.\n",
      "\n",
      "To accept the future behavior, pass 'sort=True'.\n",
      "\n",
      "To retain the current behavior and silence the warning, pass sort=False\n",
      "\n",
      "  \n"
     ]
    },
    {
     "name": "stdout",
     "output_type": "stream",
     "text": [
      "Combined train & test input shape before any merging  = (356255, 122)\n",
      "Shape after merging with previous apps num data = (356255, 144)\n",
      "Shape after merging with previous apps cat data = (356255, 160)\n",
      "Shape after merging with credit card data = (356255, 182)\n",
      "Shape after merging with credit bureau data = (356255, 195)\n"
     ]
    }
   ],
   "source": [
    "len_train = len(application_train)\n",
    "app_both = pd.concat([application_train, application_test])\n",
    "merged_df = feature_engineering(app_both, bureau, bureau_bal, cred_card_bal,\n",
    "                                pos_cash_bal, prev, install)"
   ]
  },
  {
   "cell_type": "code",
   "execution_count": null,
   "metadata": {},
   "outputs": [],
   "source": [
    "merged_df.to_feather(f'{PATH}merged_df')"
   ]
  },
  {
   "cell_type": "code",
   "execution_count": 92,
   "metadata": {},
   "outputs": [],
   "source": [
    "merged_df = pd.read_feather(f'{PATH}merged_df')"
   ]
  },
  {
   "cell_type": "code",
   "execution_count": 48,
   "metadata": {},
   "outputs": [
    {
     "data": {
      "text/plain": [
       "213"
      ]
     },
     "execution_count": 48,
     "metadata": {},
     "output_type": "execute_result"
    }
   ],
   "source": [
    "len(list(merged_df.columns))"
   ]
  },
  {
   "cell_type": "code",
   "execution_count": 107,
   "metadata": {},
   "outputs": [],
   "source": [
    "f = merged_df.dtypes[0]"
   ]
  },
  {
   "cell_type": "code",
   "execution_count": 108,
   "metadata": {},
   "outputs": [
    {
     "data": {
      "text/plain": [
       "dtype('float64')"
      ]
     },
     "execution_count": 108,
     "metadata": {},
     "output_type": "execute_result"
    }
   ],
   "source": [
    "f"
   ]
  },
  {
   "cell_type": "code",
   "execution_count": 110,
   "metadata": {},
   "outputs": [
    {
     "data": {
      "text/plain": [
       "['AMT_ANNUITY',\n",
       " 'AMT_CREDIT',\n",
       " 'AMT_GOODS_PRICE',\n",
       " 'AMT_INCOME_TOTAL',\n",
       " 'AMT_REQ_CREDIT_BUREAU_DAY',\n",
       " 'AMT_REQ_CREDIT_BUREAU_HOUR',\n",
       " 'AMT_REQ_CREDIT_BUREAU_MON',\n",
       " 'AMT_REQ_CREDIT_BUREAU_QRT',\n",
       " 'AMT_REQ_CREDIT_BUREAU_WEEK',\n",
       " 'AMT_REQ_CREDIT_BUREAU_YEAR',\n",
       " 'APARTMENTS_AVG',\n",
       " 'APARTMENTS_MEDI',\n",
       " 'APARTMENTS_MODE',\n",
       " 'BASEMENTAREA_AVG',\n",
       " 'BASEMENTAREA_MEDI',\n",
       " 'BASEMENTAREA_MODE',\n",
       " 'CNT_FAM_MEMBERS',\n",
       " 'COMMONAREA_AVG',\n",
       " 'COMMONAREA_MEDI',\n",
       " 'COMMONAREA_MODE',\n",
       " 'DAYS_LAST_PHONE_CHANGE',\n",
       " 'DAYS_REGISTRATION',\n",
       " 'DEF_30_CNT_SOCIAL_CIRCLE',\n",
       " 'DEF_60_CNT_SOCIAL_CIRCLE',\n",
       " 'ELEVATORS_AVG',\n",
       " 'ELEVATORS_MEDI',\n",
       " 'ELEVATORS_MODE',\n",
       " 'ENTRANCES_AVG',\n",
       " 'ENTRANCES_MEDI',\n",
       " 'ENTRANCES_MODE',\n",
       " 'EXT_SOURCE_1',\n",
       " 'EXT_SOURCE_2',\n",
       " 'EXT_SOURCE_3',\n",
       " 'FLOORSMAX_AVG',\n",
       " 'FLOORSMAX_MEDI',\n",
       " 'FLOORSMAX_MODE',\n",
       " 'FLOORSMIN_AVG',\n",
       " 'FLOORSMIN_MEDI',\n",
       " 'FLOORSMIN_MODE',\n",
       " 'LANDAREA_AVG',\n",
       " 'LANDAREA_MEDI',\n",
       " 'LANDAREA_MODE',\n",
       " 'LIVINGAPARTMENTS_AVG',\n",
       " 'LIVINGAPARTMENTS_MEDI',\n",
       " 'LIVINGAPARTMENTS_MODE',\n",
       " 'LIVINGAREA_AVG',\n",
       " 'LIVINGAREA_MEDI',\n",
       " 'LIVINGAREA_MODE',\n",
       " 'NONLIVINGAPARTMENTS_AVG',\n",
       " 'NONLIVINGAPARTMENTS_MEDI',\n",
       " 'NONLIVINGAPARTMENTS_MODE',\n",
       " 'NONLIVINGAREA_AVG',\n",
       " 'NONLIVINGAREA_MEDI',\n",
       " 'NONLIVINGAREA_MODE',\n",
       " 'OBS_30_CNT_SOCIAL_CIRCLE',\n",
       " 'OBS_60_CNT_SOCIAL_CIRCLE',\n",
       " 'OWN_CAR_AGE',\n",
       " 'REGION_POPULATION_RELATIVE',\n",
       " 'TARGET',\n",
       " 'TOTALAREA_MODE',\n",
       " 'YEARS_BEGINEXPLUATATION_AVG',\n",
       " 'YEARS_BEGINEXPLUATATION_MEDI',\n",
       " 'YEARS_BEGINEXPLUATATION_MODE',\n",
       " 'YEARS_BUILD_AVG',\n",
       " 'YEARS_BUILD_MEDI',\n",
       " 'YEARS_BUILD_MODE',\n",
       " 'PREV APP COUNT',\n",
       " 'TOTAL PREV LOAN AMT',\n",
       " 'SK_ID_PREV',\n",
       " 'AMT_ANNUITY_PAVG',\n",
       " 'AMT_APPLICATION',\n",
       " 'AMT_CREDIT_PAVG',\n",
       " 'AMT_DOWN_PAYMENT',\n",
       " 'AMT_GOODS_PRICE_PAVG',\n",
       " 'HOUR_APPR_PROCESS_START_PAVG',\n",
       " 'NFLAG_LAST_APPL_IN_DAY',\n",
       " 'RATE_DOWN_PAYMENT',\n",
       " 'RATE_INTEREST_PRIMARY',\n",
       " 'RATE_INTEREST_PRIVILEGED',\n",
       " 'DAYS_DECISION',\n",
       " 'SELLERPLACE_AREA',\n",
       " 'CNT_PAYMENT',\n",
       " 'DAYS_FIRST_DRAWING',\n",
       " 'DAYS_FIRST_DUE',\n",
       " 'DAYS_LAST_DUE_1ST_VERSION',\n",
       " 'DAYS_LAST_DUE',\n",
       " 'DAYS_TERMINATION',\n",
       " 'NFLAG_INSURED_ON_APPROVAL',\n",
       " 'SK_ID_PREV_CCAVG',\n",
       " 'MONTHS_BALANCE',\n",
       " 'AMT_BALANCE',\n",
       " 'AMT_CREDIT_LIMIT_ACTUAL',\n",
       " 'AMT_DRAWINGS_ATM_CURRENT',\n",
       " 'AMT_DRAWINGS_CURRENT',\n",
       " 'AMT_DRAWINGS_OTHER_CURRENT',\n",
       " 'AMT_DRAWINGS_POS_CURRENT',\n",
       " 'AMT_INST_MIN_REGULARITY',\n",
       " 'AMT_PAYMENT_CURRENT',\n",
       " 'AMT_PAYMENT_TOTAL_CURRENT',\n",
       " 'AMT_RECEIVABLE_PRINCIPAL',\n",
       " 'AMT_RECIVABLE',\n",
       " 'AMT_TOTAL_RECEIVABLE',\n",
       " 'CNT_DRAWINGS_ATM_CURRENT',\n",
       " 'CNT_DRAWINGS_CURRENT',\n",
       " 'CNT_DRAWINGS_OTHER_CURRENT',\n",
       " 'CNT_DRAWINGS_POS_CURRENT',\n",
       " 'CNT_INSTALMENT_MATURE_CUM',\n",
       " 'SK_DPD',\n",
       " 'SK_DPD_DEF',\n",
       " 'SK_ID_BUREAU',\n",
       " 'DAYS_CREDIT',\n",
       " 'CREDIT_DAY_OVERDUE',\n",
       " 'DAYS_CREDIT_ENDDATE',\n",
       " 'DAYS_ENDDATE_FACT',\n",
       " 'AMT_CREDIT_MAX_OVERDUE',\n",
       " 'CNT_CREDIT_PROLONG',\n",
       " 'AMT_CREDIT_SUM',\n",
       " 'AMT_CREDIT_SUM_DEBT',\n",
       " 'AMT_CREDIT_SUM_LIMIT',\n",
       " 'AMT_CREDIT_SUM_OVERDUE',\n",
       " 'DAYS_CREDIT_UPDATE',\n",
       " 'AMT_ANNUITY_BAVG',\n",
       " 'MONTHS_BALANCE_B_B',\n",
       " 'CNT_INSTALMENT',\n",
       " 'CNT_INSTALMENT_FUTURE',\n",
       " 'SK_DPD_CAVG',\n",
       " 'SK_DPD_DEF_CAVG',\n",
       " 'SK_ID_PREV_IAVG',\n",
       " 'NUM_INSTALMENT_VERSION',\n",
       " 'NUM_INSTALMENT_NUMBER',\n",
       " 'DAYS_INSTALMENT',\n",
       " 'DAYS_ENTRY_PAYMENT',\n",
       " 'AMT_INSTALMENT',\n",
       " 'AMT_PAYMENT',\n",
       " 'SK_ID_CURR_CNT_BUREAU',\n",
       " 'SK_ID_CURR_CNT_CRED_CARD',\n",
       " 'SK_ID_CURR_CNT_POS_CASH',\n",
       " 'SK_ID_CURR_CNT_INSTALL']"
      ]
     },
     "execution_count": 110,
     "metadata": {},
     "output_type": "execute_result"
    }
   ],
   "source": [
    "groups = merged_df.columns.to_series().groupby(merged_df.dtypes).groups"
   ]
  },
  {
   "cell_type": "code",
   "execution_count": 113,
   "metadata": {},
   "outputs": [],
   "source": [
    "int_key, float_key, object_key = groups.keys()"
   ]
  },
  {
   "cell_type": "code",
   "execution_count": 119,
   "metadata": {
    "scrolled": true
   },
   "outputs": [],
   "source": [
    "cat = list(groups[int_key])"
   ]
  },
  {
   "cell_type": "code",
   "execution_count": 120,
   "metadata": {},
   "outputs": [],
   "source": [
    "contin = list(groups[float_key])"
   ]
  },
  {
   "cell_type": "code",
   "execution_count": 121,
   "metadata": {},
   "outputs": [],
   "source": [
    "cat += list(groups[object_key])"
   ]
  },
  {
   "cell_type": "code",
   "execution_count": 123,
   "metadata": {
    "scrolled": true
   },
   "outputs": [
    {
     "data": {
      "text/plain": [
       "['AMT_ANNUITY',\n",
       " 'AMT_CREDIT',\n",
       " 'AMT_GOODS_PRICE',\n",
       " 'AMT_INCOME_TOTAL',\n",
       " 'AMT_REQ_CREDIT_BUREAU_DAY',\n",
       " 'AMT_REQ_CREDIT_BUREAU_HOUR',\n",
       " 'AMT_REQ_CREDIT_BUREAU_MON',\n",
       " 'AMT_REQ_CREDIT_BUREAU_QRT',\n",
       " 'AMT_REQ_CREDIT_BUREAU_WEEK',\n",
       " 'AMT_REQ_CREDIT_BUREAU_YEAR',\n",
       " 'APARTMENTS_AVG',\n",
       " 'APARTMENTS_MEDI',\n",
       " 'APARTMENTS_MODE',\n",
       " 'BASEMENTAREA_AVG',\n",
       " 'BASEMENTAREA_MEDI',\n",
       " 'BASEMENTAREA_MODE',\n",
       " 'CNT_FAM_MEMBERS',\n",
       " 'COMMONAREA_AVG',\n",
       " 'COMMONAREA_MEDI',\n",
       " 'COMMONAREA_MODE',\n",
       " 'DAYS_LAST_PHONE_CHANGE',\n",
       " 'DAYS_REGISTRATION',\n",
       " 'DEF_30_CNT_SOCIAL_CIRCLE',\n",
       " 'DEF_60_CNT_SOCIAL_CIRCLE',\n",
       " 'ELEVATORS_AVG',\n",
       " 'ELEVATORS_MEDI',\n",
       " 'ELEVATORS_MODE',\n",
       " 'ENTRANCES_AVG',\n",
       " 'ENTRANCES_MEDI',\n",
       " 'ENTRANCES_MODE',\n",
       " 'EXT_SOURCE_1',\n",
       " 'EXT_SOURCE_2',\n",
       " 'EXT_SOURCE_3',\n",
       " 'FLOORSMAX_AVG',\n",
       " 'FLOORSMAX_MEDI',\n",
       " 'FLOORSMAX_MODE',\n",
       " 'FLOORSMIN_AVG',\n",
       " 'FLOORSMIN_MEDI',\n",
       " 'FLOORSMIN_MODE',\n",
       " 'LANDAREA_AVG',\n",
       " 'LANDAREA_MEDI',\n",
       " 'LANDAREA_MODE',\n",
       " 'LIVINGAPARTMENTS_AVG',\n",
       " 'LIVINGAPARTMENTS_MEDI',\n",
       " 'LIVINGAPARTMENTS_MODE',\n",
       " 'LIVINGAREA_AVG',\n",
       " 'LIVINGAREA_MEDI',\n",
       " 'LIVINGAREA_MODE',\n",
       " 'NONLIVINGAPARTMENTS_AVG',\n",
       " 'NONLIVINGAPARTMENTS_MEDI',\n",
       " 'NONLIVINGAPARTMENTS_MODE',\n",
       " 'NONLIVINGAREA_AVG',\n",
       " 'NONLIVINGAREA_MEDI',\n",
       " 'NONLIVINGAREA_MODE',\n",
       " 'OBS_30_CNT_SOCIAL_CIRCLE',\n",
       " 'OBS_60_CNT_SOCIAL_CIRCLE',\n",
       " 'OWN_CAR_AGE',\n",
       " 'REGION_POPULATION_RELATIVE',\n",
       " 'TARGET',\n",
       " 'TOTALAREA_MODE',\n",
       " 'YEARS_BEGINEXPLUATATION_AVG',\n",
       " 'YEARS_BEGINEXPLUATATION_MEDI',\n",
       " 'YEARS_BEGINEXPLUATATION_MODE',\n",
       " 'YEARS_BUILD_AVG',\n",
       " 'YEARS_BUILD_MEDI',\n",
       " 'YEARS_BUILD_MODE',\n",
       " 'PREV APP COUNT',\n",
       " 'TOTAL PREV LOAN AMT',\n",
       " 'SK_ID_PREV',\n",
       " 'AMT_ANNUITY_PAVG',\n",
       " 'AMT_APPLICATION',\n",
       " 'AMT_CREDIT_PAVG',\n",
       " 'AMT_DOWN_PAYMENT',\n",
       " 'AMT_GOODS_PRICE_PAVG',\n",
       " 'HOUR_APPR_PROCESS_START_PAVG',\n",
       " 'NFLAG_LAST_APPL_IN_DAY',\n",
       " 'RATE_DOWN_PAYMENT',\n",
       " 'RATE_INTEREST_PRIMARY',\n",
       " 'RATE_INTEREST_PRIVILEGED',\n",
       " 'DAYS_DECISION',\n",
       " 'SELLERPLACE_AREA',\n",
       " 'CNT_PAYMENT',\n",
       " 'DAYS_FIRST_DRAWING',\n",
       " 'DAYS_FIRST_DUE',\n",
       " 'DAYS_LAST_DUE_1ST_VERSION',\n",
       " 'DAYS_LAST_DUE',\n",
       " 'DAYS_TERMINATION',\n",
       " 'NFLAG_INSURED_ON_APPROVAL',\n",
       " 'SK_ID_PREV_CCAVG',\n",
       " 'MONTHS_BALANCE',\n",
       " 'AMT_BALANCE',\n",
       " 'AMT_CREDIT_LIMIT_ACTUAL',\n",
       " 'AMT_DRAWINGS_ATM_CURRENT',\n",
       " 'AMT_DRAWINGS_CURRENT',\n",
       " 'AMT_DRAWINGS_OTHER_CURRENT',\n",
       " 'AMT_DRAWINGS_POS_CURRENT',\n",
       " 'AMT_INST_MIN_REGULARITY',\n",
       " 'AMT_PAYMENT_CURRENT',\n",
       " 'AMT_PAYMENT_TOTAL_CURRENT',\n",
       " 'AMT_RECEIVABLE_PRINCIPAL',\n",
       " 'AMT_RECIVABLE',\n",
       " 'AMT_TOTAL_RECEIVABLE',\n",
       " 'CNT_DRAWINGS_ATM_CURRENT',\n",
       " 'CNT_DRAWINGS_CURRENT',\n",
       " 'CNT_DRAWINGS_OTHER_CURRENT',\n",
       " 'CNT_DRAWINGS_POS_CURRENT',\n",
       " 'CNT_INSTALMENT_MATURE_CUM',\n",
       " 'SK_DPD',\n",
       " 'SK_DPD_DEF',\n",
       " 'SK_ID_BUREAU',\n",
       " 'DAYS_CREDIT',\n",
       " 'CREDIT_DAY_OVERDUE',\n",
       " 'DAYS_CREDIT_ENDDATE',\n",
       " 'DAYS_ENDDATE_FACT',\n",
       " 'AMT_CREDIT_MAX_OVERDUE',\n",
       " 'CNT_CREDIT_PROLONG',\n",
       " 'AMT_CREDIT_SUM',\n",
       " 'AMT_CREDIT_SUM_DEBT',\n",
       " 'AMT_CREDIT_SUM_LIMIT',\n",
       " 'AMT_CREDIT_SUM_OVERDUE',\n",
       " 'DAYS_CREDIT_UPDATE',\n",
       " 'AMT_ANNUITY_BAVG',\n",
       " 'MONTHS_BALANCE_B_B',\n",
       " 'CNT_INSTALMENT',\n",
       " 'CNT_INSTALMENT_FUTURE',\n",
       " 'SK_DPD_CAVG',\n",
       " 'SK_DPD_DEF_CAVG',\n",
       " 'SK_ID_PREV_IAVG',\n",
       " 'NUM_INSTALMENT_VERSION',\n",
       " 'NUM_INSTALMENT_NUMBER',\n",
       " 'DAYS_INSTALMENT',\n",
       " 'DAYS_ENTRY_PAYMENT',\n",
       " 'AMT_INSTALMENT',\n",
       " 'AMT_PAYMENT',\n",
       " 'SK_ID_CURR_CNT_BUREAU',\n",
       " 'SK_ID_CURR_CNT_CRED_CARD',\n",
       " 'SK_ID_CURR_CNT_POS_CASH',\n",
       " 'SK_ID_CURR_CNT_INSTALL']"
      ]
     },
     "execution_count": 123,
     "metadata": {},
     "output_type": "execute_result"
    }
   ],
   "source": [
    "contin"
   ]
  },
  {
   "cell_type": "code",
   "execution_count": 122,
   "metadata": {
    "scrolled": true
   },
   "outputs": [
    {
     "data": {
      "text/plain": [
       "['CNT_CHILDREN',\n",
       " 'DAYS_BIRTH',\n",
       " 'DAYS_EMPLOYED',\n",
       " 'DAYS_ID_PUBLISH',\n",
       " 'FLAG_CONT_MOBILE',\n",
       " 'FLAG_DOCUMENT_10',\n",
       " 'FLAG_DOCUMENT_11',\n",
       " 'FLAG_DOCUMENT_12',\n",
       " 'FLAG_DOCUMENT_13',\n",
       " 'FLAG_DOCUMENT_14',\n",
       " 'FLAG_DOCUMENT_15',\n",
       " 'FLAG_DOCUMENT_16',\n",
       " 'FLAG_DOCUMENT_17',\n",
       " 'FLAG_DOCUMENT_18',\n",
       " 'FLAG_DOCUMENT_19',\n",
       " 'FLAG_DOCUMENT_2',\n",
       " 'FLAG_DOCUMENT_20',\n",
       " 'FLAG_DOCUMENT_21',\n",
       " 'FLAG_DOCUMENT_3',\n",
       " 'FLAG_DOCUMENT_4',\n",
       " 'FLAG_DOCUMENT_5',\n",
       " 'FLAG_DOCUMENT_6',\n",
       " 'FLAG_DOCUMENT_7',\n",
       " 'FLAG_DOCUMENT_8',\n",
       " 'FLAG_DOCUMENT_9',\n",
       " 'FLAG_EMAIL',\n",
       " 'FLAG_EMP_PHONE',\n",
       " 'FLAG_MOBIL',\n",
       " 'FLAG_PHONE',\n",
       " 'FLAG_WORK_PHONE',\n",
       " 'HOUR_APPR_PROCESS_START',\n",
       " 'LIVE_CITY_NOT_WORK_CITY',\n",
       " 'LIVE_REGION_NOT_WORK_REGION',\n",
       " 'REGION_RATING_CLIENT',\n",
       " 'REGION_RATING_CLIENT_W_CITY',\n",
       " 'REG_CITY_NOT_LIVE_CITY',\n",
       " 'REG_CITY_NOT_WORK_CITY',\n",
       " 'REG_REGION_NOT_LIVE_REGION',\n",
       " 'REG_REGION_NOT_WORK_REGION',\n",
       " 'SK_ID_CURR',\n",
       " 'CODE_GENDER',\n",
       " 'EMERGENCYSTATE_MODE',\n",
       " 'FLAG_OWN_CAR',\n",
       " 'FLAG_OWN_REALTY',\n",
       " 'FONDKAPREMONT_MODE',\n",
       " 'HOUSETYPE_MODE',\n",
       " 'NAME_CONTRACT_TYPE',\n",
       " 'NAME_EDUCATION_TYPE',\n",
       " 'NAME_FAMILY_STATUS',\n",
       " 'NAME_HOUSING_TYPE',\n",
       " 'NAME_INCOME_TYPE',\n",
       " 'NAME_TYPE_SUITE',\n",
       " 'OCCUPATION_TYPE',\n",
       " 'ORGANIZATION_TYPE',\n",
       " 'WALLSMATERIAL_MODE',\n",
       " 'WEEKDAY_APPR_PROCESS_START',\n",
       " 'NAME_CONTRACT_TYPE_BAVG',\n",
       " 'WEEKDAY_APPR_PROCESS_START_BAVG',\n",
       " 'FLAG_LAST_APPL_PER_CONTRACT',\n",
       " 'NAME_CASH_LOAN_PURPOSE',\n",
       " 'NAME_CONTRACT_STATUS',\n",
       " 'NAME_PAYMENT_TYPE',\n",
       " 'CODE_REJECT_REASON',\n",
       " 'NAME_TYPE_SUITE_BAVG',\n",
       " 'NAME_CLIENT_TYPE',\n",
       " 'NAME_GOODS_CATEGORY',\n",
       " 'NAME_PORTFOLIO',\n",
       " 'NAME_PRODUCT_TYPE',\n",
       " 'CHANNEL_TYPE',\n",
       " 'NAME_SELLER_INDUSTRY',\n",
       " 'NAME_YIELD_GROUP',\n",
       " 'PRODUCT_COMBINATION',\n",
       " 'NAME_CONTRACT_STATUS_CCAVG',\n",
       " 'STATUS',\n",
       " 'NAME_CONTRACT_STATUS_CAVG']"
      ]
     },
     "execution_count": 122,
     "metadata": {},
     "output_type": "execute_result"
    }
   ],
   "source": [
    "cat"
   ]
  },
  {
   "cell_type": "code",
   "execution_count": 140,
   "metadata": {},
   "outputs": [],
   "source": [
    "cat_vars = [\n",
    " 'CNT_CHILDREN',\n",
    " 'FLAG_CONT_MOBILE','FLAG_DOCUMENT_10','FLAG_DOCUMENT_11',\n",
    " 'FLAG_DOCUMENT_12','FLAG_DOCUMENT_13','FLAG_DOCUMENT_14','FLAG_DOCUMENT_15',\n",
    " 'FLAG_DOCUMENT_16','FLAG_DOCUMENT_17','FLAG_DOCUMENT_18','FLAG_DOCUMENT_19',\n",
    " 'FLAG_DOCUMENT_2','FLAG_DOCUMENT_20','FLAG_DOCUMENT_21','FLAG_DOCUMENT_3',\n",
    " 'FLAG_DOCUMENT_4','FLAG_DOCUMENT_5','FLAG_DOCUMENT_6','FLAG_DOCUMENT_7',\n",
    " 'FLAG_DOCUMENT_8','FLAG_DOCUMENT_9','FLAG_EMAIL','FLAG_EMP_PHONE',\n",
    " 'FLAG_MOBIL','FLAG_PHONE','FLAG_WORK_PHONE','HOUR_APPR_PROCESS_START',\n",
    " 'LIVE_CITY_NOT_WORK_CITY','LIVE_REGION_NOT_WORK_REGION','REGION_RATING_CLIENT',\n",
    " 'REGION_RATING_CLIENT_W_CITY','REG_CITY_NOT_LIVE_CITY','REG_CITY_NOT_WORK_CITY',\n",
    " 'REG_REGION_NOT_LIVE_REGION','REG_REGION_NOT_WORK_REGION','CODE_GENDER',\n",
    " 'EMERGENCYSTATE_MODE','FLAG_OWN_CAR','FLAG_OWN_REALTY','FONDKAPREMONT_MODE',\n",
    " 'HOUSETYPE_MODE','NAME_CONTRACT_TYPE','NAME_EDUCATION_TYPE','NAME_FAMILY_STATUS',\n",
    " 'NAME_HOUSING_TYPE','NAME_INCOME_TYPE','NAME_TYPE_SUITE','OCCUPATION_TYPE',\n",
    " 'ORGANIZATION_TYPE','WALLSMATERIAL_MODE','WEEKDAY_APPR_PROCESS_START',\n",
    " 'NAME_CONTRACT_TYPE_BAVG','WEEKDAY_APPR_PROCESS_START_BAVG','FLAG_LAST_APPL_PER_CONTRACT',\n",
    " 'NAME_CASH_LOAN_PURPOSE','NAME_CONTRACT_STATUS','NAME_PAYMENT_TYPE','CODE_REJECT_REASON',\n",
    " 'NAME_TYPE_SUITE_BAVG','NAME_CLIENT_TYPE','NAME_GOODS_CATEGORY','NAME_PORTFOLIO',\n",
    " 'NAME_PRODUCT_TYPE','CHANNEL_TYPE','NAME_SELLER_INDUSTRY','NAME_YIELD_GROUP','PRODUCT_COMBINATION',\n",
    " 'NAME_CONTRACT_STATUS_CCAVG','STATUS','NAME_CONTRACT_STATUS_CAVG'\n",
    "]\n",
    "contin_vars = [\n",
    "    'AMT_ANNUITY','AMT_CREDIT','AMT_GOODS_PRICE','AMT_INCOME_TOTAL', 'DAYS_BIRTH', \n",
    "    'DAYS_EMPLOYED','AMT_REQ_CREDIT_BUREAU_DAY','AMT_REQ_CREDIT_BUREAU_HOUR',\n",
    "    'DAYS_ID_PUBLISH','AMT_REQ_CREDIT_BUREAU_MON','AMT_REQ_CREDIT_BUREAU_QRT',\n",
    "    'AMT_REQ_CREDIT_BUREAU_WEEK','AMT_REQ_CREDIT_BUREAU_YEAR',\n",
    "    'APARTMENTS_AVG','APARTMENTS_MEDI','APARTMENTS_MODE','BASEMENTAREA_AVG',\n",
    "    'BASEMENTAREA_MEDI','BASEMENTAREA_MODE','CNT_FAM_MEMBERS','COMMONAREA_AVG',\n",
    "    'COMMONAREA_MEDI','COMMONAREA_MODE','DAYS_LAST_PHONE_CHANGE','DAYS_REGISTRATION',\n",
    "    'DEF_30_CNT_SOCIAL_CIRCLE','DEF_60_CNT_SOCIAL_CIRCLE','ELEVATORS_AVG',\n",
    "    'ELEVATORS_MEDI','ELEVATORS_MODE','ENTRANCES_AVG','ENTRANCES_MEDI','ENTRANCES_MODE',\n",
    "    'EXT_SOURCE_1','EXT_SOURCE_2','EXT_SOURCE_3','FLOORSMAX_AVG','FLOORSMAX_MEDI',\n",
    "    'FLOORSMAX_MODE','FLOORSMIN_AVG','FLOORSMIN_MEDI','FLOORSMIN_MODE','LANDAREA_AVG',\n",
    "    'LANDAREA_MEDI','LANDAREA_MODE','LIVINGAPARTMENTS_AVG','LIVINGAPARTMENTS_MEDI',\n",
    "    'LIVINGAPARTMENTS_MODE','LIVINGAREA_AVG','LIVINGAREA_MEDI','LIVINGAREA_MODE',\n",
    "    'NONLIVINGAPARTMENTS_AVG','NONLIVINGAPARTMENTS_MEDI','NONLIVINGAPARTMENTS_MODE',\n",
    "    'NONLIVINGAREA_AVG','NONLIVINGAREA_MEDI','NONLIVINGAREA_MODE','OBS_30_CNT_SOCIAL_CIRCLE',\n",
    "    'OBS_60_CNT_SOCIAL_CIRCLE','OWN_CAR_AGE','REGION_POPULATION_RELATIVE','TARGET',\n",
    "    'TOTALAREA_MODE','YEARS_BEGINEXPLUATATION_AVG','YEARS_BEGINEXPLUATATION_MEDI',\n",
    "    'YEARS_BEGINEXPLUATATION_MODE','YEARS_BUILD_AVG','YEARS_BUILD_MEDI','YEARS_BUILD_MODE',\n",
    "    'PREV APP COUNT','TOTAL PREV LOAN AMT','SK_ID_PREV','AMT_ANNUITY_PAVG','AMT_APPLICATION',\n",
    "    'AMT_CREDIT_PAVG','AMT_DOWN_PAYMENT','AMT_GOODS_PRICE_PAVG','HOUR_APPR_PROCESS_START_PAVG',\n",
    "    'NFLAG_LAST_APPL_IN_DAY','RATE_DOWN_PAYMENT','RATE_INTEREST_PRIMARY','RATE_INTEREST_PRIVILEGED',\n",
    "    'DAYS_DECISION','SELLERPLACE_AREA','CNT_PAYMENT','DAYS_FIRST_DRAWING','DAYS_FIRST_DUE',\n",
    "    'DAYS_LAST_DUE_1ST_VERSION','DAYS_LAST_DUE','DAYS_TERMINATION','NFLAG_INSURED_ON_APPROVAL',\n",
    "    'SK_ID_PREV_CCAVG','MONTHS_BALANCE','AMT_BALANCE','AMT_CREDIT_LIMIT_ACTUAL','AMT_DRAWINGS_ATM_CURRENT',\n",
    "    'AMT_DRAWINGS_CURRENT','AMT_DRAWINGS_OTHER_CURRENT','AMT_DRAWINGS_POS_CURRENT',\n",
    "    'AMT_INST_MIN_REGULARITY','AMT_PAYMENT_CURRENT','AMT_PAYMENT_TOTAL_CURRENT',\n",
    "    'AMT_RECEIVABLE_PRINCIPAL','AMT_RECIVABLE','AMT_TOTAL_RECEIVABLE','CNT_DRAWINGS_ATM_CURRENT',\n",
    "    'CNT_DRAWINGS_CURRENT','CNT_DRAWINGS_OTHER_CURRENT','CNT_DRAWINGS_POS_CURRENT',\n",
    "    'CNT_INSTALMENT_MATURE_CUM','SK_DPD','SK_DPD_DEF','SK_ID_BUREAU','DAYS_CREDIT',\n",
    "    'CREDIT_DAY_OVERDUE','DAYS_CREDIT_ENDDATE','DAYS_ENDDATE_FACT','AMT_CREDIT_MAX_OVERDUE',\n",
    "    'CNT_CREDIT_PROLONG','AMT_CREDIT_SUM','AMT_CREDIT_SUM_DEBT','AMT_CREDIT_SUM_LIMIT',\n",
    "    'AMT_CREDIT_SUM_OVERDUE','DAYS_CREDIT_UPDATE','AMT_ANNUITY_BAVG','MONTHS_BALANCE_B_B',\n",
    "    'CNT_INSTALMENT','CNT_INSTALMENT_FUTURE','SK_DPD_CAVG','SK_DPD_DEF_CAVG','SK_ID_PREV_IAVG',\n",
    "    'NUM_INSTALMENT_VERSION','NUM_INSTALMENT_NUMBER','DAYS_INSTALMENT','DAYS_ENTRY_PAYMENT',\n",
    "    'AMT_INSTALMENT','AMT_PAYMENT','SK_ID_CURR_CNT_BUREAU','SK_ID_CURR_CNT_CRED_CARD',\n",
    "    'SK_ID_CURR_CNT_POS_CASH','SK_ID_CURR_CNT_INSTALL', 'SK_ID_CURR'\n",
    "]\n"
   ]
  },
  {
   "cell_type": "code",
   "execution_count": 141,
   "metadata": {},
   "outputs": [],
   "source": [
    "for v in contin_vars:\n",
    "    merged_df[v] = merged_df[v].fillna(0).astype('float32')"
   ]
  },
  {
   "cell_type": "code",
   "execution_count": 142,
   "metadata": {},
   "outputs": [],
   "source": [
    "for v in cat_vars:\n",
    "    merged_df[v] = merged_df[v].astype('category')"
   ]
  },
  {
   "cell_type": "code",
   "execution_count": 143,
   "metadata": {},
   "outputs": [],
   "source": [
    "SK_ID_CURR = 'SK_ID_CURR'"
   ]
  },
  {
   "cell_type": "code",
   "execution_count": 193,
   "metadata": {},
   "outputs": [],
   "source": [
    "merged_df[SK_ID_CURR] = merged_df[SK_ID_CURR].astype('int64')"
   ]
  },
  {
   "cell_type": "code",
   "execution_count": 194,
   "metadata": {},
   "outputs": [],
   "source": [
    "train_df = merged_df.loc[merged_df['SK_ID_CURR'].isin(application_train[SK_ID_CURR])]"
   ]
  },
  {
   "cell_type": "code",
   "execution_count": 195,
   "metadata": {},
   "outputs": [],
   "source": [
    "test_df = merged_df.loc[merged_df[SK_ID_CURR].isin(application_test[SK_ID_CURR])]"
   ]
  },
  {
   "cell_type": "code",
   "execution_count": 196,
   "metadata": {},
   "outputs": [],
   "source": [
    "assert(len(test_df) == len(application_test))"
   ]
  },
  {
   "cell_type": "code",
   "execution_count": 197,
   "metadata": {},
   "outputs": [],
   "source": [
    "assert(len(train_df) == len(application_train))"
   ]
  },
  {
   "cell_type": "code",
   "execution_count": 198,
   "metadata": {},
   "outputs": [],
   "source": [
    "samp_size = len(train_df)"
   ]
  },
  {
   "cell_type": "code",
   "execution_count": 199,
   "metadata": {},
   "outputs": [],
   "source": [
    "train_ratio  = 0.75\n",
    "train_size = int(samp_size * train_ratio); train_size\n",
    "val_idx = list(range(train_size, len(train_df)))"
   ]
  },
  {
   "cell_type": "code",
   "execution_count": 200,
   "metadata": {
    "scrolled": true
   },
   "outputs": [
    {
     "data": {
      "text/plain": [
       "[230633,\n",
       " 230634,\n",
       " 230635,\n",
       " 230636,\n",
       " 230637,\n",
       " 230638,\n",
       " 230639,\n",
       " 230640,\n",
       " 230641,\n",
       " 230642]"
      ]
     },
     "execution_count": 200,
     "metadata": {},
     "output_type": "execute_result"
    }
   ],
   "source": [
    "val_idx[:10]"
   ]
  },
  {
   "cell_type": "code",
   "execution_count": 201,
   "metadata": {
    "scrolled": true
   },
   "outputs": [
    {
     "name": "stderr",
     "output_type": "stream",
     "text": [
      "/home/cheeseblubber/anaconda3/envs/fastai-latest/lib/python3.6/site-packages/ipykernel_launcher.py:2: SettingWithCopyWarning: \n",
      "A value is trying to be set on a copy of a slice from a DataFrame.\n",
      "Try using .loc[row_indexer,col_indexer] = value instead\n",
      "\n",
      "See the caveats in the documentation: http://pandas.pydata.org/pandas-docs/stable/indexing.html#indexing-view-versus-copy\n",
      "  \n",
      "/home/cheeseblubber/anaconda3/envs/fastai-latest/lib/python3.6/site-packages/ipykernel_launcher.py:3: SettingWithCopyWarning: \n",
      "A value is trying to be set on a copy of a slice from a DataFrame.\n",
      "Try using .loc[row_indexer,col_indexer] = value instead\n",
      "\n",
      "See the caveats in the documentation: http://pandas.pydata.org/pandas-docs/stable/indexing.html#indexing-view-versus-copy\n",
      "  This is separate from the ipykernel package so we can avoid doing imports until\n"
     ]
    }
   ],
   "source": [
    "for v in cat_vars:\n",
    "    train_df[v] = train_df[v].astype('category')\n",
    "    test_df[v] = test_df[v].astype('category')"
   ]
  },
  {
   "cell_type": "markdown",
   "metadata": {},
   "source": [
    "# Process"
   ]
  },
  {
   "cell_type": "code",
   "execution_count": 202,
   "metadata": {},
   "outputs": [],
   "source": [
    "cat_sz = [(c, len(train_df[c].cat.categories)+1) for c in cat_vars]"
   ]
  },
  {
   "cell_type": "code",
   "execution_count": 203,
   "metadata": {},
   "outputs": [
    {
     "name": "stderr",
     "output_type": "stream",
     "text": [
      "/home/cheeseblubber/workspace/competition/home-default-credit/fastai/structured.py:200: SettingWithCopyWarning: \n",
      "A value is trying to be set on a copy of a slice from a DataFrame.\n",
      "Try using .loc[row_indexer,col_indexer] = value instead\n",
      "\n",
      "See the caveats in the documentation: http://pandas.pydata.org/pandas-docs/stable/indexing.html#indexing-view-versus-copy\n",
      "  df[n] = pd.Categorical(c, categories=trn[n].cat.categories, ordered=True)\n"
     ]
    }
   ],
   "source": [
    "apply_cats(test_df, train_df)"
   ]
  },
  {
   "cell_type": "code",
   "execution_count": 204,
   "metadata": {},
   "outputs": [
    {
     "data": {
      "text/plain": [
       "71"
      ]
     },
     "execution_count": 204,
     "metadata": {},
     "output_type": "execute_result"
    }
   ],
   "source": [
    "len(cat_sz)"
   ]
  },
  {
   "cell_type": "code",
   "execution_count": 205,
   "metadata": {
    "scrolled": true
   },
   "outputs": [
    {
     "data": {
      "text/plain": [
       "[('CNT_CHILDREN', 17),\n",
       " ('FLAG_CONT_MOBILE', 3),\n",
       " ('FLAG_DOCUMENT_10', 3),\n",
       " ('FLAG_DOCUMENT_11', 3),\n",
       " ('FLAG_DOCUMENT_12', 3),\n",
       " ('FLAG_DOCUMENT_13', 3),\n",
       " ('FLAG_DOCUMENT_14', 3),\n",
       " ('FLAG_DOCUMENT_15', 3),\n",
       " ('FLAG_DOCUMENT_16', 3),\n",
       " ('FLAG_DOCUMENT_17', 3),\n",
       " ('FLAG_DOCUMENT_18', 3),\n",
       " ('FLAG_DOCUMENT_19', 3),\n",
       " ('FLAG_DOCUMENT_2', 3),\n",
       " ('FLAG_DOCUMENT_20', 3),\n",
       " ('FLAG_DOCUMENT_21', 3),\n",
       " ('FLAG_DOCUMENT_3', 3),\n",
       " ('FLAG_DOCUMENT_4', 3),\n",
       " ('FLAG_DOCUMENT_5', 3),\n",
       " ('FLAG_DOCUMENT_6', 3),\n",
       " ('FLAG_DOCUMENT_7', 3),\n",
       " ('FLAG_DOCUMENT_8', 3),\n",
       " ('FLAG_DOCUMENT_9', 3),\n",
       " ('FLAG_EMAIL', 3),\n",
       " ('FLAG_EMP_PHONE', 3),\n",
       " ('FLAG_MOBIL', 3),\n",
       " ('FLAG_PHONE', 3),\n",
       " ('FLAG_WORK_PHONE', 3),\n",
       " ('HOUR_APPR_PROCESS_START', 25),\n",
       " ('LIVE_CITY_NOT_WORK_CITY', 3),\n",
       " ('LIVE_REGION_NOT_WORK_REGION', 3),\n",
       " ('REGION_RATING_CLIENT', 4),\n",
       " ('REGION_RATING_CLIENT_W_CITY', 5),\n",
       " ('REG_CITY_NOT_LIVE_CITY', 3),\n",
       " ('REG_CITY_NOT_WORK_CITY', 3),\n",
       " ('REG_REGION_NOT_LIVE_REGION', 3),\n",
       " ('REG_REGION_NOT_WORK_REGION', 3),\n",
       " ('CODE_GENDER', 4),\n",
       " ('EMERGENCYSTATE_MODE', 3),\n",
       " ('FLAG_OWN_CAR', 3),\n",
       " ('FLAG_OWN_REALTY', 3),\n",
       " ('FONDKAPREMONT_MODE', 5),\n",
       " ('HOUSETYPE_MODE', 4),\n",
       " ('NAME_CONTRACT_TYPE', 3),\n",
       " ('NAME_EDUCATION_TYPE', 6),\n",
       " ('NAME_FAMILY_STATUS', 7),\n",
       " ('NAME_HOUSING_TYPE', 7),\n",
       " ('NAME_INCOME_TYPE', 9),\n",
       " ('NAME_TYPE_SUITE', 8),\n",
       " ('OCCUPATION_TYPE', 19),\n",
       " ('ORGANIZATION_TYPE', 59),\n",
       " ('WALLSMATERIAL_MODE', 8),\n",
       " ('WEEKDAY_APPR_PROCESS_START', 8),\n",
       " ('NAME_CONTRACT_TYPE_BAVG', 5),\n",
       " ('WEEKDAY_APPR_PROCESS_START_BAVG', 8),\n",
       " ('FLAG_LAST_APPL_PER_CONTRACT', 3),\n",
       " ('NAME_CASH_LOAN_PURPOSE', 26),\n",
       " ('NAME_CONTRACT_STATUS', 5),\n",
       " ('NAME_PAYMENT_TYPE', 5),\n",
       " ('CODE_REJECT_REASON', 10),\n",
       " ('NAME_TYPE_SUITE_BAVG', 9),\n",
       " ('NAME_CLIENT_TYPE', 5),\n",
       " ('NAME_GOODS_CATEGORY', 27),\n",
       " ('NAME_PORTFOLIO', 6),\n",
       " ('NAME_PRODUCT_TYPE', 4),\n",
       " ('CHANNEL_TYPE', 9),\n",
       " ('NAME_SELLER_INDUSTRY', 12),\n",
       " ('NAME_YIELD_GROUP', 6),\n",
       " ('PRODUCT_COMBINATION', 19),\n",
       " ('NAME_CONTRACT_STATUS_CCAVG', 5),\n",
       " ('STATUS', 9),\n",
       " ('NAME_CONTRACT_STATUS_CAVG', 8)]"
      ]
     },
     "execution_count": 205,
     "metadata": {},
     "output_type": "execute_result"
    }
   ],
   "source": [
    "cat_sz"
   ]
  },
  {
   "cell_type": "code",
   "execution_count": 206,
   "metadata": {
    "scrolled": false
   },
   "outputs": [],
   "source": [
    "emb_szs = [(c, min(50, (c+1)//2)) for _,c in cat_sz]"
   ]
  },
  {
   "cell_type": "code",
   "execution_count": 207,
   "metadata": {},
   "outputs": [
    {
     "name": "stderr",
     "output_type": "stream",
     "text": [
      "/home/cheeseblubber/anaconda3/envs/fastai-latest/lib/python3.6/site-packages/pandas/core/frame.py:3694: SettingWithCopyWarning: \n",
      "A value is trying to be set on a copy of a slice from a DataFrame\n",
      "\n",
      "See the caveats in the documentation: http://pandas.pydata.org/pandas-docs/stable/indexing.html#indexing-view-versus-copy\n",
      "  errors=errors)\n"
     ]
    }
   ],
   "source": [
    "train_df, y, _, mapper = proc_df(train_df, y_fld=\"TARGET\", do_scale=True, skip_flds=[\"SK_ID_CURR\"])"
   ]
  },
  {
   "cell_type": "code",
   "execution_count": 208,
   "metadata": {},
   "outputs": [
    {
     "name": "stderr",
     "output_type": "stream",
     "text": [
      "/home/cheeseblubber/anaconda3/envs/fastai-latest/lib/python3.6/site-packages/pandas/core/frame.py:3694: SettingWithCopyWarning: \n",
      "A value is trying to be set on a copy of a slice from a DataFrame\n",
      "\n",
      "See the caveats in the documentation: http://pandas.pydata.org/pandas-docs/stable/indexing.html#indexing-view-versus-copy\n",
      "  errors=errors)\n"
     ]
    }
   ],
   "source": [
    "# test_df, _, _ = proc_df(application_test, do_scale=True, mapper=mapper)\n",
    "test_df, _, nas, mapper = proc_df(test_df, do_scale=True, mapper=mapper, skip_flds=[\"SK_ID_CURR\", \"TARGET\"])"
   ]
  },
  {
   "cell_type": "code",
   "execution_count": 209,
   "metadata": {},
   "outputs": [
    {
     "data": {
      "text/plain": [
       "set()"
      ]
     },
     "execution_count": 209,
     "metadata": {},
     "output_type": "execute_result"
    }
   ],
   "source": [
    "set(test_df.columns) - set(train_df.columns)"
   ]
  },
  {
   "cell_type": "code",
   "execution_count": 210,
   "metadata": {},
   "outputs": [
    {
     "data": {
      "text/plain": [
       "Index(['AMT_ANNUITY', 'AMT_CREDIT', 'AMT_GOODS_PRICE', 'AMT_INCOME_TOTAL',\n",
       "       'AMT_REQ_CREDIT_BUREAU_DAY', 'AMT_REQ_CREDIT_BUREAU_HOUR',\n",
       "       'AMT_REQ_CREDIT_BUREAU_MON', 'AMT_REQ_CREDIT_BUREAU_QRT',\n",
       "       'AMT_REQ_CREDIT_BUREAU_WEEK', 'AMT_REQ_CREDIT_BUREAU_YEAR',\n",
       "       ...\n",
       "       'NUM_INSTALMENT_VERSION', 'NUM_INSTALMENT_NUMBER', 'DAYS_INSTALMENT',\n",
       "       'DAYS_ENTRY_PAYMENT', 'AMT_INSTALMENT', 'AMT_PAYMENT',\n",
       "       'SK_ID_CURR_CNT_BUREAU', 'SK_ID_CURR_CNT_CRED_CARD',\n",
       "       'SK_ID_CURR_CNT_POS_CASH', 'SK_ID_CURR_CNT_INSTALL'],\n",
       "      dtype='object', length=211)"
      ]
     },
     "execution_count": 210,
     "metadata": {},
     "output_type": "execute_result"
    }
   ],
   "source": [
    "train_df.columns"
   ]
  },
  {
   "cell_type": "code",
   "execution_count": 211,
   "metadata": {},
   "outputs": [
    {
     "data": {
      "text/plain": [
       "211"
      ]
     },
     "execution_count": 211,
     "metadata": {},
     "output_type": "execute_result"
    }
   ],
   "source": [
    "len(test_df.columns)"
   ]
  },
  {
   "cell_type": "code",
   "execution_count": 213,
   "metadata": {},
   "outputs": [],
   "source": [
    "bs = 250"
   ]
  },
  {
   "cell_type": "code",
   "execution_count": 214,
   "metadata": {
    "scrolled": true
   },
   "outputs": [
    {
     "data": {
      "text/plain": [
       "array([1., 0., 0., 0., 0., 0., 0., 0., 0., 0.], dtype=float32)"
      ]
     },
     "execution_count": 214,
     "metadata": {},
     "output_type": "execute_result"
    }
   ],
   "source": [
    "y[:10]"
   ]
  },
  {
   "cell_type": "markdown",
   "metadata": {},
   "source": [
    "# Train"
   ]
  },
  {
   "cell_type": "code",
   "execution_count": 215,
   "metadata": {},
   "outputs": [
    {
     "ename": "ValueError",
     "evalue": "feather does not support serializing a non-default index for the index; you can .reset_index() to make the index into column(s)",
     "output_type": "error",
     "traceback": [
      "\u001b[0;31m---------------------------------------------------------------------------\u001b[0m",
      "\u001b[0;31mValueError\u001b[0m                                Traceback (most recent call last)",
      "\u001b[0;32m<ipython-input-215-fd1c9e2ccdcc>\u001b[0m in \u001b[0;36m<module>\u001b[0;34m()\u001b[0m\n\u001b[1;32m      1\u001b[0m \u001b[0mtrain_df\u001b[0m\u001b[0;34m.\u001b[0m\u001b[0mto_feather\u001b[0m\u001b[0;34m(\u001b[0m\u001b[0;34mf'{PATH}train_df1'\u001b[0m\u001b[0;34m)\u001b[0m\u001b[0;34m\u001b[0m\u001b[0m\n\u001b[0;32m----> 2\u001b[0;31m \u001b[0mtest_df\u001b[0m\u001b[0;34m.\u001b[0m\u001b[0mto_feather\u001b[0m\u001b[0;34m(\u001b[0m\u001b[0;34mf'{PATH}test_df1'\u001b[0m\u001b[0;34m)\u001b[0m\u001b[0;34m\u001b[0m\u001b[0m\n\u001b[0m",
      "\u001b[0;32m~/anaconda3/envs/fastai-latest/lib/python3.6/site-packages/pandas/core/frame.py\u001b[0m in \u001b[0;36mto_feather\u001b[0;34m(self, fname)\u001b[0m\n\u001b[1;32m   1887\u001b[0m         \"\"\"\n\u001b[1;32m   1888\u001b[0m         \u001b[0;32mfrom\u001b[0m \u001b[0mpandas\u001b[0m\u001b[0;34m.\u001b[0m\u001b[0mio\u001b[0m\u001b[0;34m.\u001b[0m\u001b[0mfeather_format\u001b[0m \u001b[0;32mimport\u001b[0m \u001b[0mto_feather\u001b[0m\u001b[0;34m\u001b[0m\u001b[0m\n\u001b[0;32m-> 1889\u001b[0;31m         \u001b[0mto_feather\u001b[0m\u001b[0;34m(\u001b[0m\u001b[0mself\u001b[0m\u001b[0;34m,\u001b[0m \u001b[0mfname\u001b[0m\u001b[0;34m)\u001b[0m\u001b[0;34m\u001b[0m\u001b[0m\n\u001b[0m\u001b[1;32m   1890\u001b[0m \u001b[0;34m\u001b[0m\u001b[0m\n\u001b[1;32m   1891\u001b[0m     def to_parquet(self, fname, engine='auto', compression='snappy',\n",
      "\u001b[0;32m~/anaconda3/envs/fastai-latest/lib/python3.6/site-packages/pandas/io/feather_format.py\u001b[0m in \u001b[0;36mto_feather\u001b[0;34m(df, path)\u001b[0m\n\u001b[1;32m     65\u001b[0m \u001b[0;34m\u001b[0m\u001b[0m\n\u001b[1;32m     66\u001b[0m     \u001b[0;32mif\u001b[0m \u001b[0;32mnot\u001b[0m \u001b[0mdf\u001b[0m\u001b[0;34m.\u001b[0m\u001b[0mindex\u001b[0m\u001b[0;34m.\u001b[0m\u001b[0mequals\u001b[0m\u001b[0;34m(\u001b[0m\u001b[0mRangeIndex\u001b[0m\u001b[0;34m.\u001b[0m\u001b[0mfrom_range\u001b[0m\u001b[0;34m(\u001b[0m\u001b[0mrange\u001b[0m\u001b[0;34m(\u001b[0m\u001b[0mlen\u001b[0m\u001b[0;34m(\u001b[0m\u001b[0mdf\u001b[0m\u001b[0;34m)\u001b[0m\u001b[0;34m)\u001b[0m\u001b[0;34m)\u001b[0m\u001b[0;34m)\u001b[0m\u001b[0;34m:\u001b[0m\u001b[0;34m\u001b[0m\u001b[0m\n\u001b[0;32m---> 67\u001b[0;31m         raise ValueError(\"feather does not support serializing a \"\n\u001b[0m\u001b[1;32m     68\u001b[0m                          \u001b[0;34m\"non-default index for the index; you \"\u001b[0m\u001b[0;34m\u001b[0m\u001b[0m\n\u001b[1;32m     69\u001b[0m                          \u001b[0;34m\"can .reset_index() to make the index \"\u001b[0m\u001b[0;34m\u001b[0m\u001b[0m\n",
      "\u001b[0;31mValueError\u001b[0m: feather does not support serializing a non-default index for the index; you can .reset_index() to make the index into column(s)"
     ]
    }
   ],
   "source": [
    "train_df.to_feather(f'{PATH}train_df1')\n",
    "test_df.to_feather(f'{PATH}test_df1')"
   ]
  },
  {
   "cell_type": "code",
   "execution_count": 216,
   "metadata": {},
   "outputs": [],
   "source": [
    "pickle.dump(val_idx, open(f'{PATH}val_idx1','wb'))"
   ]
  },
  {
   "cell_type": "code",
   "execution_count": 217,
   "metadata": {},
   "outputs": [],
   "source": [
    "pickle.dump(y, open(f'{PATH}y1','wb'))\n",
    "pickle.dump(emb_szs, open(f'{PATH}emb_szs1','wb'))\n",
    "pickle.dump(cat_vars, open(f'{PATH}cat_vars1','wb'))\n",
    "pickle.dump(contin_vars, open(f'{PATH}contin_vars1','wb'))"
   ]
  },
  {
   "cell_type": "code",
   "execution_count": 218,
   "metadata": {},
   "outputs": [],
   "source": [
    "from fastai.structured import apply_cats, proc_df\n",
    "from fastai.column_data import *\n",
    "from sklearn.preprocessing import LabelEncoder\n",
    "import pandas as pd\n",
    "import dill as pickle\n",
    "from sklearn.metrics import roc_curve, auc\n",
    "\n",
    "import numpy as np\n",
    "np.set_printoptions(threshold=50, edgeitems=20)\n",
    "data_path=Path('data/')\n",
    "PATH = data_path"
   ]
  },
  {
   "cell_type": "code",
   "execution_count": 138,
   "metadata": {},
   "outputs": [],
   "source": [
    "train_df = pd.read_feather(f'{PATH}train_df1')\n",
    "test_df = pd.read_feather(f'{PATH}test_df1')"
   ]
  },
  {
   "cell_type": "code",
   "execution_count": 4,
   "metadata": {},
   "outputs": [],
   "source": [
    "val_idx = pickle.load(open(f'{PATH}val_idx1','rb'))\n",
    "cat_vars = pickle.load(open(f'{PATH}cat_vars1','rb'))\n",
    "emb_szs = pickle.load(open(f'{PATH}emb_szs1','rb'))"
   ]
  },
  {
   "cell_type": "code",
   "execution_count": 6,
   "metadata": {},
   "outputs": [
    {
     "data": {
      "text/plain": [
       "'[(17, 9), (3, 2), (3, 2), (3, 2), (3, 2), (3, 2), (3, 2), (3, 2), (3, 2), (3, 2), (3, 2), (3, 2), (3, 2), (3, 2), (3, 2), (3, 2), (3, 2), (3, 2), (3, 2), (3, 2), (3, 2), (3, 2), (3, 2), (3, 2), (3, 2), (3, 2), (3, 2), (25, 13), (3, 2), (3, 2), (4, 2), (5, 3), (3, 2), (3, 2), (3, 2), (3, 2), (4, 2), (3, 2), (3, 2), (3, 2), (5, 3), (4, 2), (3, 2), (6, 3), (7, 4), (7, 4), (9, 5), (8, 4), (19, 10), (59, 30), (8, 4), (8, 4), (5, 3), (8, 4), (3, 2), (26, 13), (5, 3), (5, 3), (10, 5), (9, 5), (5, 3), (27, 14), (6, 3), (4, 2), (9, 5), (12, 6), (6, 3), (19, 10), (5, 3), (9, 5), (8, 4)]'"
      ]
     },
     "execution_count": 6,
     "metadata": {},
     "output_type": "execute_result"
    }
   ],
   "source": [
    "str(emb_szs)"
   ]
  },
  {
   "cell_type": "code",
   "execution_count": 140,
   "metadata": {
    "scrolled": true
   },
   "outputs": [],
   "source": [
    "y = pickle.load(open(f'{PATH}y1','rb'))"
   ]
  },
  {
   "cell_type": "code",
   "execution_count": 164,
   "metadata": {},
   "outputs": [
    {
     "data": {
      "text/plain": [
       "(307511,)"
      ]
     },
     "execution_count": 164,
     "metadata": {},
     "output_type": "execute_result"
    }
   ],
   "source": [
    "y.shape"
   ]
  },
  {
   "cell_type": "code",
   "execution_count": 219,
   "metadata": {},
   "outputs": [],
   "source": [
    "md = ColumnarModelData.from_data_frame(\n",
    "    PATH, val_idx, train_df, y.astype(np.int32), \n",
    "    cat_flds=cat_vars, bs=bs, is_reg=False, test_df=test_df,\n",
    "    is_multi=False\n",
    ")"
   ]
  },
  {
   "cell_type": "code",
   "execution_count": 222,
   "metadata": {},
   "outputs": [],
   "source": [
    "m = md.get_learner(emb_szs, len(train_df.columns)-len(cat_vars),\n",
    "                   0.04, 2, [200,50], drops=[0.1, 0.05])"
   ]
  },
  {
   "cell_type": "code",
   "execution_count": 223,
   "metadata": {
    "scrolled": true
   },
   "outputs": [
    {
     "data": {
      "application/vnd.jupyter.widget-view+json": {
       "model_id": "350071d2d24e4eeb9653cadd53bb33da",
       "version_major": 2,
       "version_minor": 0
      },
      "text/plain": [
       "HBox(children=(IntProgress(value=0, description='Epoch', max=1), HTML(value='')))"
      ]
     },
     "metadata": {},
     "output_type": "display_data"
    },
    {
     "name": "stdout",
     "output_type": "stream",
     "text": [
      "epoch      trn_loss   val_loss                               \n",
      "    0      0.491803   0.301889  \n",
      "\n"
     ]
    }
   ],
   "source": [
    "m.lr_find()"
   ]
  },
  {
   "cell_type": "code",
   "execution_count": 224,
   "metadata": {
    "scrolled": false
   },
   "outputs": [
    {
     "data": {
      "image/png": "[encoded data removed]",
      "text/plain": [
       "<Figure size 432x288 with 1 Axes>"
      ]
     },
     "metadata": {},
     "output_type": "display_data"
    }
   ],
   "source": [
    "m.sched.plot(10)"
   ]
  },
  {
   "cell_type": "code",
   "execution_count": 225,
   "metadata": {},
   "outputs": [],
   "source": [
    "lr = 1e-4"
   ]
  },
  {
   "cell_type": "code",
   "execution_count": 226,
   "metadata": {
    "scrolled": true
   },
   "outputs": [
    {
     "data": {
      "application/vnd.jupyter.widget-view+json": {
       "model_id": "b61ceb0619924d7588d1abf27e0416bb",
       "version_major": 2,
       "version_minor": 0
      },
      "text/plain": [
       "HBox(children=(IntProgress(value=0, description='Epoch', max=4), HTML(value='')))"
      ]
     },
     "metadata": {},
     "output_type": "display_data"
    },
    {
     "name": "stdout",
     "output_type": "stream",
     "text": [
      "epoch      trn_loss   val_loss                               \n",
      "    0      0.269622   0.254254  \n",
      "    1      0.261042   0.252299                               \n",
      "    2      0.260296   0.248459                               \n",
      "    3      0.250784   0.248047                               \n",
      "\n"
     ]
    },
    {
     "data": {
      "text/plain": [
       "[array([0.24805])]"
      ]
     },
     "execution_count": 226,
     "metadata": {},
     "output_type": "execute_result"
    }
   ],
   "source": [
    "m.fit(lr, 2, cycle_len=2)"
   ]
  },
  {
   "cell_type": "code",
   "execution_count": 227,
   "metadata": {},
   "outputs": [
    {
     "data": {
      "application/vnd.jupyter.widget-view+json": {
       "model_id": "ca200556d8074e6cb1bba3093ed474ae",
       "version_major": 2,
       "version_minor": 0
      },
      "text/plain": [
       "HBox(children=(IntProgress(value=0, description='Epoch', max=18), HTML(value='')))"
      ]
     },
     "metadata": {},
     "output_type": "display_data"
    },
    {
     "name": "stdout",
     "output_type": "stream",
     "text": [
      "epoch      trn_loss   val_loss                               \n",
      "    0      0.251288   0.246999  \n",
      "    1      0.248862   0.246342                               \n",
      "    2      0.254452   0.246128                               \n",
      "    3      0.255483   0.245818                               \n",
      "    4      0.248111   0.245447                               \n",
      "    5      0.248895   0.245202                               \n",
      "    6      0.2458     0.245072                               \n",
      "    7      0.251262   0.24472                                \n",
      "    8      0.235818   0.244559                               \n",
      "    9      0.245718   0.244472                               \n",
      "    10     0.255287   0.244378                               \n",
      "    11     0.248279   0.244102                               \n",
      "    12     0.248839   0.243992                               \n",
      "    13     0.24591    0.243848                               \n",
      "    14     0.247467   0.243789                               \n",
      "    15     0.243705   0.243838                               \n",
      "    16     0.242595   0.243585                               \n",
      "    17     0.244388   0.243573                               \n",
      "\n"
     ]
    },
    {
     "data": {
      "text/plain": [
       "[array([0.24357])]"
      ]
     },
     "execution_count": 227,
     "metadata": {},
     "output_type": "execute_result"
    }
   ],
   "source": [
    "m.fit(lr, 6, wds=1e-7, cycle_len=3, best_save_name=\"best_home_default1\")"
   ]
  },
  {
   "cell_type": "code",
   "execution_count": 228,
   "metadata": {},
   "outputs": [
    {
     "data": {
      "application/vnd.jupyter.widget-view+json": {
       "model_id": "1c90ce5b14b4447bb18c30d1fd1d2fea",
       "version_major": 2,
       "version_minor": 0
      },
      "text/plain": [
       "HBox(children=(IntProgress(value=0, description='Epoch', max=4), HTML(value='')))"
      ]
     },
     "metadata": {},
     "output_type": "display_data"
    },
    {
     "name": "stdout",
     "output_type": "stream",
     "text": [
      "epoch      trn_loss   val_loss                               \n",
      "    0      0.248867   0.243536  \n",
      "    1      0.243245   0.243537                               \n",
      "    2      0.242415   0.243561                               \n",
      "    3      0.251405   0.243535                               \n",
      "\n"
     ]
    },
    {
     "data": {
      "text/plain": [
       "[array([0.24353])]"
      ]
     },
     "execution_count": 228,
     "metadata": {},
     "output_type": "execute_result"
    }
   ],
   "source": [
    "m.fit(lr/10, 2, cycle_len=2, wds=1e-7, best_save_name=\"best_home_default1\")"
   ]
  },
  {
   "cell_type": "code",
   "execution_count": 229,
   "metadata": {},
   "outputs": [
    {
     "data": {
      "application/vnd.jupyter.widget-view+json": {
       "model_id": "2f3d4682fffe4283be71e9e788d0a732",
       "version_major": 2,
       "version_minor": 0
      },
      "text/plain": [
       "HBox(children=(IntProgress(value=0, description='Epoch', max=8), HTML(value='')))"
      ]
     },
     "metadata": {},
     "output_type": "display_data"
    },
    {
     "name": "stdout",
     "output_type": "stream",
     "text": [
      "epoch      trn_loss   val_loss                               \n",
      "    0      0.243394   0.243498  \n",
      "    1      0.244382   0.24349                                \n",
      "    2      0.240855   0.243488                               \n",
      "    3      0.242434   0.243485                               \n",
      "    4      0.244021   0.243473                               \n",
      "    5      0.239255   0.243473                               \n",
      "    6      0.242067   0.243458                               \n",
      "    7      0.248448   0.243452                               \n",
      "\n"
     ]
    },
    {
     "data": {
      "text/plain": [
       "[array([0.24345])]"
      ]
     },
     "execution_count": 229,
     "metadata": {},
     "output_type": "execute_result"
    }
   ],
   "source": [
    "m.fit(lr/15, 4, cycle_len=2, wds=1e-7, best_save_name=\"best_home_default1\")"
   ]
  },
  {
   "cell_type": "code",
   "execution_count": 230,
   "metadata": {},
   "outputs": [
    {
     "data": {
      "application/vnd.jupyter.widget-view+json": {
       "model_id": "fc3fcefe473c4da0bfc8f9f1d4de6da8",
       "version_major": 2,
       "version_minor": 0
      },
      "text/plain": [
       "HBox(children=(IntProgress(value=0, description='Epoch', max=16), HTML(value='')))"
      ]
     },
     "metadata": {},
     "output_type": "display_data"
    },
    {
     "name": "stdout",
     "output_type": "stream",
     "text": [
      "epoch      trn_loss   val_loss                               \n",
      "    0      0.247743   0.243433  \n",
      "    1      0.240882   0.243443                               \n",
      "    2      0.248794   0.24344                                \n",
      "    3      0.239287   0.243423                               \n",
      "    4      0.246406   0.243426                               \n",
      "    5      0.247181   0.243421                               \n",
      "    6      0.236405   0.243422                               \n",
      "    7      0.240188   0.243412                               \n",
      "    8      0.247726   0.243411                               \n",
      "    9      0.241159   0.243415                               \n",
      "    10     0.245635   0.243428                               \n",
      "    11     0.245716   0.243426                               \n",
      "    12     0.242063   0.243421                               \n",
      "    13     0.242413   0.243412                               \n",
      "    14     0.240526   0.243403                               \n",
      "    15     0.239232   0.243404                               \n",
      "\n"
     ]
    },
    {
     "data": {
      "text/plain": [
       "[array([0.2434])]"
      ]
     },
     "execution_count": 230,
     "metadata": {},
     "output_type": "execute_result"
    }
   ],
   "source": [
    "m.fit(lr/17, 8, cycle_len=2, wds=1e-7, best_save_name=\"best_home_default1\")"
   ]
  },
  {
   "cell_type": "code",
   "execution_count": 231,
   "metadata": {},
   "outputs": [],
   "source": [
    "m.save('val3')"
   ]
  },
  {
   "cell_type": "code",
   "execution_count": 232,
   "metadata": {},
   "outputs": [],
   "source": [
    "m.load('val3')"
   ]
  },
  {
   "cell_type": "markdown",
   "metadata": {},
   "source": [
    "# Eval"
   ]
  },
  {
   "cell_type": "code",
   "execution_count": 233,
   "metadata": {},
   "outputs": [],
   "source": [
    "x1,y1=m.predict_with_targs()"
   ]
  },
  {
   "cell_type": "code",
   "execution_count": 234,
   "metadata": {},
   "outputs": [],
   "source": [
    "predict_with_targs??"
   ]
  },
  {
   "cell_type": "code",
   "execution_count": 236,
   "metadata": {},
   "outputs": [],
   "source": [
    "pred_test1=m.predict(True)"
   ]
  },
  {
   "cell_type": "code",
   "execution_count": 237,
   "metadata": {},
   "outputs": [
    {
     "data": {
      "text/plain": [
       "48744"
      ]
     },
     "execution_count": 237,
     "metadata": {},
     "output_type": "execute_result"
    }
   ],
   "source": [
    "len(pred_test1)"
   ]
  },
  {
   "cell_type": "code",
   "execution_count": 238,
   "metadata": {},
   "outputs": [
    {
     "data": {
      "text/plain": [
       "48744"
      ]
     },
     "execution_count": 238,
     "metadata": {},
     "output_type": "execute_result"
    }
   ],
   "source": [
    "len(application_test)"
   ]
  },
  {
   "cell_type": "code",
   "execution_count": 239,
   "metadata": {},
   "outputs": [
    {
     "data": {
      "text/plain": [
       "array([[0.97127, 0.02873],\n",
       "       [0.82616, 0.17384],\n",
       "       [0.95288, 0.04712],\n",
       "       [0.9416 , 0.0584 ],\n",
       "       [0.82191, 0.17809],\n",
       "       [0.94773, 0.05227],\n",
       "       [0.99155, 0.00845],\n",
       "       [0.96476, 0.03524],\n",
       "       [0.98927, 0.01073],\n",
       "       [0.84968, 0.15032],\n",
       "       [0.95928, 0.04072],\n",
       "       [0.93739, 0.06261],\n",
       "       [0.84822, 0.15178],\n",
       "       [0.95582, 0.04418],\n",
       "       [0.95685, 0.04315],\n",
       "       [0.87581, 0.12419],\n",
       "       [0.9434 , 0.0566 ],\n",
       "       [0.98392, 0.01608],\n",
       "       [0.85829, 0.14171],\n",
       "       [0.96431, 0.03569],\n",
       "       ...,\n",
       "       [0.89842, 0.10158],\n",
       "       [0.93957, 0.06043],\n",
       "       [0.97164, 0.02836],\n",
       "       [0.97426, 0.02574],\n",
       "       [0.9841 , 0.0159 ],\n",
       "       [0.94253, 0.05747],\n",
       "       [0.89819, 0.10181],\n",
       "       [0.99082, 0.00918],\n",
       "       [0.92628, 0.07372],\n",
       "       [0.97945, 0.02055],\n",
       "       [0.95783, 0.04217],\n",
       "       [0.9544 , 0.0456 ],\n",
       "       [0.98693, 0.01307],\n",
       "       [0.87969, 0.12031],\n",
       "       [0.95937, 0.04063],\n",
       "       [0.95585, 0.04415],\n",
       "       [0.91303, 0.08697],\n",
       "       [0.97566, 0.02434],\n",
       "       [0.94182, 0.05818],\n",
       "       [0.81998, 0.18002]], dtype=float32)"
      ]
     },
     "execution_count": 239,
     "metadata": {},
     "output_type": "execute_result"
    }
   ],
   "source": [
    "np.exp(pred_test1)"
   ]
  },
  {
   "cell_type": "code",
   "execution_count": 240,
   "metadata": {
    "scrolled": true
   },
   "outputs": [
    {
     "data": {
      "text/plain": [
       "array([[0.97127, 0.02873],\n",
       "       [0.82616, 0.17384],\n",
       "       [0.95288, 0.04712],\n",
       "       [0.9416 , 0.0584 ],\n",
       "       [0.82191, 0.17809],\n",
       "       [0.94773, 0.05227],\n",
       "       [0.99155, 0.00845],\n",
       "       [0.96476, 0.03524],\n",
       "       [0.98927, 0.01073],\n",
       "       [0.84968, 0.15032],\n",
       "       [0.95928, 0.04072],\n",
       "       [0.93739, 0.06261],\n",
       "       [0.84822, 0.15178],\n",
       "       [0.95582, 0.04418],\n",
       "       [0.95685, 0.04315],\n",
       "       [0.87581, 0.12419],\n",
       "       [0.9434 , 0.0566 ],\n",
       "       [0.98392, 0.01608],\n",
       "       [0.85829, 0.14171],\n",
       "       [0.96431, 0.03569],\n",
       "       ...,\n",
       "       [0.89842, 0.10158],\n",
       "       [0.93957, 0.06043],\n",
       "       [0.97164, 0.02836],\n",
       "       [0.97426, 0.02574],\n",
       "       [0.9841 , 0.0159 ],\n",
       "       [0.94253, 0.05747],\n",
       "       [0.89819, 0.10181],\n",
       "       [0.99082, 0.00918],\n",
       "       [0.92628, 0.07372],\n",
       "       [0.97945, 0.02055],\n",
       "       [0.95783, 0.04217],\n",
       "       [0.9544 , 0.0456 ],\n",
       "       [0.98693, 0.01307],\n",
       "       [0.87969, 0.12031],\n",
       "       [0.95937, 0.04063],\n",
       "       [0.95585, 0.04415],\n",
       "       [0.91303, 0.08697],\n",
       "       [0.97566, 0.02434],\n",
       "       [0.94182, 0.05818],\n",
       "       [0.81998, 0.18002]], dtype=float32)"
      ]
     },
     "execution_count": 240,
     "metadata": {},
     "output_type": "execute_result"
    }
   ],
   "source": [
    "# WHY EXP\n",
    "pred_test = np.exp(pred_test)\n",
    "pred_test"
   ]
  },
  {
   "cell_type": "code",
   "execution_count": 241,
   "metadata": {},
   "outputs": [
    {
     "data": {
      "text/plain": [
       "array([0.97127, 0.82616, 0.95288, 0.9416 , 0.82191, 0.94773, 0.99155, 0.96476, 0.98927, 0.84968, 0.95928,\n",
       "       0.93739, 0.84822, 0.95582, 0.95685, 0.87581, 0.9434 , 0.98392, 0.85829, 0.96431, ..., 0.89842,\n",
       "       0.93957, 0.97164, 0.97426, 0.9841 , 0.94253, 0.89819, 0.99082, 0.92628, 0.97945, 0.95783, 0.9544 ,\n",
       "       0.98693, 0.87969, 0.95937, 0.95585, 0.91303, 0.97566, 0.94182, 0.81998], dtype=float32)"
      ]
     },
     "execution_count": 241,
     "metadata": {},
     "output_type": "execute_result"
    }
   ],
   "source": [
    "pred_test[:,0]"
   ]
  },
  {
   "cell_type": "code",
   "execution_count": 242,
   "metadata": {},
   "outputs": [
    {
     "data": {
      "text/plain": [
       "(array([    7.,    22.,    84.,   198.,   444.,   942.,  1881.,  4185., 11127., 29854.]),\n",
       " array([0.33674, 0.40306, 0.46939, 0.53572, 0.60204, 0.66837, 0.73469, 0.80102, 0.86735, 0.93367, 1.     ]),\n",
       " <a list of 10 Patch objects>)"
      ]
     },
     "execution_count": 242,
     "metadata": {},
     "output_type": "execute_result"
    },
    {
     "data": {
      "image/png": "[encoded data removed]",
      "text/plain": [
       "<Figure size 432x288 with 1 Axes>"
      ]
     },
     "metadata": {},
     "output_type": "display_data"
    }
   ],
   "source": [
    "matplotlib.pyplot.hist(pred_test[:,0])"
   ]
  },
  {
   "cell_type": "code",
   "execution_count": 243,
   "metadata": {},
   "outputs": [
    {
     "data": {
      "text/plain": [
       "array([0.97127, 0.82616, 0.95288, 0.9416 , 0.82191, 0.94773, 0.99155, 0.96476, 0.98927, 0.84968, 0.95928,\n",
       "       0.93739, 0.84822, 0.95582, 0.95685, 0.87581, 0.9434 , 0.98392, 0.85829, 0.96431, ..., 0.89842,\n",
       "       0.93957, 0.97164, 0.97426, 0.9841 , 0.94253, 0.89819, 0.99082, 0.92628, 0.97945, 0.95783, 0.9544 ,\n",
       "       0.98693, 0.87969, 0.95937, 0.95585, 0.91303, 0.97566, 0.94182, 0.81998], dtype=float32)"
      ]
     },
     "execution_count": 243,
     "metadata": {},
     "output_type": "execute_result"
    }
   ],
   "source": [
    "pred_test[:,0]"
   ]
  },
  {
   "cell_type": "code",
   "execution_count": 244,
   "metadata": {},
   "outputs": [],
   "source": [
    "data  = list(iter(md.test_dl))"
   ]
  },
  {
   "cell_type": "code",
   "execution_count": 245,
   "metadata": {},
   "outputs": [],
   "source": [
    "application_test['TARGET']=pred_test[:,1]"
   ]
  },
  {
   "cell_type": "code",
   "execution_count": 246,
   "metadata": {},
   "outputs": [],
   "source": [
    "csv_fn=f'{PATH}/tmp/sub.csv'"
   ]
  },
  {
   "cell_type": "code",
   "execution_count": 247,
   "metadata": {},
   "outputs": [],
   "source": [
    "application_test['SK_ID_CURR'] = application_test['SK_ID_CURR'].astype(int)"
   ]
  },
  {
   "cell_type": "code",
   "execution_count": 248,
   "metadata": {},
   "outputs": [],
   "source": [
    "application_test[['SK_ID_CURR','TARGET']].to_csv(csv_fn, index=False)"
   ]
  },
  {
   "cell_type": "code",
   "execution_count": 249,
   "metadata": {},
   "outputs": [
    {
     "data": {
      "text/html": [
       "<a href='data/tmp/sub.csv' target='_blank'>data/tmp/sub.csv</a><br>"
      ],
      "text/plain": [
       "/home/cheeseblubber/workspace/competition/home-default-credit/data/tmp/sub.csv"
      ]
     },
     "execution_count": 249,
     "metadata": {},
     "output_type": "execute_result"
    }
   ],
   "source": [
    "FileLink(csv_fn)"
   ]
  },
  {
   "cell_type": "code",
   "execution_count": null,
   "metadata": {},
   "outputs": [],
   "source": []
  }
 ],
 "metadata": {
  "kernelspec": {
   "display_name": "Python [default]",
   "language": "python",
   "name": "python3"
  },
  "language_info": {
   "codemirror_mode": {
    "name": "ipython",
    "version": 3
   },
   "file_extension": ".py",
   "mimetype": "text/x-python",
   "name": "python",
   "nbconvert_exporter": "python",
   "pygments_lexer": "ipython3",
   "version": "3.6.5"
  }
 },
 "nbformat": 4,
 "nbformat_minor": 2
}
