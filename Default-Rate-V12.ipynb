{
 "cells": [
  {
   "cell_type": "code",
   "execution_count": 1,
   "metadata": {},
   "outputs": [],
   "source": [
    "%matplotlib inline\n",
    "%reload_ext autoreload\n",
    "%autoreload 2"
   ]
  },
  {
   "cell_type": "code",
   "execution_count": 2,
   "metadata": {},
   "outputs": [],
   "source": [
    "from fastai.structured import apply_cats, proc_df\n",
    "from fastai.column_data import *\n",
    "from sklearn.preprocessing import LabelEncoder\n",
    "import pandas as pd\n",
    "import dill as pickle\n",
    "from IPython.display import display\n",
    "\n",
    "pd.options.display.max_columns = None\n",
    "import numpy as np\n",
    "np.set_printoptions(threshold=50, edgeitems=20)\n",
    "data_path=Path('data/')\n",
    "PATH = data_path\n",
    "SK_ID_CURR = \"SK_ID_CURR\""
   ]
  },
  {
   "cell_type": "markdown",
   "metadata": {},
   "source": [
    "# TODOS:\n",
    "\n",
    "Try to fix overfitting - by remove extra information"
   ]
  },
  {
   "cell_type": "code",
   "execution_count": 3,
   "metadata": {},
   "outputs": [],
   "source": [
    "cred_card_bal = pickle.load(open('data/credit_card_balance','rb'))\n",
    "pos_cash_bal = pickle.load(open('data/POS_CASH_balance','rb'))\n",
    "prev = pickle.load(open('data/previous_application','rb'))\n",
    "bureau_bal = pickle.load(open('data/bureau_balance','rb'))\n",
    "install = pickle.load(open('data/installments_payments','rb'))\n",
    "bureau = pickle.load(open('data/bureau','rb'))\n",
    "application_train = pickle.load(open('data/application_train','rb'))\n",
    "application_test = pickle.load(open('data/application_test','rb'))"
   ]
  },
  {
   "cell_type": "code",
   "execution_count": 4,
   "metadata": {},
   "outputs": [],
   "source": [
    "merged_df = pickle.load(open('data/merged_df.pickle','rb'))"
   ]
  },
  {
   "cell_type": "code",
   "execution_count": 5,
   "metadata": {},
   "outputs": [
    {
     "data": {
      "text/plain": [
       "213"
      ]
     },
     "execution_count": 5,
     "metadata": {},
     "output_type": "execute_result"
    }
   ],
   "source": [
    "len(merged_df.columns)"
   ]
  },
  {
   "cell_type": "code",
   "execution_count": 6,
   "metadata": {
    "scrolled": true
   },
   "outputs": [
    {
     "data": {
      "text/html": [
       "<div>\n",
       "<style scoped>\n",
       "    .dataframe tbody tr th:only-of-type {\n",
       "        vertical-align: middle;\n",
       "    }\n",
       "\n",
       "    .dataframe tbody tr th {\n",
       "        vertical-align: top;\n",
       "    }\n",
       "\n",
       "    .dataframe thead th {\n",
       "        text-align: right;\n",
       "    }\n",
       "</style>\n",
       "<table border=\"1\" class=\"dataframe\">\n",
       "  <thead>\n",
       "    <tr style=\"text-align: right;\">\n",
       "      <th></th>\n",
       "      <th>SK_ID_PREV</th>\n",
       "      <th>SK_ID_CURR</th>\n",
       "      <th>NAME_CONTRACT_TYPE</th>\n",
       "      <th>AMT_ANNUITY</th>\n",
       "      <th>AMT_APPLICATION</th>\n",
       "      <th>AMT_CREDIT</th>\n",
       "      <th>AMT_DOWN_PAYMENT</th>\n",
       "      <th>AMT_GOODS_PRICE</th>\n",
       "      <th>WEEKDAY_APPR_PROCESS_START</th>\n",
       "      <th>HOUR_APPR_PROCESS_START</th>\n",
       "      <th>FLAG_LAST_APPL_PER_CONTRACT</th>\n",
       "      <th>NFLAG_LAST_APPL_IN_DAY</th>\n",
       "      <th>RATE_DOWN_PAYMENT</th>\n",
       "      <th>RATE_INTEREST_PRIMARY</th>\n",
       "      <th>RATE_INTEREST_PRIVILEGED</th>\n",
       "      <th>NAME_CASH_LOAN_PURPOSE</th>\n",
       "      <th>NAME_CONTRACT_STATUS</th>\n",
       "      <th>DAYS_DECISION</th>\n",
       "      <th>NAME_PAYMENT_TYPE</th>\n",
       "      <th>CODE_REJECT_REASON</th>\n",
       "      <th>NAME_TYPE_SUITE</th>\n",
       "      <th>NAME_CLIENT_TYPE</th>\n",
       "      <th>NAME_GOODS_CATEGORY</th>\n",
       "      <th>NAME_PORTFOLIO</th>\n",
       "      <th>NAME_PRODUCT_TYPE</th>\n",
       "      <th>CHANNEL_TYPE</th>\n",
       "      <th>SELLERPLACE_AREA</th>\n",
       "      <th>NAME_SELLER_INDUSTRY</th>\n",
       "      <th>CNT_PAYMENT</th>\n",
       "      <th>NAME_YIELD_GROUP</th>\n",
       "      <th>PRODUCT_COMBINATION</th>\n",
       "      <th>DAYS_FIRST_DRAWING</th>\n",
       "      <th>DAYS_FIRST_DUE</th>\n",
       "      <th>DAYS_LAST_DUE_1ST_VERSION</th>\n",
       "      <th>DAYS_LAST_DUE</th>\n",
       "      <th>DAYS_TERMINATION</th>\n",
       "      <th>NFLAG_INSURED_ON_APPROVAL</th>\n",
       "    </tr>\n",
       "  </thead>\n",
       "  <tbody>\n",
       "    <tr>\n",
       "      <th>1487215</th>\n",
       "      <td>2425890</td>\n",
       "      <td>398311</td>\n",
       "      <td>Revolving loans</td>\n",
       "      <td>2250.000</td>\n",
       "      <td>45000.0</td>\n",
       "      <td>45000.0</td>\n",
       "      <td>NaN</td>\n",
       "      <td>45000.0</td>\n",
       "      <td>WEDNESDAY</td>\n",
       "      <td>11</td>\n",
       "      <td>Y</td>\n",
       "      <td>1</td>\n",
       "      <td>NaN</td>\n",
       "      <td>NaN</td>\n",
       "      <td>NaN</td>\n",
       "      <td>XAP</td>\n",
       "      <td>Approved</td>\n",
       "      <td>-153</td>\n",
       "      <td>XNA</td>\n",
       "      <td>XAP</td>\n",
       "      <td>Unaccompanied</td>\n",
       "      <td>Refreshed</td>\n",
       "      <td>XNA</td>\n",
       "      <td>Cards</td>\n",
       "      <td>walk-in</td>\n",
       "      <td>Country-wide</td>\n",
       "      <td>21</td>\n",
       "      <td>Connectivity</td>\n",
       "      <td>0.0</td>\n",
       "      <td>XNA</td>\n",
       "      <td>Card Street</td>\n",
       "      <td>365243.0</td>\n",
       "      <td>365243.0</td>\n",
       "      <td>365243.0</td>\n",
       "      <td>365243.0</td>\n",
       "      <td>365243.0</td>\n",
       "      <td>0.0</td>\n",
       "    </tr>\n",
       "    <tr>\n",
       "      <th>1495704</th>\n",
       "      <td>1557257</td>\n",
       "      <td>231833</td>\n",
       "      <td>Cash loans</td>\n",
       "      <td>10079.460</td>\n",
       "      <td>90000.0</td>\n",
       "      <td>95940.0</td>\n",
       "      <td>NaN</td>\n",
       "      <td>90000.0</td>\n",
       "      <td>MONDAY</td>\n",
       "      <td>10</td>\n",
       "      <td>Y</td>\n",
       "      <td>1</td>\n",
       "      <td>NaN</td>\n",
       "      <td>NaN</td>\n",
       "      <td>NaN</td>\n",
       "      <td>XNA</td>\n",
       "      <td>Approved</td>\n",
       "      <td>-362</td>\n",
       "      <td>Cash through the bank</td>\n",
       "      <td>XAP</td>\n",
       "      <td>NaN</td>\n",
       "      <td>Repeater</td>\n",
       "      <td>XNA</td>\n",
       "      <td>Cash</td>\n",
       "      <td>x-sell</td>\n",
       "      <td>Credit and cash offices</td>\n",
       "      <td>-1</td>\n",
       "      <td>XNA</td>\n",
       "      <td>12.0</td>\n",
       "      <td>middle</td>\n",
       "      <td>Cash X-Sell: middle</td>\n",
       "      <td>365243.0</td>\n",
       "      <td>-332.0</td>\n",
       "      <td>-2.0</td>\n",
       "      <td>-152.0</td>\n",
       "      <td>-146.0</td>\n",
       "      <td>1.0</td>\n",
       "    </tr>\n",
       "    <tr>\n",
       "      <th>657835</th>\n",
       "      <td>1556724</td>\n",
       "      <td>181498</td>\n",
       "      <td>Consumer loans</td>\n",
       "      <td>3684.060</td>\n",
       "      <td>32436.0</td>\n",
       "      <td>32436.0</td>\n",
       "      <td>0.0</td>\n",
       "      <td>32436.0</td>\n",
       "      <td>SATURDAY</td>\n",
       "      <td>11</td>\n",
       "      <td>Y</td>\n",
       "      <td>1</td>\n",
       "      <td>0.000000</td>\n",
       "      <td>NaN</td>\n",
       "      <td>NaN</td>\n",
       "      <td>XAP</td>\n",
       "      <td>Approved</td>\n",
       "      <td>-91</td>\n",
       "      <td>Cash through the bank</td>\n",
       "      <td>XAP</td>\n",
       "      <td>NaN</td>\n",
       "      <td>Repeater</td>\n",
       "      <td>Mobile</td>\n",
       "      <td>POS</td>\n",
       "      <td>XNA</td>\n",
       "      <td>Country-wide</td>\n",
       "      <td>15</td>\n",
       "      <td>Connectivity</td>\n",
       "      <td>10.0</td>\n",
       "      <td>low_normal</td>\n",
       "      <td>POS mobile without interest</td>\n",
       "      <td>365243.0</td>\n",
       "      <td>-52.0</td>\n",
       "      <td>218.0</td>\n",
       "      <td>365243.0</td>\n",
       "      <td>365243.0</td>\n",
       "      <td>0.0</td>\n",
       "    </tr>\n",
       "    <tr>\n",
       "      <th>1147223</th>\n",
       "      <td>2744343</td>\n",
       "      <td>274152</td>\n",
       "      <td>Cash loans</td>\n",
       "      <td>NaN</td>\n",
       "      <td>0.0</td>\n",
       "      <td>0.0</td>\n",
       "      <td>NaN</td>\n",
       "      <td>NaN</td>\n",
       "      <td>TUESDAY</td>\n",
       "      <td>10</td>\n",
       "      <td>Y</td>\n",
       "      <td>1</td>\n",
       "      <td>NaN</td>\n",
       "      <td>NaN</td>\n",
       "      <td>NaN</td>\n",
       "      <td>XNA</td>\n",
       "      <td>Refused</td>\n",
       "      <td>-231</td>\n",
       "      <td>XNA</td>\n",
       "      <td>SCOFR</td>\n",
       "      <td>NaN</td>\n",
       "      <td>Repeater</td>\n",
       "      <td>XNA</td>\n",
       "      <td>XNA</td>\n",
       "      <td>XNA</td>\n",
       "      <td>Credit and cash offices</td>\n",
       "      <td>-1</td>\n",
       "      <td>XNA</td>\n",
       "      <td>NaN</td>\n",
       "      <td>XNA</td>\n",
       "      <td>Cash</td>\n",
       "      <td>NaN</td>\n",
       "      <td>NaN</td>\n",
       "      <td>NaN</td>\n",
       "      <td>NaN</td>\n",
       "      <td>NaN</td>\n",
       "      <td>NaN</td>\n",
       "    </tr>\n",
       "    <tr>\n",
       "      <th>723393</th>\n",
       "      <td>1896159</td>\n",
       "      <td>171069</td>\n",
       "      <td>Revolving loans</td>\n",
       "      <td>2250.000</td>\n",
       "      <td>0.0</td>\n",
       "      <td>45000.0</td>\n",
       "      <td>NaN</td>\n",
       "      <td>NaN</td>\n",
       "      <td>SATURDAY</td>\n",
       "      <td>10</td>\n",
       "      <td>Y</td>\n",
       "      <td>1</td>\n",
       "      <td>NaN</td>\n",
       "      <td>NaN</td>\n",
       "      <td>NaN</td>\n",
       "      <td>XAP</td>\n",
       "      <td>Approved</td>\n",
       "      <td>-479</td>\n",
       "      <td>XNA</td>\n",
       "      <td>XAP</td>\n",
       "      <td>NaN</td>\n",
       "      <td>Repeater</td>\n",
       "      <td>XNA</td>\n",
       "      <td>Cards</td>\n",
       "      <td>x-sell</td>\n",
       "      <td>Credit and cash offices</td>\n",
       "      <td>-1</td>\n",
       "      <td>XNA</td>\n",
       "      <td>0.0</td>\n",
       "      <td>XNA</td>\n",
       "      <td>Card X-Sell</td>\n",
       "      <td>365243.0</td>\n",
       "      <td>365243.0</td>\n",
       "      <td>365243.0</td>\n",
       "      <td>365243.0</td>\n",
       "      <td>365243.0</td>\n",
       "      <td>0.0</td>\n",
       "    </tr>\n",
       "    <tr>\n",
       "      <th>298911</th>\n",
       "      <td>2566694</td>\n",
       "      <td>297975</td>\n",
       "      <td>Cash loans</td>\n",
       "      <td>22119.705</td>\n",
       "      <td>202500.0</td>\n",
       "      <td>215865.0</td>\n",
       "      <td>NaN</td>\n",
       "      <td>202500.0</td>\n",
       "      <td>SATURDAY</td>\n",
       "      <td>8</td>\n",
       "      <td>Y</td>\n",
       "      <td>1</td>\n",
       "      <td>NaN</td>\n",
       "      <td>NaN</td>\n",
       "      <td>NaN</td>\n",
       "      <td>XNA</td>\n",
       "      <td>Approved</td>\n",
       "      <td>-556</td>\n",
       "      <td>Cash through the bank</td>\n",
       "      <td>XAP</td>\n",
       "      <td>NaN</td>\n",
       "      <td>Repeater</td>\n",
       "      <td>XNA</td>\n",
       "      <td>Cash</td>\n",
       "      <td>x-sell</td>\n",
       "      <td>Credit and cash offices</td>\n",
       "      <td>-1</td>\n",
       "      <td>XNA</td>\n",
       "      <td>12.0</td>\n",
       "      <td>middle</td>\n",
       "      <td>Cash X-Sell: middle</td>\n",
       "      <td>365243.0</td>\n",
       "      <td>-526.0</td>\n",
       "      <td>-196.0</td>\n",
       "      <td>-346.0</td>\n",
       "      <td>-333.0</td>\n",
       "      <td>1.0</td>\n",
       "    </tr>\n",
       "    <tr>\n",
       "      <th>759171</th>\n",
       "      <td>2187168</td>\n",
       "      <td>367161</td>\n",
       "      <td>Cash loans</td>\n",
       "      <td>22425.975</td>\n",
       "      <td>225000.0</td>\n",
       "      <td>239850.0</td>\n",
       "      <td>NaN</td>\n",
       "      <td>225000.0</td>\n",
       "      <td>FRIDAY</td>\n",
       "      <td>13</td>\n",
       "      <td>Y</td>\n",
       "      <td>1</td>\n",
       "      <td>NaN</td>\n",
       "      <td>NaN</td>\n",
       "      <td>NaN</td>\n",
       "      <td>XNA</td>\n",
       "      <td>Refused</td>\n",
       "      <td>-161</td>\n",
       "      <td>Cash through the bank</td>\n",
       "      <td>HC</td>\n",
       "      <td>Unaccompanied</td>\n",
       "      <td>Repeater</td>\n",
       "      <td>XNA</td>\n",
       "      <td>Cash</td>\n",
       "      <td>x-sell</td>\n",
       "      <td>Credit and cash offices</td>\n",
       "      <td>-1</td>\n",
       "      <td>XNA</td>\n",
       "      <td>12.0</td>\n",
       "      <td>low_normal</td>\n",
       "      <td>Cash X-Sell: low</td>\n",
       "      <td>NaN</td>\n",
       "      <td>NaN</td>\n",
       "      <td>NaN</td>\n",
       "      <td>NaN</td>\n",
       "      <td>NaN</td>\n",
       "      <td>NaN</td>\n",
       "    </tr>\n",
       "    <tr>\n",
       "      <th>1098826</th>\n",
       "      <td>1037502</td>\n",
       "      <td>412153</td>\n",
       "      <td>Consumer loans</td>\n",
       "      <td>15464.970</td>\n",
       "      <td>154665.0</td>\n",
       "      <td>139198.5</td>\n",
       "      <td>15466.5</td>\n",
       "      <td>154665.0</td>\n",
       "      <td>SUNDAY</td>\n",
       "      <td>7</td>\n",
       "      <td>Y</td>\n",
       "      <td>1</td>\n",
       "      <td>0.108909</td>\n",
       "      <td>NaN</td>\n",
       "      <td>NaN</td>\n",
       "      <td>XAP</td>\n",
       "      <td>Approved</td>\n",
       "      <td>-2630</td>\n",
       "      <td>XNA</td>\n",
       "      <td>XAP</td>\n",
       "      <td>Family</td>\n",
       "      <td>New</td>\n",
       "      <td>Consumer Electronics</td>\n",
       "      <td>POS</td>\n",
       "      <td>XNA</td>\n",
       "      <td>Stone</td>\n",
       "      <td>800</td>\n",
       "      <td>Consumer electronics</td>\n",
       "      <td>10.0</td>\n",
       "      <td>low_normal</td>\n",
       "      <td>POS household without interest</td>\n",
       "      <td>365243.0</td>\n",
       "      <td>-2599.0</td>\n",
       "      <td>-2329.0</td>\n",
       "      <td>-2359.0</td>\n",
       "      <td>-2350.0</td>\n",
       "      <td>0.0</td>\n",
       "    </tr>\n",
       "    <tr>\n",
       "      <th>743314</th>\n",
       "      <td>1690653</td>\n",
       "      <td>212992</td>\n",
       "      <td>Consumer loans</td>\n",
       "      <td>5327.820</td>\n",
       "      <td>25911.0</td>\n",
       "      <td>25911.0</td>\n",
       "      <td>0.0</td>\n",
       "      <td>25911.0</td>\n",
       "      <td>SATURDAY</td>\n",
       "      <td>12</td>\n",
       "      <td>Y</td>\n",
       "      <td>1</td>\n",
       "      <td>0.000000</td>\n",
       "      <td>NaN</td>\n",
       "      <td>NaN</td>\n",
       "      <td>XAP</td>\n",
       "      <td>Approved</td>\n",
       "      <td>-24</td>\n",
       "      <td>XNA</td>\n",
       "      <td>XAP</td>\n",
       "      <td>NaN</td>\n",
       "      <td>Repeater</td>\n",
       "      <td>Mobile</td>\n",
       "      <td>POS</td>\n",
       "      <td>XNA</td>\n",
       "      <td>Country-wide</td>\n",
       "      <td>58</td>\n",
       "      <td>Connectivity</td>\n",
       "      <td>6.0</td>\n",
       "      <td>high</td>\n",
       "      <td>POS mobile with interest</td>\n",
       "      <td>365243.0</td>\n",
       "      <td>365243.0</td>\n",
       "      <td>167.0</td>\n",
       "      <td>365243.0</td>\n",
       "      <td>365243.0</td>\n",
       "      <td>0.0</td>\n",
       "    </tr>\n",
       "    <tr>\n",
       "      <th>980605</th>\n",
       "      <td>1886871</td>\n",
       "      <td>277173</td>\n",
       "      <td>Consumer loans</td>\n",
       "      <td>8919.180</td>\n",
       "      <td>98193.6</td>\n",
       "      <td>88370.1</td>\n",
       "      <td>9823.5</td>\n",
       "      <td>98193.6</td>\n",
       "      <td>MONDAY</td>\n",
       "      <td>20</td>\n",
       "      <td>Y</td>\n",
       "      <td>1</td>\n",
       "      <td>0.108955</td>\n",
       "      <td>0.19333</td>\n",
       "      <td>0.852537</td>\n",
       "      <td>XAP</td>\n",
       "      <td>Approved</td>\n",
       "      <td>-205</td>\n",
       "      <td>Cash through the bank</td>\n",
       "      <td>XAP</td>\n",
       "      <td>NaN</td>\n",
       "      <td>Repeater</td>\n",
       "      <td>Mobile</td>\n",
       "      <td>POS</td>\n",
       "      <td>XNA</td>\n",
       "      <td>Country-wide</td>\n",
       "      <td>30</td>\n",
       "      <td>Connectivity</td>\n",
       "      <td>12.0</td>\n",
       "      <td>middle</td>\n",
       "      <td>POS mobile with interest</td>\n",
       "      <td>365243.0</td>\n",
       "      <td>-168.0</td>\n",
       "      <td>162.0</td>\n",
       "      <td>365243.0</td>\n",
       "      <td>365243.0</td>\n",
       "      <td>0.0</td>\n",
       "    </tr>\n",
       "  </tbody>\n",
       "</table>\n",
       "</div>"
      ],
      "text/plain": [
       "         SK_ID_PREV  SK_ID_CURR NAME_CONTRACT_TYPE  AMT_ANNUITY  \\\n",
       "1487215     2425890      398311    Revolving loans     2250.000   \n",
       "1495704     1557257      231833         Cash loans    10079.460   \n",
       "657835      1556724      181498     Consumer loans     3684.060   \n",
       "1147223     2744343      274152         Cash loans          NaN   \n",
       "723393      1896159      171069    Revolving loans     2250.000   \n",
       "298911      2566694      297975         Cash loans    22119.705   \n",
       "759171      2187168      367161         Cash loans    22425.975   \n",
       "1098826     1037502      412153     Consumer loans    15464.970   \n",
       "743314      1690653      212992     Consumer loans     5327.820   \n",
       "980605      1886871      277173     Consumer loans     8919.180   \n",
       "\n",
       "         AMT_APPLICATION  AMT_CREDIT  AMT_DOWN_PAYMENT  AMT_GOODS_PRICE  \\\n",
       "1487215          45000.0     45000.0               NaN          45000.0   \n",
       "1495704          90000.0     95940.0               NaN          90000.0   \n",
       "657835           32436.0     32436.0               0.0          32436.0   \n",
       "1147223              0.0         0.0               NaN              NaN   \n",
       "723393               0.0     45000.0               NaN              NaN   \n",
       "298911          202500.0    215865.0               NaN         202500.0   \n",
       "759171          225000.0    239850.0               NaN         225000.0   \n",
       "1098826         154665.0    139198.5           15466.5         154665.0   \n",
       "743314           25911.0     25911.0               0.0          25911.0   \n",
       "980605           98193.6     88370.1            9823.5          98193.6   \n",
       "\n",
       "        WEEKDAY_APPR_PROCESS_START  HOUR_APPR_PROCESS_START  \\\n",
       "1487215                  WEDNESDAY                       11   \n",
       "1495704                     MONDAY                       10   \n",
       "657835                    SATURDAY                       11   \n",
       "1147223                    TUESDAY                       10   \n",
       "723393                    SATURDAY                       10   \n",
       "298911                    SATURDAY                        8   \n",
       "759171                      FRIDAY                       13   \n",
       "1098826                     SUNDAY                        7   \n",
       "743314                    SATURDAY                       12   \n",
       "980605                      MONDAY                       20   \n",
       "\n",
       "        FLAG_LAST_APPL_PER_CONTRACT  NFLAG_LAST_APPL_IN_DAY  \\\n",
       "1487215                           Y                       1   \n",
       "1495704                           Y                       1   \n",
       "657835                            Y                       1   \n",
       "1147223                           Y                       1   \n",
       "723393                            Y                       1   \n",
       "298911                            Y                       1   \n",
       "759171                            Y                       1   \n",
       "1098826                           Y                       1   \n",
       "743314                            Y                       1   \n",
       "980605                            Y                       1   \n",
       "\n",
       "         RATE_DOWN_PAYMENT  RATE_INTEREST_PRIMARY  RATE_INTEREST_PRIVILEGED  \\\n",
       "1487215                NaN                    NaN                       NaN   \n",
       "1495704                NaN                    NaN                       NaN   \n",
       "657835            0.000000                    NaN                       NaN   \n",
       "1147223                NaN                    NaN                       NaN   \n",
       "723393                 NaN                    NaN                       NaN   \n",
       "298911                 NaN                    NaN                       NaN   \n",
       "759171                 NaN                    NaN                       NaN   \n",
       "1098826           0.108909                    NaN                       NaN   \n",
       "743314            0.000000                    NaN                       NaN   \n",
       "980605            0.108955                0.19333                  0.852537   \n",
       "\n",
       "        NAME_CASH_LOAN_PURPOSE NAME_CONTRACT_STATUS  DAYS_DECISION  \\\n",
       "1487215                    XAP             Approved           -153   \n",
       "1495704                    XNA             Approved           -362   \n",
       "657835                     XAP             Approved            -91   \n",
       "1147223                    XNA              Refused           -231   \n",
       "723393                     XAP             Approved           -479   \n",
       "298911                     XNA             Approved           -556   \n",
       "759171                     XNA              Refused           -161   \n",
       "1098826                    XAP             Approved          -2630   \n",
       "743314                     XAP             Approved            -24   \n",
       "980605                     XAP             Approved           -205   \n",
       "\n",
       "             NAME_PAYMENT_TYPE CODE_REJECT_REASON NAME_TYPE_SUITE  \\\n",
       "1487215                    XNA                XAP   Unaccompanied   \n",
       "1495704  Cash through the bank                XAP             NaN   \n",
       "657835   Cash through the bank                XAP             NaN   \n",
       "1147223                    XNA              SCOFR             NaN   \n",
       "723393                     XNA                XAP             NaN   \n",
       "298911   Cash through the bank                XAP             NaN   \n",
       "759171   Cash through the bank                 HC   Unaccompanied   \n",
       "1098826                    XNA                XAP          Family   \n",
       "743314                     XNA                XAP             NaN   \n",
       "980605   Cash through the bank                XAP             NaN   \n",
       "\n",
       "        NAME_CLIENT_TYPE   NAME_GOODS_CATEGORY NAME_PORTFOLIO  \\\n",
       "1487215        Refreshed                   XNA          Cards   \n",
       "1495704         Repeater                   XNA           Cash   \n",
       "657835          Repeater                Mobile            POS   \n",
       "1147223         Repeater                   XNA            XNA   \n",
       "723393          Repeater                   XNA          Cards   \n",
       "298911          Repeater                   XNA           Cash   \n",
       "759171          Repeater                   XNA           Cash   \n",
       "1098826              New  Consumer Electronics            POS   \n",
       "743314          Repeater                Mobile            POS   \n",
       "980605          Repeater                Mobile            POS   \n",
       "\n",
       "        NAME_PRODUCT_TYPE             CHANNEL_TYPE  SELLERPLACE_AREA  \\\n",
       "1487215           walk-in             Country-wide                21   \n",
       "1495704            x-sell  Credit and cash offices                -1   \n",
       "657835                XNA             Country-wide                15   \n",
       "1147223               XNA  Credit and cash offices                -1   \n",
       "723393             x-sell  Credit and cash offices                -1   \n",
       "298911             x-sell  Credit and cash offices                -1   \n",
       "759171             x-sell  Credit and cash offices                -1   \n",
       "1098826               XNA                    Stone               800   \n",
       "743314                XNA             Country-wide                58   \n",
       "980605                XNA             Country-wide                30   \n",
       "\n",
       "         NAME_SELLER_INDUSTRY  CNT_PAYMENT NAME_YIELD_GROUP  \\\n",
       "1487215          Connectivity          0.0              XNA   \n",
       "1495704                   XNA         12.0           middle   \n",
       "657835           Connectivity         10.0       low_normal   \n",
       "1147223                   XNA          NaN              XNA   \n",
       "723393                    XNA          0.0              XNA   \n",
       "298911                    XNA         12.0           middle   \n",
       "759171                    XNA         12.0       low_normal   \n",
       "1098826  Consumer electronics         10.0       low_normal   \n",
       "743314           Connectivity          6.0             high   \n",
       "980605           Connectivity         12.0           middle   \n",
       "\n",
       "                    PRODUCT_COMBINATION  DAYS_FIRST_DRAWING  DAYS_FIRST_DUE  \\\n",
       "1487215                     Card Street            365243.0        365243.0   \n",
       "1495704             Cash X-Sell: middle            365243.0          -332.0   \n",
       "657835      POS mobile without interest            365243.0           -52.0   \n",
       "1147223                            Cash                 NaN             NaN   \n",
       "723393                      Card X-Sell            365243.0        365243.0   \n",
       "298911              Cash X-Sell: middle            365243.0          -526.0   \n",
       "759171                 Cash X-Sell: low                 NaN             NaN   \n",
       "1098826  POS household without interest            365243.0         -2599.0   \n",
       "743314         POS mobile with interest            365243.0        365243.0   \n",
       "980605         POS mobile with interest            365243.0          -168.0   \n",
       "\n",
       "         DAYS_LAST_DUE_1ST_VERSION  DAYS_LAST_DUE  DAYS_TERMINATION  \\\n",
       "1487215                   365243.0       365243.0          365243.0   \n",
       "1495704                       -2.0         -152.0            -146.0   \n",
       "657835                       218.0       365243.0          365243.0   \n",
       "1147223                        NaN            NaN               NaN   \n",
       "723393                    365243.0       365243.0          365243.0   \n",
       "298911                      -196.0         -346.0            -333.0   \n",
       "759171                         NaN            NaN               NaN   \n",
       "1098826                    -2329.0        -2359.0           -2350.0   \n",
       "743314                       167.0       365243.0          365243.0   \n",
       "980605                       162.0       365243.0          365243.0   \n",
       "\n",
       "         NFLAG_INSURED_ON_APPROVAL  \n",
       "1487215                        0.0  \n",
       "1495704                        1.0  \n",
       "657835                         0.0  \n",
       "1147223                        NaN  \n",
       "723393                         0.0  \n",
       "298911                         1.0  \n",
       "759171                         NaN  \n",
       "1098826                        0.0  \n",
       "743314                         0.0  \n",
       "980605                         0.0  "
      ]
     },
     "execution_count": 6,
     "metadata": {},
     "output_type": "execute_result"
    }
   ],
   "source": [
    "prev.sample(10)"
   ]
  },
  {
   "cell_type": "code",
   "execution_count": 99,
   "metadata": {},
   "outputs": [
    {
     "data": {
      "text/plain": [
       "['AMT_ANNUITY',\n",
       " 'AMT_CREDIT',\n",
       " 'AMT_GOODS_PRICE',\n",
       " 'AMT_INCOME_TOTAL',\n",
       " 'AMT_REQ_CREDIT_BUREAU_DAY',\n",
       " 'AMT_REQ_CREDIT_BUREAU_HOUR',\n",
       " 'AMT_REQ_CREDIT_BUREAU_MON',\n",
       " 'AMT_REQ_CREDIT_BUREAU_QRT',\n",
       " 'AMT_REQ_CREDIT_BUREAU_WEEK',\n",
       " 'AMT_REQ_CREDIT_BUREAU_YEAR',\n",
       " 'APARTMENTS_AVG',\n",
       " 'APARTMENTS_MEDI',\n",
       " 'APARTMENTS_MODE',\n",
       " 'BASEMENTAREA_AVG',\n",
       " 'BASEMENTAREA_MEDI',\n",
       " 'BASEMENTAREA_MODE',\n",
       " 'CNT_CHILDREN',\n",
       " 'CNT_FAM_MEMBERS',\n",
       " 'CODE_GENDER',\n",
       " 'COMMONAREA_AVG',\n",
       " 'COMMONAREA_MEDI',\n",
       " 'COMMONAREA_MODE',\n",
       " 'DAYS_BIRTH',\n",
       " 'DAYS_EMPLOYED',\n",
       " 'DAYS_ID_PUBLISH',\n",
       " 'DAYS_LAST_PHONE_CHANGE',\n",
       " 'DAYS_REGISTRATION',\n",
       " 'DEF_30_CNT_SOCIAL_CIRCLE',\n",
       " 'DEF_60_CNT_SOCIAL_CIRCLE',\n",
       " 'ELEVATORS_AVG',\n",
       " 'ELEVATORS_MEDI',\n",
       " 'ELEVATORS_MODE',\n",
       " 'EMERGENCYSTATE_MODE',\n",
       " 'ENTRANCES_AVG',\n",
       " 'ENTRANCES_MEDI',\n",
       " 'ENTRANCES_MODE',\n",
       " 'EXT_SOURCE_1',\n",
       " 'EXT_SOURCE_2',\n",
       " 'EXT_SOURCE_3',\n",
       " 'FLAG_CONT_MOBILE',\n",
       " 'FLAG_DOCUMENT_10',\n",
       " 'FLAG_DOCUMENT_11',\n",
       " 'FLAG_DOCUMENT_12',\n",
       " 'FLAG_DOCUMENT_13',\n",
       " 'FLAG_DOCUMENT_14',\n",
       " 'FLAG_DOCUMENT_15',\n",
       " 'FLAG_DOCUMENT_16',\n",
       " 'FLAG_DOCUMENT_17',\n",
       " 'FLAG_DOCUMENT_18',\n",
       " 'FLAG_DOCUMENT_19',\n",
       " 'FLAG_DOCUMENT_2',\n",
       " 'FLAG_DOCUMENT_20',\n",
       " 'FLAG_DOCUMENT_21',\n",
       " 'FLAG_DOCUMENT_3',\n",
       " 'FLAG_DOCUMENT_4',\n",
       " 'FLAG_DOCUMENT_5',\n",
       " 'FLAG_DOCUMENT_6',\n",
       " 'FLAG_DOCUMENT_7',\n",
       " 'FLAG_DOCUMENT_8',\n",
       " 'FLAG_DOCUMENT_9',\n",
       " 'FLAG_EMAIL',\n",
       " 'FLAG_EMP_PHONE',\n",
       " 'FLAG_MOBIL',\n",
       " 'FLAG_OWN_CAR',\n",
       " 'FLAG_OWN_REALTY',\n",
       " 'FLAG_PHONE',\n",
       " 'FLAG_WORK_PHONE',\n",
       " 'FLOORSMAX_AVG',\n",
       " 'FLOORSMAX_MEDI',\n",
       " 'FLOORSMAX_MODE',\n",
       " 'FLOORSMIN_AVG',\n",
       " 'FLOORSMIN_MEDI',\n",
       " 'FLOORSMIN_MODE',\n",
       " 'FONDKAPREMONT_MODE',\n",
       " 'HOUR_APPR_PROCESS_START',\n",
       " 'HOUSETYPE_MODE',\n",
       " 'LANDAREA_AVG',\n",
       " 'LANDAREA_MEDI',\n",
       " 'LANDAREA_MODE',\n",
       " 'LIVE_CITY_NOT_WORK_CITY',\n",
       " 'LIVE_REGION_NOT_WORK_REGION',\n",
       " 'LIVINGAPARTMENTS_AVG',\n",
       " 'LIVINGAPARTMENTS_MEDI',\n",
       " 'LIVINGAPARTMENTS_MODE',\n",
       " 'LIVINGAREA_AVG',\n",
       " 'LIVINGAREA_MEDI',\n",
       " 'LIVINGAREA_MODE',\n",
       " 'NAME_CONTRACT_TYPE',\n",
       " 'NAME_EDUCATION_TYPE',\n",
       " 'NAME_FAMILY_STATUS',\n",
       " 'NAME_HOUSING_TYPE',\n",
       " 'NAME_INCOME_TYPE',\n",
       " 'NAME_TYPE_SUITE',\n",
       " 'NONLIVINGAPARTMENTS_AVG',\n",
       " 'NONLIVINGAPARTMENTS_MEDI',\n",
       " 'NONLIVINGAPARTMENTS_MODE',\n",
       " 'NONLIVINGAREA_AVG',\n",
       " 'NONLIVINGAREA_MEDI',\n",
       " 'NONLIVINGAREA_MODE',\n",
       " 'OBS_30_CNT_SOCIAL_CIRCLE',\n",
       " 'OBS_60_CNT_SOCIAL_CIRCLE',\n",
       " 'OCCUPATION_TYPE',\n",
       " 'ORGANIZATION_TYPE',\n",
       " 'OWN_CAR_AGE',\n",
       " 'REGION_POPULATION_RELATIVE',\n",
       " 'REGION_RATING_CLIENT',\n",
       " 'REGION_RATING_CLIENT_W_CITY',\n",
       " 'REG_CITY_NOT_LIVE_CITY',\n",
       " 'REG_CITY_NOT_WORK_CITY',\n",
       " 'REG_REGION_NOT_LIVE_REGION',\n",
       " 'REG_REGION_NOT_WORK_REGION',\n",
       " 'SK_ID_CURR',\n",
       " 'TARGET',\n",
       " 'TOTALAREA_MODE',\n",
       " 'WALLSMATERIAL_MODE',\n",
       " 'WEEKDAY_APPR_PROCESS_START',\n",
       " 'YEARS_BEGINEXPLUATATION_AVG',\n",
       " 'YEARS_BEGINEXPLUATATION_MEDI',\n",
       " 'YEARS_BEGINEXPLUATATION_MODE',\n",
       " 'YEARS_BUILD_AVG',\n",
       " 'YEARS_BUILD_MEDI',\n",
       " 'YEARS_BUILD_MODE',\n",
       " 'PREV APP COUNT',\n",
       " 'TOTAL PREV LOAN AMT',\n",
       " 'SK_ID_PREV',\n",
       " 'AMT_ANNUITY_PAVG',\n",
       " 'AMT_APPLICATION',\n",
       " 'AMT_CREDIT_PAVG',\n",
       " 'AMT_DOWN_PAYMENT',\n",
       " 'AMT_GOODS_PRICE_PAVG',\n",
       " 'HOUR_APPR_PROCESS_START_PAVG',\n",
       " 'NFLAG_LAST_APPL_IN_DAY',\n",
       " 'RATE_DOWN_PAYMENT',\n",
       " 'RATE_INTEREST_PRIMARY',\n",
       " 'RATE_INTEREST_PRIVILEGED',\n",
       " 'DAYS_DECISION',\n",
       " 'SELLERPLACE_AREA',\n",
       " 'CNT_PAYMENT',\n",
       " 'DAYS_FIRST_DRAWING',\n",
       " 'DAYS_FIRST_DUE',\n",
       " 'DAYS_LAST_DUE_1ST_VERSION',\n",
       " 'DAYS_LAST_DUE',\n",
       " 'DAYS_TERMINATION',\n",
       " 'NFLAG_INSURED_ON_APPROVAL',\n",
       " 'NAME_CONTRACT_TYPE_BAVG',\n",
       " 'WEEKDAY_APPR_PROCESS_START_BAVG',\n",
       " 'FLAG_LAST_APPL_PER_CONTRACT',\n",
       " 'NAME_CASH_LOAN_PURPOSE',\n",
       " 'NAME_CONTRACT_STATUS',\n",
       " 'NAME_PAYMENT_TYPE',\n",
       " 'CODE_REJECT_REASON',\n",
       " 'NAME_TYPE_SUITE_BAVG',\n",
       " 'NAME_CLIENT_TYPE',\n",
       " 'NAME_GOODS_CATEGORY',\n",
       " 'NAME_PORTFOLIO',\n",
       " 'NAME_PRODUCT_TYPE',\n",
       " 'CHANNEL_TYPE',\n",
       " 'NAME_SELLER_INDUSTRY',\n",
       " 'NAME_YIELD_GROUP',\n",
       " 'PRODUCT_COMBINATION',\n",
       " 'SK_ID_PREV_CCAVG',\n",
       " 'MONTHS_BALANCE',\n",
       " 'AMT_BALANCE',\n",
       " 'AMT_CREDIT_LIMIT_ACTUAL',\n",
       " 'AMT_DRAWINGS_ATM_CURRENT',\n",
       " 'AMT_DRAWINGS_CURRENT',\n",
       " 'AMT_DRAWINGS_OTHER_CURRENT',\n",
       " 'AMT_DRAWINGS_POS_CURRENT',\n",
       " 'AMT_INST_MIN_REGULARITY',\n",
       " 'AMT_PAYMENT_CURRENT',\n",
       " 'AMT_PAYMENT_TOTAL_CURRENT',\n",
       " 'AMT_RECEIVABLE_PRINCIPAL',\n",
       " 'AMT_RECIVABLE',\n",
       " 'AMT_TOTAL_RECEIVABLE',\n",
       " 'CNT_DRAWINGS_ATM_CURRENT',\n",
       " 'CNT_DRAWINGS_CURRENT',\n",
       " 'CNT_DRAWINGS_OTHER_CURRENT',\n",
       " 'CNT_DRAWINGS_POS_CURRENT',\n",
       " 'CNT_INSTALMENT_MATURE_CUM',\n",
       " 'SK_DPD',\n",
       " 'SK_DPD_DEF',\n",
       " 'NAME_CONTRACT_STATUS_CCAVG',\n",
       " 'SK_ID_BUREAU',\n",
       " 'DAYS_CREDIT',\n",
       " 'CREDIT_DAY_OVERDUE',\n",
       " 'DAYS_CREDIT_ENDDATE',\n",
       " 'DAYS_ENDDATE_FACT',\n",
       " 'AMT_CREDIT_MAX_OVERDUE',\n",
       " 'CNT_CREDIT_PROLONG',\n",
       " 'AMT_CREDIT_SUM',\n",
       " 'AMT_CREDIT_SUM_DEBT',\n",
       " 'AMT_CREDIT_SUM_LIMIT',\n",
       " 'AMT_CREDIT_SUM_OVERDUE',\n",
       " 'DAYS_CREDIT_UPDATE',\n",
       " 'AMT_ANNUITY_BAVG',\n",
       " 'MONTHS_BALANCE_B_B',\n",
       " 'STATUS',\n",
       " 'CNT_INSTALMENT',\n",
       " 'CNT_INSTALMENT_FUTURE',\n",
       " 'SK_DPD_CAVG',\n",
       " 'SK_DPD_DEF_CAVG',\n",
       " 'NAME_CONTRACT_STATUS_CAVG',\n",
       " 'SK_ID_PREV_IAVG',\n",
       " 'NUM_INSTALMENT_VERSION',\n",
       " 'NUM_INSTALMENT_NUMBER',\n",
       " 'DAYS_INSTALMENT',\n",
       " 'DAYS_ENTRY_PAYMENT',\n",
       " 'AMT_INSTALMENT',\n",
       " 'AMT_PAYMENT',\n",
       " 'SK_ID_CURR_CNT_BUREAU',\n",
       " 'SK_ID_CURR_CNT_CRED_CARD',\n",
       " 'SK_ID_CURR_CNT_POS_CASH',\n",
       " 'SK_ID_CURR_CNT_INSTALL']"
      ]
     },
     "execution_count": 99,
     "metadata": {},
     "output_type": "execute_result"
    }
   ],
   "source": [
    "list(merged_df.columns)"
   ]
  },
  {
   "cell_type": "code",
   "execution_count": 7,
   "metadata": {},
   "outputs": [],
   "source": [
    "def most_recent_sk_id(curr_sk_id):\n",
    "    columns = prev[prev[\"SK_ID_CURR\"] == curr_sk_id]\n",
    "    most_recent_loan = columns[columns[\"DAYS_DECISION\"] == max(columns[\"DAYS_DECISION\"])]\n",
    "    recent_prev_sk_id = list(most_recent_loan[\"SK_ID_PREV\"])[0]\n",
    "    return recent_prev_sk_id"
   ]
  },
  {
   "cell_type": "code",
   "execution_count": 9,
   "metadata": {},
   "outputs": [],
   "source": [
    "largest_idx = prev.groupby([\"SK_ID_CURR\"], sort=False)['DAYS_DECISION'].idxmax()"
   ]
  },
  {
   "cell_type": "code",
   "execution_count": null,
   "metadata": {},
   "outputs": [],
   "source": [
    "def get_nth_columns(prev_df):\n",
    "    largest_idx = prev_df.groupby([\"SK_ID_CURR\"], sort=False)['DAYS_DECISION'].idxmax()\n",
    "    return prev_df[prev_df.index.isin(largest_idx.values)]"
   ]
  },
  {
   "cell_type": "code",
   "execution_count": 67,
   "metadata": {},
   "outputs": [],
   "source": [
    "largest_idx = prev.groupby([\"SK_ID_CURR\"], sort=False)['DAYS_DECISION'].nlargest(2, keep=\"first\")"
   ]
  },
  {
   "cell_type": "code",
   "execution_count": 114,
   "metadata": {},
   "outputs": [],
   "source": [
    "loan_count_dist = prev.groupby([\"SK_ID_CURR\"], sort=False).size()"
   ]
  },
  {
   "cell_type": "markdown",
   "metadata": {},
   "source": [
    "## Add loan count "
   ]
  },
  {
   "cell_type": "code",
   "execution_count": 106,
   "metadata": {},
   "outputs": [],
   "source": [
    "merged_df[\"LOAN_CNT\"] = loan_count_dist"
   ]
  },
  {
   "cell_type": "code",
   "execution_count": 107,
   "metadata": {},
   "outputs": [
    {
     "data": {
      "text/plain": [
       "356255"
      ]
     },
     "execution_count": 107,
     "metadata": {},
     "output_type": "execute_result"
    }
   ],
   "source": [
    "len(merged_df)"
   ]
  },
  {
   "cell_type": "code",
   "execution_count": 115,
   "metadata": {},
   "outputs": [],
   "source": [
    "loan_count_dist = loan_count_dist.values"
   ]
  },
  {
   "cell_type": "code",
   "execution_count": 123,
   "metadata": {},
   "outputs": [],
   "source": [
    "less_than_10 = list(filter(lambda x: x < 10, loan_count_dist))\n",
    "less_than_20 = list(filter(lambda x: 10 < x and x < 20, loan_count_dist))\n",
    "less_than_30 = list(filter(lambda x: 20 < x and x < 30, loan_count_dist))\n",
    "less_than_100 = list(filter(lambda x: 30 < x and x < 100, loan_count_dist))"
   ]
  },
  {
   "cell_type": "code",
   "execution_count": 120,
   "metadata": {},
   "outputs": [
    {
     "data": {
      "text/plain": [
       "(array([6854., 5214., 4099., 3206.,    0., 2385., 1876., 1518., 1129.,  929.]),\n",
       " array([11. , 11.8, 12.6, 13.4, 14.2, 15. , 15.8, 16.6, 17.4, 18.2, 19. ]),\n",
       " <a list of 10 Patch objects>)"
      ]
     },
     "execution_count": 120,
     "metadata": {},
     "output_type": "execute_result"
    },
    {
     "data": {
      "image/png": "[encoded data removed]",
      "text/plain": [
       "<Figure size 432x288 with 1 Axes>"
      ]
     },
     "metadata": {},
     "output_type": "display_data"
    }
   ],
   "source": [
    "matplotlib.pyplot.hist(less_than_20)"
   ]
  },
  {
   "cell_type": "code",
   "execution_count": 121,
   "metadata": {},
   "outputs": [
    {
     "data": {
      "text/plain": [
       "(array([60458., 52737., 45966., 38159.,     0., 30886., 24588., 19216., 15085., 11627.]),\n",
       " array([1. , 1.8, 2.6, 3.4, 4.2, 5. , 5.8, 6.6, 7.4, 8.2, 9. ]),\n",
       " <a list of 10 Patch objects>)"
      ]
     },
     "execution_count": 121,
     "metadata": {},
     "output_type": "execute_result"
    },
    {
     "data": {
      "image/png": "[encoded data removed]",
      "text/plain": [
       "<Figure size 432x288 with 1 Axes>"
      ]
     },
     "metadata": {},
     "output_type": "display_data"
    }
   ],
   "source": [
    "matplotlib.pyplot.hist(less_than_10)"
   ]
  },
  {
   "cell_type": "code",
   "execution_count": 122,
   "metadata": {
    "scrolled": true
   },
   "outputs": [
    {
     "data": {
      "text/plain": [
       "(array([581., 462., 351., 320.,   0., 242., 198., 169., 134., 127.]),\n",
       " array([21. , 21.8, 22.6, 23.4, 24.2, 25. , 25.8, 26.6, 27.4, 28.2, 29. ]),\n",
       " <a list of 10 Patch objects>)"
      ]
     },
     "execution_count": 122,
     "metadata": {},
     "output_type": "execute_result"
    },
    {
     "data": {
      "image/png": "[encoded data removed]",
      "text/plain": [
       "<Figure size 432x288 with 1 Axes>"
      ]
     },
     "metadata": {},
     "output_type": "display_data"
    }
   ],
   "source": [
    "matplotlib.pyplot.hist(less_than_30)"
   ]
  },
  {
   "cell_type": "code",
   "execution_count": 96,
   "metadata": {},
   "outputs": [
    {
     "data": {
      "text/plain": [
       "(array([255.,  98.,  54.,  11.,  10.,   8.,  10.,   4.,   2.,   2.]),\n",
       " array([31. , 35.6, 40.2, 44.8, 49.4, 54. , 58.6, 63.2, 67.8, 72.4, 77. ]),\n",
       " <a list of 10 Patch objects>)"
      ]
     },
     "execution_count": 96,
     "metadata": {},
     "output_type": "execute_result"
    },
    {
     "data": {
      "image/png": "[encoded data removed]",
      "text/plain": [
       "<Figure size 432x288 with 1 Axes>"
      ]
     },
     "metadata": {},
     "output_type": "display_data"
    }
   ],
   "source": [
    "matplotlib.pyplot.hist(less_than_100)"
   ]
  },
  {
   "cell_type": "code",
   "execution_count": 127,
   "metadata": {},
   "outputs": [],
   "source": [
    "def get_most_recent(prev_df):\n",
    "    largest_idx = prev_df.groupby([\"SK_ID_CURR\"], sort=False)['DAYS_DECISION'].idxmax()\n",
    "    return prev_df[prev_df.index.isin(largest_idx.values)]"
   ]
  },
  {
   "cell_type": "code",
   "execution_count": 128,
   "metadata": {},
   "outputs": [],
   "source": [
    "most_recent = get_most_recent(prev)"
   ]
  },
  {
   "cell_type": "code",
   "execution_count": 129,
   "metadata": {},
   "outputs": [],
   "source": [
    "joined_df = pd.merge(merged_df, most_recent, how='left', on=['SK_ID_CURR'], suffixes=[\"\", \"_add_1\"])"
   ]
  },
  {
   "cell_type": "code",
   "execution_count": 130,
   "metadata": {},
   "outputs": [],
   "source": [
    "joined_df[['DAYS_ID_PUBLISH', 'DAYS_BIRTH', 'DAYS_EMPLOYED']] = joined_df.loc[:, ['DAYS_ID_PUBLISH', 'DAYS_BIRTH', 'DAYS_EMPLOYED']].replace([365243], value=0)"
   ]
  },
  {
   "cell_type": "code",
   "execution_count": 131,
   "metadata": {},
   "outputs": [],
   "source": [
    "train_df = joined_df.loc[joined_df[SK_ID_CURR].isin(application_train[SK_ID_CURR])]\n",
    "test_df = joined_df.loc[joined_df[SK_ID_CURR].isin(application_test[SK_ID_CURR])]"
   ]
  },
  {
   "cell_type": "code",
   "execution_count": 132,
   "metadata": {},
   "outputs": [],
   "source": [
    "assert(len(train_df) == len(application_train))"
   ]
  },
  {
   "cell_type": "code",
   "execution_count": 133,
   "metadata": {},
   "outputs": [],
   "source": [
    "assert(len(test_df) == len(application_test))"
   ]
  },
  {
   "cell_type": "code",
   "execution_count": 134,
   "metadata": {
    "scrolled": true
   },
   "outputs": [
    {
     "data": {
      "text/plain": [
       "250"
      ]
     },
     "execution_count": 134,
     "metadata": {},
     "output_type": "execute_result"
    }
   ],
   "source": [
    "len(train_df.columns)"
   ]
  },
  {
   "cell_type": "code",
   "execution_count": 135,
   "metadata": {},
   "outputs": [],
   "source": [
    "samp_size = len(train_df)"
   ]
  },
  {
   "cell_type": "code",
   "execution_count": 136,
   "metadata": {},
   "outputs": [],
   "source": [
    "train_ratio  = 0.75\n",
    "train_size = int(samp_size * train_ratio); train_size\n",
    "val_idx = list(range(train_size, len(train_df)))"
   ]
  },
  {
   "cell_type": "code",
   "execution_count": 137,
   "metadata": {
    "scrolled": false
   },
   "outputs": [
    {
     "data": {
      "text/plain": [
       "[230633,\n",
       " 230634,\n",
       " 230635,\n",
       " 230636,\n",
       " 230637,\n",
       " 230638,\n",
       " 230639,\n",
       " 230640,\n",
       " 230641,\n",
       " 230642]"
      ]
     },
     "execution_count": 137,
     "metadata": {},
     "output_type": "execute_result"
    }
   ],
   "source": [
    "val_idx[:10]"
   ]
  },
  {
   "cell_type": "code",
   "execution_count": 138,
   "metadata": {},
   "outputs": [],
   "source": [
    "column_type_map = joined_df.columns.to_series().groupby(joined_df.dtypes).groups"
   ]
  },
  {
   "cell_type": "code",
   "execution_count": 139,
   "metadata": {},
   "outputs": [],
   "source": [
    "dtype_int64, dtype_float64, dtype_o = column_type_map.keys()"
   ]
  },
  {
   "cell_type": "code",
   "execution_count": 140,
   "metadata": {},
   "outputs": [
    {
     "data": {
      "text/plain": [
       "Index(['CNT_CHILDREN', 'DAYS_BIRTH', 'DAYS_EMPLOYED', 'DAYS_ID_PUBLISH',\n",
       "       'FLAG_CONT_MOBILE', 'FLAG_DOCUMENT_10', 'FLAG_DOCUMENT_11',\n",
       "       'FLAG_DOCUMENT_12', 'FLAG_DOCUMENT_13', 'FLAG_DOCUMENT_14',\n",
       "       'FLAG_DOCUMENT_15', 'FLAG_DOCUMENT_16', 'FLAG_DOCUMENT_17',\n",
       "       'FLAG_DOCUMENT_18', 'FLAG_DOCUMENT_19', 'FLAG_DOCUMENT_2',\n",
       "       'FLAG_DOCUMENT_20', 'FLAG_DOCUMENT_21', 'FLAG_DOCUMENT_3',\n",
       "       'FLAG_DOCUMENT_4', 'FLAG_DOCUMENT_5', 'FLAG_DOCUMENT_6',\n",
       "       'FLAG_DOCUMENT_7', 'FLAG_DOCUMENT_8', 'FLAG_DOCUMENT_9', 'FLAG_EMAIL',\n",
       "       'FLAG_EMP_PHONE', 'FLAG_MOBIL', 'FLAG_PHONE', 'FLAG_WORK_PHONE',\n",
       "       'HOUR_APPR_PROCESS_START', 'LIVE_CITY_NOT_WORK_CITY',\n",
       "       'LIVE_REGION_NOT_WORK_REGION', 'REGION_RATING_CLIENT',\n",
       "       'REGION_RATING_CLIENT_W_CITY', 'REG_CITY_NOT_LIVE_CITY',\n",
       "       'REG_CITY_NOT_WORK_CITY', 'REG_REGION_NOT_LIVE_REGION',\n",
       "       'REG_REGION_NOT_WORK_REGION', 'SK_ID_CURR'],\n",
       "      dtype='object')"
      ]
     },
     "execution_count": 140,
     "metadata": {},
     "output_type": "execute_result"
    }
   ],
   "source": [
    "column_type_map[dtype_int64]"
   ]
  },
  {
   "cell_type": "code",
   "execution_count": 141,
   "metadata": {},
   "outputs": [
    {
     "data": {
      "text/plain": [
       "Index(['CODE_GENDER', 'EMERGENCYSTATE_MODE', 'FLAG_OWN_CAR', 'FLAG_OWN_REALTY',\n",
       "       'FONDKAPREMONT_MODE', 'HOUSETYPE_MODE', 'NAME_CONTRACT_TYPE',\n",
       "       'NAME_EDUCATION_TYPE', 'NAME_FAMILY_STATUS', 'NAME_HOUSING_TYPE',\n",
       "       'NAME_INCOME_TYPE', 'NAME_TYPE_SUITE', 'OCCUPATION_TYPE',\n",
       "       'ORGANIZATION_TYPE', 'WALLSMATERIAL_MODE', 'WEEKDAY_APPR_PROCESS_START',\n",
       "       'NAME_CONTRACT_TYPE_BAVG', 'WEEKDAY_APPR_PROCESS_START_BAVG',\n",
       "       'FLAG_LAST_APPL_PER_CONTRACT', 'NAME_CASH_LOAN_PURPOSE',\n",
       "       'NAME_CONTRACT_STATUS', 'NAME_PAYMENT_TYPE', 'CODE_REJECT_REASON',\n",
       "       'NAME_TYPE_SUITE_BAVG', 'NAME_CLIENT_TYPE', 'NAME_GOODS_CATEGORY',\n",
       "       'NAME_PORTFOLIO', 'NAME_PRODUCT_TYPE', 'CHANNEL_TYPE',\n",
       "       'NAME_SELLER_INDUSTRY', 'NAME_YIELD_GROUP', 'PRODUCT_COMBINATION',\n",
       "       'NAME_CONTRACT_STATUS_CCAVG', 'STATUS', 'NAME_CONTRACT_STATUS_CAVG',\n",
       "       'NAME_CONTRACT_TYPE_add_1', 'WEEKDAY_APPR_PROCESS_START_add_1',\n",
       "       'FLAG_LAST_APPL_PER_CONTRACT_add_1', 'NAME_CASH_LOAN_PURPOSE_add_1',\n",
       "       'NAME_CONTRACT_STATUS_add_1', 'NAME_PAYMENT_TYPE_add_1',\n",
       "       'CODE_REJECT_REASON_add_1', 'NAME_TYPE_SUITE_add_1',\n",
       "       'NAME_CLIENT_TYPE_add_1', 'NAME_GOODS_CATEGORY_add_1',\n",
       "       'NAME_PORTFOLIO_add_1', 'NAME_PRODUCT_TYPE_add_1', 'CHANNEL_TYPE_add_1',\n",
       "       'NAME_SELLER_INDUSTRY_add_1', 'NAME_YIELD_GROUP_add_1',\n",
       "       'PRODUCT_COMBINATION_add_1'],\n",
       "      dtype='object')"
      ]
     },
     "execution_count": 141,
     "metadata": {},
     "output_type": "execute_result"
    }
   ],
   "source": [
    "column_type_map[dtype_o]"
   ]
  },
  {
   "cell_type": "code",
   "execution_count": 142,
   "metadata": {},
   "outputs": [],
   "source": [
    "cat_vars  = list(set(column_type_map[dtype_int64])) + list(set(column_type_map[dtype_o]))"
   ]
  },
  {
   "cell_type": "code",
   "execution_count": 143,
   "metadata": {},
   "outputs": [],
   "source": [
    "days = []\n",
    "for var in cat_vars:\n",
    "    if \"DAYS\" in var:\n",
    "        days.append(var)"
   ]
  },
  {
   "cell_type": "code",
   "execution_count": 144,
   "metadata": {},
   "outputs": [
    {
     "data": {
      "text/plain": [
       "['DAYS_EMPLOYED', 'DAYS_ID_PUBLISH', 'DAYS_BIRTH']"
      ]
     },
     "execution_count": 144,
     "metadata": {},
     "output_type": "execute_result"
    }
   ],
   "source": [
    "days"
   ]
  },
  {
   "cell_type": "code",
   "execution_count": 145,
   "metadata": {},
   "outputs": [],
   "source": [
    "not_cat = [\"SK_ID_CURR\"] + days"
   ]
  },
  {
   "cell_type": "code",
   "execution_count": 146,
   "metadata": {},
   "outputs": [
    {
     "data": {
      "text/plain": [
       "['SK_ID_CURR', 'DAYS_EMPLOYED', 'DAYS_ID_PUBLISH', 'DAYS_BIRTH']"
      ]
     },
     "execution_count": 146,
     "metadata": {},
     "output_type": "execute_result"
    }
   ],
   "source": [
    "not_cat"
   ]
  },
  {
   "cell_type": "code",
   "execution_count": 147,
   "metadata": {},
   "outputs": [],
   "source": [
    "cat_vars = list(set(cat_vars) - set(not_cat))"
   ]
  },
  {
   "cell_type": "code",
   "execution_count": 148,
   "metadata": {},
   "outputs": [],
   "source": [
    "cat_vars = list(set(cat_vars) - set(days))"
   ]
  },
  {
   "cell_type": "code",
   "execution_count": 149,
   "metadata": {},
   "outputs": [],
   "source": [
    "contin_vars = list(set(column_type_map[dtype_float64])) + not_cat"
   ]
  },
  {
   "cell_type": "code",
   "execution_count": 150,
   "metadata": {},
   "outputs": [],
   "source": [
    "rm_list = ['SK_ID_PREV', 'SK_ID_PREV', 'SK_ID_PREV_add_1']\n",
    "\n",
    "def rm(content, remove):\n",
    "    return list(set(content) - set(remove))\n",
    "\n",
    "contin_vars = rm(contin_vars, rm_list)\n",
    "cat_vars = rm(cat_vars, rm_list)"
   ]
  },
  {
   "cell_type": "code",
   "execution_count": 151,
   "metadata": {},
   "outputs": [
    {
     "data": {
      "text/plain": [
       "['SK_ID_CURR', 'DAYS_EMPLOYED', 'DAYS_ID_PUBLISH', 'DAYS_BIRTH']"
      ]
     },
     "execution_count": 151,
     "metadata": {},
     "output_type": "execute_result"
    }
   ],
   "source": [
    "not_cat"
   ]
  },
  {
   "cell_type": "code",
   "execution_count": 152,
   "metadata": {},
   "outputs": [
    {
     "data": {
      "text/plain": [
       "['FLOORSMIN_MEDI',\n",
       " 'FLOORSMIN_MODE',\n",
       " 'DAYS_LAST_DUE_add_1',\n",
       " 'FLOORSMIN_AVG',\n",
       " 'YEARS_BUILD_AVG',\n",
       " 'AMT_CREDIT_MAX_OVERDUE',\n",
       " 'COMMONAREA_MODE',\n",
       " 'SK_DPD_CAVG',\n",
       " 'AMT_DRAWINGS_OTHER_CURRENT',\n",
       " 'LIVINGAREA_MEDI',\n",
       " 'CNT_DRAWINGS_CURRENT',\n",
       " 'AMT_REQ_CREDIT_BUREAU_DAY',\n",
       " 'FLOORSMAX_AVG',\n",
       " 'NONLIVINGAREA_MEDI',\n",
       " 'SK_DPD_DEF_CAVG',\n",
       " 'TARGET',\n",
       " 'NFLAG_INSURED_ON_APPROVAL_add_1',\n",
       " 'LOAN_CNT',\n",
       " 'AMT_GOODS_PRICE_add_1',\n",
       " 'AMT_REQ_CREDIT_BUREAU_MON',\n",
       " 'DAYS_CREDIT_UPDATE',\n",
       " 'CNT_INSTALMENT',\n",
       " 'DAYS_FIRST_DRAWING_add_1',\n",
       " 'DAYS_ID_PUBLISH',\n",
       " 'AMT_REQ_CREDIT_BUREAU_QRT',\n",
       " 'CNT_DRAWINGS_ATM_CURRENT',\n",
       " 'CNT_DRAWINGS_OTHER_CURRENT',\n",
       " 'BASEMENTAREA_MODE',\n",
       " 'LIVINGAREA_MODE',\n",
       " 'CNT_PAYMENT_add_1',\n",
       " 'NONLIVINGAPARTMENTS_MEDI',\n",
       " 'DAYS_ENDDATE_FACT',\n",
       " 'ENTRANCES_MODE',\n",
       " 'AMT_RECEIVABLE_PRINCIPAL',\n",
       " 'SK_ID_CURR_CNT_BUREAU',\n",
       " 'DAYS_DECISION_add_1',\n",
       " 'SK_ID_PREV_CCAVG',\n",
       " 'AMT_CREDIT',\n",
       " 'CREDIT_DAY_OVERDUE',\n",
       " 'RATE_INTEREST_PRIMARY_add_1',\n",
       " 'SK_ID_BUREAU',\n",
       " 'BASEMENTAREA_AVG',\n",
       " 'YEARS_BUILD_MEDI',\n",
       " 'AMT_INCOME_TOTAL',\n",
       " 'AMT_DOWN_PAYMENT_add_1',\n",
       " 'PREV APP COUNT',\n",
       " 'AMT_PAYMENT_TOTAL_CURRENT',\n",
       " 'DEF_30_CNT_SOCIAL_CIRCLE',\n",
       " 'LIVINGAPARTMENTS_MEDI',\n",
       " 'COMMONAREA_MEDI',\n",
       " 'DAYS_EMPLOYED',\n",
       " 'RATE_INTEREST_PRIVILEGED',\n",
       " 'EXT_SOURCE_3',\n",
       " 'BASEMENTAREA_MEDI',\n",
       " 'DAYS_FIRST_DRAWING',\n",
       " 'DAYS_TERMINATION_add_1',\n",
       " 'NFLAG_INSURED_ON_APPROVAL',\n",
       " 'AMT_REQ_CREDIT_BUREAU_WEEK',\n",
       " 'AMT_TOTAL_RECEIVABLE',\n",
       " 'ENTRANCES_AVG',\n",
       " 'DAYS_INSTALMENT',\n",
       " 'NUM_INSTALMENT_NUMBER',\n",
       " 'HOUR_APPR_PROCESS_START_add_1',\n",
       " 'AMT_GOODS_PRICE_PAVG',\n",
       " 'AMT_CREDIT_SUM_LIMIT',\n",
       " 'OBS_30_CNT_SOCIAL_CIRCLE',\n",
       " 'NUM_INSTALMENT_VERSION',\n",
       " 'YEARS_BEGINEXPLUATATION_AVG',\n",
       " 'AMT_RECIVABLE',\n",
       " 'DAYS_FIRST_DUE_add_1',\n",
       " 'TOTAL PREV LOAN AMT',\n",
       " 'MONTHS_BALANCE_B_B',\n",
       " 'OWN_CAR_AGE',\n",
       " 'YEARS_BEGINEXPLUATATION_MODE',\n",
       " 'ELEVATORS_MODE',\n",
       " 'AMT_CREDIT_LIMIT_ACTUAL',\n",
       " 'AMT_ANNUITY_BAVG',\n",
       " 'AMT_CREDIT_PAVG',\n",
       " 'NFLAG_LAST_APPL_IN_DAY_add_1',\n",
       " 'NONLIVINGAPARTMENTS_MODE',\n",
       " 'DAYS_LAST_PHONE_CHANGE',\n",
       " 'AMT_ANNUITY_PAVG',\n",
       " 'NONLIVINGAREA_AVG',\n",
       " 'SK_ID_PREV_IAVG',\n",
       " 'LANDAREA_AVG',\n",
       " 'CNT_DRAWINGS_POS_CURRENT',\n",
       " 'AMT_CREDIT_SUM',\n",
       " 'DAYS_LAST_DUE_1ST_VERSION_add_1',\n",
       " 'SELLERPLACE_AREA',\n",
       " 'LIVINGAPARTMENTS_MODE',\n",
       " 'FLOORSMAX_MODE',\n",
       " 'SK_ID_CURR_CNT_POS_CASH',\n",
       " 'OBS_60_CNT_SOCIAL_CIRCLE',\n",
       " 'MONTHS_BALANCE',\n",
       " 'DAYS_REGISTRATION',\n",
       " 'AMT_DRAWINGS_ATM_CURRENT',\n",
       " 'APARTMENTS_MODE',\n",
       " 'SELLERPLACE_AREA_add_1',\n",
       " 'NFLAG_LAST_APPL_IN_DAY',\n",
       " 'AMT_PAYMENT',\n",
       " 'ELEVATORS_AVG',\n",
       " 'AMT_INST_MIN_REGULARITY',\n",
       " 'AMT_REQ_CREDIT_BUREAU_YEAR',\n",
       " 'APARTMENTS_MEDI',\n",
       " 'ELEVATORS_MEDI',\n",
       " 'SK_DPD',\n",
       " 'DAYS_BIRTH',\n",
       " 'AMT_CREDIT_SUM_OVERDUE',\n",
       " 'TOTALAREA_MODE',\n",
       " 'DAYS_CREDIT_ENDDATE',\n",
       " 'CNT_INSTALMENT_FUTURE',\n",
       " 'HOUR_APPR_PROCESS_START_PAVG',\n",
       " 'RATE_INTEREST_PRIMARY',\n",
       " 'NONLIVINGAPARTMENTS_AVG',\n",
       " 'CNT_PAYMENT',\n",
       " 'APARTMENTS_AVG',\n",
       " 'AMT_GOODS_PRICE',\n",
       " 'AMT_DRAWINGS_POS_CURRENT',\n",
       " 'AMT_INSTALMENT',\n",
       " 'AMT_PAYMENT_CURRENT',\n",
       " 'CNT_CREDIT_PROLONG',\n",
       " 'COMMONAREA_AVG',\n",
       " 'AMT_ANNUITY_add_1',\n",
       " 'RATE_DOWN_PAYMENT_add_1',\n",
       " 'NONLIVINGAREA_MODE',\n",
       " 'CNT_FAM_MEMBERS',\n",
       " 'AMT_REQ_CREDIT_BUREAU_HOUR',\n",
       " 'DAYS_TERMINATION',\n",
       " 'SK_DPD_DEF',\n",
       " 'LIVINGAPARTMENTS_AVG',\n",
       " 'YEARS_BEGINEXPLUATATION_MEDI',\n",
       " 'AMT_CREDIT_SUM_DEBT',\n",
       " 'AMT_APPLICATION',\n",
       " 'DAYS_CREDIT',\n",
       " 'ENTRANCES_MEDI',\n",
       " 'FLOORSMAX_MEDI',\n",
       " 'SK_ID_CURR',\n",
       " 'LANDAREA_MODE',\n",
       " 'DAYS_DECISION',\n",
       " 'SK_ID_CURR_CNT_INSTALL',\n",
       " 'DAYS_LAST_DUE_1ST_VERSION',\n",
       " 'AMT_DOWN_PAYMENT',\n",
       " 'DAYS_ENTRY_PAYMENT',\n",
       " 'YEARS_BUILD_MODE',\n",
       " 'AMT_BALANCE',\n",
       " 'RATE_INTEREST_PRIVILEGED_add_1',\n",
       " 'REGION_POPULATION_RELATIVE',\n",
       " 'DAYS_LAST_DUE',\n",
       " 'DAYS_FIRST_DUE',\n",
       " 'AMT_CREDIT_add_1',\n",
       " 'EXT_SOURCE_2',\n",
       " 'SK_ID_CURR_CNT_CRED_CARD',\n",
       " 'EXT_SOURCE_1',\n",
       " 'AMT_ANNUITY',\n",
       " 'DEF_60_CNT_SOCIAL_CIRCLE',\n",
       " 'CNT_INSTALMENT_MATURE_CUM',\n",
       " 'LANDAREA_MEDI',\n",
       " 'RATE_DOWN_PAYMENT',\n",
       " 'LIVINGAREA_AVG',\n",
       " 'AMT_APPLICATION_add_1',\n",
       " 'AMT_DRAWINGS_CURRENT']"
      ]
     },
     "execution_count": 152,
     "metadata": {},
     "output_type": "execute_result"
    }
   ],
   "source": [
    "contin_vars"
   ]
  },
  {
   "cell_type": "code",
   "execution_count": 153,
   "metadata": {
    "scrolled": true
   },
   "outputs": [
    {
     "name": "stderr",
     "output_type": "stream",
     "text": [
      "/home/cheeseblubber/anaconda3/envs/fastai-latest/lib/python3.6/site-packages/ipykernel_launcher.py:2: SettingWithCopyWarning: \n",
      "A value is trying to be set on a copy of a slice from a DataFrame.\n",
      "Try using .loc[row_indexer,col_indexer] = value instead\n",
      "\n",
      "See the caveats in the documentation: http://pandas.pydata.org/pandas-docs/stable/indexing.html#indexing-view-versus-copy\n",
      "  \n",
      "/home/cheeseblubber/anaconda3/envs/fastai-latest/lib/python3.6/site-packages/ipykernel_launcher.py:3: SettingWithCopyWarning: \n",
      "A value is trying to be set on a copy of a slice from a DataFrame.\n",
      "Try using .loc[row_indexer,col_indexer] = value instead\n",
      "\n",
      "See the caveats in the documentation: http://pandas.pydata.org/pandas-docs/stable/indexing.html#indexing-view-versus-copy\n",
      "  This is separate from the ipykernel package so we can avoid doing imports until\n"
     ]
    }
   ],
   "source": [
    "for v in cat_vars:\n",
    "    train_df[v] = train_df[v].astype('category')\n",
    "    test_df[v] = test_df[v].astype('category')"
   ]
  },
  {
   "cell_type": "code",
   "execution_count": 154,
   "metadata": {},
   "outputs": [
    {
     "name": "stderr",
     "output_type": "stream",
     "text": [
      "/home/cheeseblubber/anaconda3/envs/fastai-latest/lib/python3.6/site-packages/ipykernel_launcher.py:2: SettingWithCopyWarning: \n",
      "A value is trying to be set on a copy of a slice from a DataFrame.\n",
      "Try using .loc[row_indexer,col_indexer] = value instead\n",
      "\n",
      "See the caveats in the documentation: http://pandas.pydata.org/pandas-docs/stable/indexing.html#indexing-view-versus-copy\n",
      "  \n",
      "/home/cheeseblubber/anaconda3/envs/fastai-latest/lib/python3.6/site-packages/ipykernel_launcher.py:3: SettingWithCopyWarning: \n",
      "A value is trying to be set on a copy of a slice from a DataFrame.\n",
      "Try using .loc[row_indexer,col_indexer] = value instead\n",
      "\n",
      "See the caveats in the documentation: http://pandas.pydata.org/pandas-docs/stable/indexing.html#indexing-view-versus-copy\n",
      "  This is separate from the ipykernel package so we can avoid doing imports until\n"
     ]
    }
   ],
   "source": [
    "for v in contin_vars:\n",
    "    train_df[v] = train_df[v].fillna(0).astype('float32')\n",
    "    test_df[v] = test_df[v].fillna(0).astype('float32')"
   ]
  },
  {
   "cell_type": "code",
   "execution_count": 155,
   "metadata": {},
   "outputs": [],
   "source": [
    "cat_sz = [(c, len(train_df[c].cat.categories)+1) for c in cat_vars]"
   ]
  },
  {
   "cell_type": "code",
   "execution_count": 156,
   "metadata": {},
   "outputs": [
    {
     "name": "stderr",
     "output_type": "stream",
     "text": [
      "/home/cheeseblubber/workspace/competition/home-default-credit/fastai/structured.py:200: SettingWithCopyWarning: \n",
      "A value is trying to be set on a copy of a slice from a DataFrame.\n",
      "Try using .loc[row_indexer,col_indexer] = value instead\n",
      "\n",
      "See the caveats in the documentation: http://pandas.pydata.org/pandas-docs/stable/indexing.html#indexing-view-versus-copy\n",
      "  df[n] = pd.Categorical(c, categories=trn[n].cat.categories, ordered=True)\n"
     ]
    }
   ],
   "source": [
    "apply_cats(test_df, train_df)"
   ]
  },
  {
   "cell_type": "code",
   "execution_count": 157,
   "metadata": {
    "scrolled": true
   },
   "outputs": [
    {
     "data": {
      "text/plain": [
       "[('FONDKAPREMONT_MODE', 5),\n",
       " ('REG_CITY_NOT_WORK_CITY', 3),\n",
       " ('NAME_PORTFOLIO_add_1', 6),\n",
       " ('NAME_SELLER_INDUSTRY_add_1', 12),\n",
       " ('FLAG_DOCUMENT_10', 3),\n",
       " ('OCCUPATION_TYPE', 19),\n",
       " ('NAME_PAYMENT_TYPE_add_1', 5),\n",
       " ('NAME_CONTRACT_STATUS', 5),\n",
       " ('NAME_PRODUCT_TYPE', 4),\n",
       " ('LIVE_REGION_NOT_WORK_REGION', 3),\n",
       " ('NAME_CONTRACT_STATUS_CCAVG', 5),\n",
       " ('PRODUCT_COMBINATION_add_1', 18),\n",
       " ('NAME_YIELD_GROUP', 6),\n",
       " ('FLAG_DOCUMENT_15', 3),\n",
       " ('FLAG_DOCUMENT_11', 3),\n",
       " ('FLAG_DOCUMENT_14', 3),\n",
       " ('FLAG_MOBIL', 3),\n",
       " ('FLAG_DOCUMENT_3', 3),\n",
       " ('NAME_PORTFOLIO', 6),\n",
       " ('FLAG_DOCUMENT_16', 3),\n",
       " ('REGION_RATING_CLIENT', 4),\n",
       " ('FLAG_LAST_APPL_PER_CONTRACT_add_1', 3),\n",
       " ('NAME_CONTRACT_STATUS_add_1', 5),\n",
       " ('FLAG_DOCUMENT_9', 3),\n",
       " ('FLAG_DOCUMENT_13', 3),\n",
       " ('FLAG_DOCUMENT_4', 3),\n",
       " ('FLAG_PHONE', 3),\n",
       " ('FLAG_DOCUMENT_2', 3),\n",
       " ('CHANNEL_TYPE', 9),\n",
       " ('FLAG_DOCUMENT_6', 3),\n",
       " ('REG_REGION_NOT_LIVE_REGION', 3),\n",
       " ('WALLSMATERIAL_MODE', 8),\n",
       " ('FLAG_EMAIL', 3),\n",
       " ('STATUS', 9),\n",
       " ('FLAG_DOCUMENT_18', 3),\n",
       " ('FLAG_EMP_PHONE', 3),\n",
       " ('PRODUCT_COMBINATION', 19),\n",
       " ('NAME_FAMILY_STATUS', 7),\n",
       " ('FLAG_CONT_MOBILE', 3),\n",
       " ('NAME_TYPE_SUITE', 8),\n",
       " ('CODE_REJECT_REASON', 10),\n",
       " ('WEEKDAY_APPR_PROCESS_START', 8),\n",
       " ('FLAG_DOCUMENT_8', 3),\n",
       " ('NAME_CONTRACT_TYPE_add_1', 5),\n",
       " ('LIVE_CITY_NOT_WORK_CITY', 3),\n",
       " ('NAME_GOODS_CATEGORY', 27),\n",
       " ('CODE_REJECT_REASON_add_1', 10),\n",
       " ('FLAG_OWN_CAR', 3),\n",
       " ('FLAG_DOCUMENT_17', 3),\n",
       " ('CNT_CHILDREN', 16),\n",
       " ('FLAG_DOCUMENT_21', 3),\n",
       " ('NAME_PAYMENT_TYPE', 5),\n",
       " ('NAME_CLIENT_TYPE', 5),\n",
       " ('NAME_CLIENT_TYPE_add_1', 5),\n",
       " ('NAME_YIELD_GROUP_add_1', 6),\n",
       " ('NAME_HOUSING_TYPE', 7),\n",
       " ('FLAG_OWN_REALTY', 3),\n",
       " ('NAME_CONTRACT_TYPE_BAVG', 5),\n",
       " ('NAME_GOODS_CATEGORY_add_1', 27),\n",
       " ('HOUSETYPE_MODE', 4),\n",
       " ('FLAG_DOCUMENT_19', 3),\n",
       " ('NAME_CONTRACT_STATUS_CAVG', 8),\n",
       " ('CODE_GENDER', 4),\n",
       " ('EMERGENCYSTATE_MODE', 3),\n",
       " ('NAME_EDUCATION_TYPE', 6),\n",
       " ('WEEKDAY_APPR_PROCESS_START_BAVG', 8),\n",
       " ('FLAG_DOCUMENT_7', 3),\n",
       " ('FLAG_DOCUMENT_20', 3),\n",
       " ('FLAG_LAST_APPL_PER_CONTRACT', 3),\n",
       " ('CHANNEL_TYPE_add_1', 9),\n",
       " ('NAME_PRODUCT_TYPE_add_1', 4),\n",
       " ('WEEKDAY_APPR_PROCESS_START_add_1', 8),\n",
       " ('FLAG_DOCUMENT_12', 3),\n",
       " ('NAME_CASH_LOAN_PURPOSE_add_1', 26),\n",
       " ('REGION_RATING_CLIENT_W_CITY', 4),\n",
       " ('NAME_CASH_LOAN_PURPOSE', 26),\n",
       " ('REG_CITY_NOT_LIVE_CITY', 3),\n",
       " ('NAME_TYPE_SUITE_add_1', 8),\n",
       " ('NAME_INCOME_TYPE', 9),\n",
       " ('ORGANIZATION_TYPE', 59),\n",
       " ('FLAG_WORK_PHONE', 3),\n",
       " ('HOUR_APPR_PROCESS_START', 25),\n",
       " ('REG_REGION_NOT_WORK_REGION', 3),\n",
       " ('NAME_SELLER_INDUSTRY', 12),\n",
       " ('NAME_CONTRACT_TYPE', 3),\n",
       " ('NAME_TYPE_SUITE_BAVG', 9),\n",
       " ('FLAG_DOCUMENT_5', 3)]"
      ]
     },
     "execution_count": 157,
     "metadata": {},
     "output_type": "execute_result"
    }
   ],
   "source": [
    "cat_sz"
   ]
  },
  {
   "cell_type": "code",
   "execution_count": 158,
   "metadata": {},
   "outputs": [],
   "source": [
    "emb_szs = [(c, min(50, (c+1)//2)) for _,c in cat_sz]"
   ]
  },
  {
   "cell_type": "code",
   "execution_count": 159,
   "metadata": {
    "scrolled": false
   },
   "outputs": [
    {
     "name": "stderr",
     "output_type": "stream",
     "text": [
      "/home/cheeseblubber/anaconda3/envs/fastai-latest/lib/python3.6/site-packages/pandas/core/frame.py:3694: SettingWithCopyWarning: \n",
      "A value is trying to be set on a copy of a slice from a DataFrame\n",
      "\n",
      "See the caveats in the documentation: http://pandas.pydata.org/pandas-docs/stable/indexing.html#indexing-view-versus-copy\n",
      "  errors=errors)\n"
     ]
    }
   ],
   "source": [
    "proc_train_df, y, _, mapper = proc_df(train_df, y_fld=\"TARGET\", skip_flds=rm_list, do_scale=True)"
   ]
  },
  {
   "cell_type": "code",
   "execution_count": 174,
   "metadata": {},
   "outputs": [
    {
     "name": "stderr",
     "output_type": "stream",
     "text": [
      "/home/cheeseblubber/anaconda3/envs/fastai-latest/lib/python3.6/site-packages/pandas/core/frame.py:3694: SettingWithCopyWarning: \n",
      "A value is trying to be set on a copy of a slice from a DataFrame\n",
      "\n",
      "See the caveats in the documentation: http://pandas.pydata.org/pandas-docs/stable/indexing.html#indexing-view-versus-copy\n",
      "  errors=errors)\n"
     ]
    }
   ],
   "source": [
    "proc_test_df, _, nas, mapper = proc_df(test_df, do_scale=True, mapper=mapper)"
   ]
  },
  {
   "cell_type": "code",
   "execution_count": 161,
   "metadata": {},
   "outputs": [],
   "source": [
    "bs = 1000"
   ]
  },
  {
   "cell_type": "code",
   "execution_count": 162,
   "metadata": {},
   "outputs": [
    {
     "data": {
      "text/plain": [
       "array([1., 0., 0., 0., 0., 0., 0., 0., 0., 0.], dtype=float32)"
      ]
     },
     "execution_count": 162,
     "metadata": {},
     "output_type": "execute_result"
    }
   ],
   "source": [
    "y[:10]"
   ]
  },
  {
   "cell_type": "code",
   "execution_count": 163,
   "metadata": {},
   "outputs": [
    {
     "data": {
      "text/plain": [
       "252"
      ]
     },
     "execution_count": 163,
     "metadata": {},
     "output_type": "execute_result"
    }
   ],
   "source": [
    "len(proc_test_df.columns)"
   ]
  },
  {
   "cell_type": "code",
   "execution_count": 196,
   "metadata": {},
   "outputs": [
    {
     "data": {
      "text/plain": [
       "['SK_ID_PREV_na',\n",
       " 'TARGET',\n",
       " 'SK_ID_PREV_add_1',\n",
       " 'SK_ID_PREV',\n",
       " 'SK_ID_PREV_add_1_na']"
      ]
     },
     "execution_count": 196,
     "metadata": {},
     "output_type": "execute_result"
    }
   ],
   "source": [
    "list(set(proc_test_df.columns) - set(proc_train_df.columns))"
   ]
  },
  {
   "cell_type": "code",
   "execution_count": 197,
   "metadata": {},
   "outputs": [],
   "source": [
    "proc_test_df.drop(columns=['SK_ID_PREV_na',\n",
    " 'TARGET',\n",
    " 'SK_ID_PREV_add_1',\n",
    " 'SK_ID_PREV',\n",
    " 'SK_ID_PREV_add_1_na'], inplace=True)"
   ]
  },
  {
   "cell_type": "code",
   "execution_count": 198,
   "metadata": {},
   "outputs": [],
   "source": [
    "proc_train_df.to_pickle(\"data/train_df1\")\n",
    "proc_test_df.to_pickle(\"data/test_df1\")"
   ]
  },
  {
   "cell_type": "code",
   "execution_count": 199,
   "metadata": {
    "scrolled": true
   },
   "outputs": [
    {
     "data": {
      "text/plain": [
       "307511    0.0\n",
       "307512    0.0\n",
       "307513    0.0\n",
       "307514    0.0\n",
       "307515    0.0\n",
       "307516    0.0\n",
       "307517    0.0\n",
       "307518    0.0\n",
       "307519    0.0\n",
       "307520    0.0\n",
       "307521    0.0\n",
       "307522    0.0\n",
       "307523    0.0\n",
       "307524    0.0\n",
       "307525    0.0\n",
       "307526    0.0\n",
       "307527    0.0\n",
       "307528    0.0\n",
       "307529    0.0\n",
       "307530    0.0\n",
       "307531    0.0\n",
       "307532    0.0\n",
       "307533    0.0\n",
       "307534    0.0\n",
       "307535    0.0\n",
       "307536    0.0\n",
       "307537    0.0\n",
       "307538    0.0\n",
       "307539    0.0\n",
       "307540    0.0\n",
       "         ... \n",
       "356225    0.0\n",
       "356226    0.0\n",
       "356227    0.0\n",
       "356228    0.0\n",
       "356229    0.0\n",
       "356230    0.0\n",
       "356231    0.0\n",
       "356232    0.0\n",
       "356233    0.0\n",
       "356234    0.0\n",
       "356235    0.0\n",
       "356236    0.0\n",
       "356237    0.0\n",
       "356238    0.0\n",
       "356239    0.0\n",
       "356240    0.0\n",
       "356241    0.0\n",
       "356242    0.0\n",
       "356243    0.0\n",
       "356244    0.0\n",
       "356245    0.0\n",
       "356246    0.0\n",
       "356247    0.0\n",
       "356248    0.0\n",
       "356249    0.0\n",
       "356250    0.0\n",
       "356251    0.0\n",
       "356252    0.0\n",
       "356253    0.0\n",
       "356254    0.0\n",
       "Name: TARGET, Length: 48744, dtype: float32"
      ]
     },
     "execution_count": 199,
     "metadata": {},
     "output_type": "execute_result"
    }
   ],
   "source": [
    "test_df[\"TARGET\"]"
   ]
  },
  {
   "cell_type": "code",
   "execution_count": 200,
   "metadata": {},
   "outputs": [
    {
     "data": {
      "text/plain": [
       "False"
      ]
     },
     "execution_count": 200,
     "metadata": {},
     "output_type": "execute_result"
    }
   ],
   "source": [
    "\"TARGET\" in list(proc_train_df.columns)"
   ]
  },
  {
   "cell_type": "code",
   "execution_count": 201,
   "metadata": {},
   "outputs": [
    {
     "data": {
      "text/plain": [
       "[]"
      ]
     },
     "execution_count": 201,
     "metadata": {},
     "output_type": "execute_result"
    }
   ],
   "source": [
    "list(set(proc_test_df.columns) - set(proc_train_df.columns))"
   ]
  },
  {
   "cell_type": "code",
   "execution_count": 202,
   "metadata": {},
   "outputs": [
    {
     "data": {
      "text/plain": [
       "247"
      ]
     },
     "execution_count": 202,
     "metadata": {},
     "output_type": "execute_result"
    }
   ],
   "source": [
    "len(proc_test_df.columns)"
   ]
  },
  {
   "cell_type": "code",
   "execution_count": 203,
   "metadata": {},
   "outputs": [
    {
     "ename": "KeyError",
     "evalue": "\"labels ['SK_ID_PREV'] not contained in axis\"",
     "output_type": "error",
     "traceback": [
      "\u001b[0;31m---------------------------------------------------------------------------\u001b[0m",
      "\u001b[0;31mKeyError\u001b[0m                                  Traceback (most recent call last)",
      "\u001b[0;32m<ipython-input-203-19c940136c3d>\u001b[0m in \u001b[0;36m<module>\u001b[0;34m()\u001b[0m\n\u001b[0;32m----> 1\u001b[0;31m \u001b[0mproc_test_df\u001b[0m\u001b[0;34m.\u001b[0m\u001b[0mdrop\u001b[0m\u001b[0;34m(\u001b[0m\u001b[0mcolumns\u001b[0m\u001b[0;34m=\u001b[0m\u001b[0;34m[\u001b[0m\u001b[0;34m\"SK_ID_PREV\"\u001b[0m\u001b[0;34m,\u001b[0m \u001b[0;34m\"SK_ID_CURR\"\u001b[0m\u001b[0;34m]\u001b[0m\u001b[0;34m,\u001b[0m \u001b[0minplace\u001b[0m\u001b[0;34m=\u001b[0m\u001b[0;32mTrue\u001b[0m\u001b[0;34m)\u001b[0m\u001b[0;34m\u001b[0m\u001b[0m\n\u001b[0m",
      "\u001b[0;32m~/anaconda3/envs/fastai-latest/lib/python3.6/site-packages/pandas/core/frame.py\u001b[0m in \u001b[0;36mdrop\u001b[0;34m(self, labels, axis, index, columns, level, inplace, errors)\u001b[0m\n\u001b[1;32m   3692\u001b[0m                                            \u001b[0mindex\u001b[0m\u001b[0;34m=\u001b[0m\u001b[0mindex\u001b[0m\u001b[0;34m,\u001b[0m \u001b[0mcolumns\u001b[0m\u001b[0;34m=\u001b[0m\u001b[0mcolumns\u001b[0m\u001b[0;34m,\u001b[0m\u001b[0;34m\u001b[0m\u001b[0m\n\u001b[1;32m   3693\u001b[0m                                            \u001b[0mlevel\u001b[0m\u001b[0;34m=\u001b[0m\u001b[0mlevel\u001b[0m\u001b[0;34m,\u001b[0m \u001b[0minplace\u001b[0m\u001b[0;34m=\u001b[0m\u001b[0minplace\u001b[0m\u001b[0;34m,\u001b[0m\u001b[0;34m\u001b[0m\u001b[0m\n\u001b[0;32m-> 3694\u001b[0;31m                                            errors=errors)\n\u001b[0m\u001b[1;32m   3695\u001b[0m \u001b[0;34m\u001b[0m\u001b[0m\n\u001b[1;32m   3696\u001b[0m     @rewrite_axis_style_signature('mapper', [('copy', True),\n",
      "\u001b[0;32m~/anaconda3/envs/fastai-latest/lib/python3.6/site-packages/pandas/core/generic.py\u001b[0m in \u001b[0;36mdrop\u001b[0;34m(self, labels, axis, index, columns, level, inplace, errors)\u001b[0m\n\u001b[1;32m   3106\u001b[0m         \u001b[0;32mfor\u001b[0m \u001b[0maxis\u001b[0m\u001b[0;34m,\u001b[0m \u001b[0mlabels\u001b[0m \u001b[0;32min\u001b[0m \u001b[0maxes\u001b[0m\u001b[0;34m.\u001b[0m\u001b[0mitems\u001b[0m\u001b[0;34m(\u001b[0m\u001b[0;34m)\u001b[0m\u001b[0;34m:\u001b[0m\u001b[0;34m\u001b[0m\u001b[0m\n\u001b[1;32m   3107\u001b[0m             \u001b[0;32mif\u001b[0m \u001b[0mlabels\u001b[0m \u001b[0;32mis\u001b[0m \u001b[0;32mnot\u001b[0m \u001b[0;32mNone\u001b[0m\u001b[0;34m:\u001b[0m\u001b[0;34m\u001b[0m\u001b[0m\n\u001b[0;32m-> 3108\u001b[0;31m                 \u001b[0mobj\u001b[0m \u001b[0;34m=\u001b[0m \u001b[0mobj\u001b[0m\u001b[0;34m.\u001b[0m\u001b[0m_drop_axis\u001b[0m\u001b[0;34m(\u001b[0m\u001b[0mlabels\u001b[0m\u001b[0;34m,\u001b[0m \u001b[0maxis\u001b[0m\u001b[0;34m,\u001b[0m \u001b[0mlevel\u001b[0m\u001b[0;34m=\u001b[0m\u001b[0mlevel\u001b[0m\u001b[0;34m,\u001b[0m \u001b[0merrors\u001b[0m\u001b[0;34m=\u001b[0m\u001b[0merrors\u001b[0m\u001b[0;34m)\u001b[0m\u001b[0;34m\u001b[0m\u001b[0m\n\u001b[0m\u001b[1;32m   3109\u001b[0m \u001b[0;34m\u001b[0m\u001b[0m\n\u001b[1;32m   3110\u001b[0m         \u001b[0;32mif\u001b[0m \u001b[0minplace\u001b[0m\u001b[0;34m:\u001b[0m\u001b[0;34m\u001b[0m\u001b[0m\n",
      "\u001b[0;32m~/anaconda3/envs/fastai-latest/lib/python3.6/site-packages/pandas/core/generic.py\u001b[0m in \u001b[0;36m_drop_axis\u001b[0;34m(self, labels, axis, level, errors)\u001b[0m\n\u001b[1;32m   3138\u001b[0m                 \u001b[0mnew_axis\u001b[0m \u001b[0;34m=\u001b[0m \u001b[0maxis\u001b[0m\u001b[0;34m.\u001b[0m\u001b[0mdrop\u001b[0m\u001b[0;34m(\u001b[0m\u001b[0mlabels\u001b[0m\u001b[0;34m,\u001b[0m \u001b[0mlevel\u001b[0m\u001b[0;34m=\u001b[0m\u001b[0mlevel\u001b[0m\u001b[0;34m,\u001b[0m \u001b[0merrors\u001b[0m\u001b[0;34m=\u001b[0m\u001b[0merrors\u001b[0m\u001b[0;34m)\u001b[0m\u001b[0;34m\u001b[0m\u001b[0m\n\u001b[1;32m   3139\u001b[0m             \u001b[0;32melse\u001b[0m\u001b[0;34m:\u001b[0m\u001b[0;34m\u001b[0m\u001b[0m\n\u001b[0;32m-> 3140\u001b[0;31m                 \u001b[0mnew_axis\u001b[0m \u001b[0;34m=\u001b[0m \u001b[0maxis\u001b[0m\u001b[0;34m.\u001b[0m\u001b[0mdrop\u001b[0m\u001b[0;34m(\u001b[0m\u001b[0mlabels\u001b[0m\u001b[0;34m,\u001b[0m \u001b[0merrors\u001b[0m\u001b[0;34m=\u001b[0m\u001b[0merrors\u001b[0m\u001b[0;34m)\u001b[0m\u001b[0;34m\u001b[0m\u001b[0m\n\u001b[0m\u001b[1;32m   3141\u001b[0m             \u001b[0mdropped\u001b[0m \u001b[0;34m=\u001b[0m \u001b[0mself\u001b[0m\u001b[0;34m.\u001b[0m\u001b[0mreindex\u001b[0m\u001b[0;34m(\u001b[0m\u001b[0;34m**\u001b[0m\u001b[0;34m{\u001b[0m\u001b[0maxis_name\u001b[0m\u001b[0;34m:\u001b[0m \u001b[0mnew_axis\u001b[0m\u001b[0;34m}\u001b[0m\u001b[0;34m)\u001b[0m\u001b[0;34m\u001b[0m\u001b[0m\n\u001b[1;32m   3142\u001b[0m             \u001b[0;32mtry\u001b[0m\u001b[0;34m:\u001b[0m\u001b[0;34m\u001b[0m\u001b[0m\n",
      "\u001b[0;32m~/anaconda3/envs/fastai-latest/lib/python3.6/site-packages/pandas/core/indexes/base.py\u001b[0m in \u001b[0;36mdrop\u001b[0;34m(self, labels, errors)\u001b[0m\n\u001b[1;32m   4385\u001b[0m             \u001b[0;32mif\u001b[0m \u001b[0merrors\u001b[0m \u001b[0;34m!=\u001b[0m \u001b[0;34m'ignore'\u001b[0m\u001b[0;34m:\u001b[0m\u001b[0;34m\u001b[0m\u001b[0m\n\u001b[1;32m   4386\u001b[0m                 raise KeyError(\n\u001b[0;32m-> 4387\u001b[0;31m                     'labels %s not contained in axis' % labels[mask])\n\u001b[0m\u001b[1;32m   4388\u001b[0m             \u001b[0mindexer\u001b[0m \u001b[0;34m=\u001b[0m \u001b[0mindexer\u001b[0m\u001b[0;34m[\u001b[0m\u001b[0;34m~\u001b[0m\u001b[0mmask\u001b[0m\u001b[0;34m]\u001b[0m\u001b[0;34m\u001b[0m\u001b[0m\n\u001b[1;32m   4389\u001b[0m         \u001b[0;32mreturn\u001b[0m \u001b[0mself\u001b[0m\u001b[0;34m.\u001b[0m\u001b[0mdelete\u001b[0m\u001b[0;34m(\u001b[0m\u001b[0mindexer\u001b[0m\u001b[0;34m)\u001b[0m\u001b[0;34m\u001b[0m\u001b[0m\n",
      "\u001b[0;31mKeyError\u001b[0m: \"labels ['SK_ID_PREV'] not contained in axis\""
     ]
    }
   ],
   "source": [
    "# proc_test_df.drop(columns=[\"SK_ID_PREV\", \"SK_ID_CURR\"], inplace=True)"
   ]
  },
  {
   "cell_type": "code",
   "execution_count": 208,
   "metadata": {},
   "outputs": [],
   "source": [
    "md = ColumnarModelData.from_data_frame(\n",
    "    PATH, val_idx, proc_train_df, y.astype(np.int32), \n",
    "    cat_flds=cat_vars, bs=bs, is_reg=False, test_df=proc_test_df,\n",
    "    is_multi=False\n",
    ")"
   ]
  },
  {
   "cell_type": "code",
   "execution_count": 219,
   "metadata": {},
   "outputs": [],
   "source": [
    "m = md.get_learner(emb_szs, len(proc_train_df.columns)-len(cat_vars), 0.1, 2, [100,40], drops=[0.25, 0.20])"
   ]
  },
  {
   "cell_type": "code",
   "execution_count": 220,
   "metadata": {},
   "outputs": [
    {
     "data": {
      "application/vnd.jupyter.widget-view+json": {
       "model_id": "4cdfe65c44af4d41a7e61134c482c955",
       "version_major": 2,
       "version_minor": 0
      },
      "text/plain": [
       "HBox(children=(IntProgress(value=0, description='Epoch', max=1), HTML(value='')))"
      ]
     },
     "metadata": {},
     "output_type": "display_data"
    },
    {
     "name": "stdout",
     "output_type": "stream",
     "text": [
      "epoch      trn_loss   val_loss                               \n",
      "    0      0.966636   0.28061   \n"
     ]
    }
   ],
   "source": [
    "m.lr_find()"
   ]
  },
  {
   "cell_type": "code",
   "execution_count": 221,
   "metadata": {},
   "outputs": [
    {
     "data": {
      "image/png": "[encoded data removed]",
      "text/plain": [
       "<Figure size 432x288 with 1 Axes>"
      ]
     },
     "metadata": {},
     "output_type": "display_data"
    }
   ],
   "source": [
    "m.sched.plot()"
   ]
  },
  {
   "cell_type": "code",
   "execution_count": 222,
   "metadata": {},
   "outputs": [],
   "source": [
    "lr = 1e-2"
   ]
  },
  {
   "cell_type": "code",
   "execution_count": 223,
   "metadata": {},
   "outputs": [
    {
     "data": {
      "application/vnd.jupyter.widget-view+json": {
       "model_id": "d80f68c41fe44c5dbccf5b32bdc6f428",
       "version_major": 2,
       "version_minor": 0
      },
      "text/plain": [
       "HBox(children=(IntProgress(value=0, description='Epoch', max=2), HTML(value='')))"
      ]
     },
     "metadata": {},
     "output_type": "display_data"
    },
    {
     "name": "stdout",
     "output_type": "stream",
     "text": [
      "epoch      trn_loss   val_loss                               \n",
      "    0      0.263003   0.246755  \n",
      "    1      0.257008   0.246169                               \n"
     ]
    },
    {
     "data": {
      "text/plain": [
       "[array([0.24617])]"
      ]
     },
     "execution_count": 223,
     "metadata": {},
     "output_type": "execute_result"
    }
   ],
   "source": [
    "m.fit(lr, 1, cycle_len=2)"
   ]
  },
  {
   "cell_type": "code",
   "execution_count": 224,
   "metadata": {},
   "outputs": [
    {
     "data": {
      "application/vnd.jupyter.widget-view+json": {
       "model_id": "58c6499be6ec45bd8fe16fa7fd59ab70",
       "version_major": 2,
       "version_minor": 0
      },
      "text/plain": [
       "HBox(children=(IntProgress(value=0, description='Epoch', max=4), HTML(value='')))"
      ]
     },
     "metadata": {},
     "output_type": "display_data"
    },
    {
     "name": "stdout",
     "output_type": "stream",
     "text": [
      "epoch      trn_loss   val_loss                               \n",
      "    0      0.252524   0.245571  \n",
      "    1      0.24824    0.245056                               \n",
      "    2      0.25348    0.246266                               \n",
      "    3      0.248009   0.24446                                \n"
     ]
    },
    {
     "data": {
      "text/plain": [
       "[array([0.24446])]"
      ]
     },
     "execution_count": 224,
     "metadata": {},
     "output_type": "execute_result"
    }
   ],
   "source": [
    "m.fit(lr, 2, cycle_len=2)"
   ]
  },
  {
   "cell_type": "code",
   "execution_count": 225,
   "metadata": {
    "scrolled": true
   },
   "outputs": [
    {
     "data": {
      "application/vnd.jupyter.widget-view+json": {
       "model_id": "fa9d5181b00f444ca9b69fd17d49d6ce",
       "version_major": 2,
       "version_minor": 0
      },
      "text/plain": [
       "HBox(children=(IntProgress(value=0, description='Epoch', max=15), HTML(value='')))"
      ]
     },
     "metadata": {},
     "output_type": "display_data"
    },
    {
     "name": "stdout",
     "output_type": "stream",
     "text": [
      "epoch      trn_loss   val_loss                               \n",
      "    0      0.25331    0.24502   \n",
      "    1      0.247246   0.244089                               \n",
      "    2      0.246186   0.244269                               \n",
      "    3      0.247141   0.244732                               \n",
      "    4      0.246      0.243968                               \n",
      "    5      0.240818   0.243921                               \n",
      "    6      0.24441    0.245242                               \n",
      "    7      0.243346   0.244593                               \n",
      "    8      0.241501   0.244598                               \n",
      "    9      0.244114   0.246471                               \n",
      "    10     0.243088   0.245198                               \n",
      "    11     0.235364   0.245793                               \n",
      "    12     0.242272   0.246356                               \n",
      "    13     0.238743   0.246312                               \n",
      "    14     0.234779   0.246698                               \n"
     ]
    },
    {
     "data": {
      "text/plain": [
       "[array([0.2467])]"
      ]
     },
     "execution_count": 225,
     "metadata": {},
     "output_type": "execute_result"
    }
   ],
   "source": [
    "m.fit(lr/2, 5, wds=1e-7, cycle_len=3, best_save_name=\"best_home_default1\")"
   ]
  },
  {
   "cell_type": "code",
   "execution_count": 226,
   "metadata": {},
   "outputs": [],
   "source": [
    "m.load(name=\"best_home_default1\")"
   ]
  },
  {
   "cell_type": "code",
   "execution_count": 227,
   "metadata": {},
   "outputs": [
    {
     "data": {
      "application/vnd.jupyter.widget-view+json": {
       "model_id": "6b605242ed6f4d65a8b47b6470e1aa81",
       "version_major": 2,
       "version_minor": 0
      },
      "text/plain": [
       "HBox(children=(IntProgress(value=0, description='Epoch', max=4), HTML(value='')))"
      ]
     },
     "metadata": {},
     "output_type": "display_data"
    },
    {
     "name": "stdout",
     "output_type": "stream",
     "text": [
      "epoch      trn_loss   val_loss                               \n",
      "    0      0.239981   0.244037  \n",
      "    1      0.241336   0.244055                               \n",
      "    2      0.240314   0.244281                               \n",
      "    3      0.241573   0.244267                               \n"
     ]
    },
    {
     "data": {
      "text/plain": [
       "[array([0.24427])]"
      ]
     },
     "execution_count": 227,
     "metadata": {},
     "output_type": "execute_result"
    }
   ],
   "source": [
    "m.fit(lr/20, 2, cycle_len=2, wds=1e-7, best_save_name=\"best_home_default2\")"
   ]
  },
  {
   "cell_type": "code",
   "execution_count": 228,
   "metadata": {},
   "outputs": [],
   "source": [
    "m.load(name=\"best_home_default2\")"
   ]
  },
  {
   "cell_type": "code",
   "execution_count": 229,
   "metadata": {},
   "outputs": [
    {
     "data": {
      "application/vnd.jupyter.widget-view+json": {
       "model_id": "e014d182618246449134e42cc964f8bb",
       "version_major": 2,
       "version_minor": 0
      },
      "text/plain": [
       "HBox(children=(IntProgress(value=0, description='Epoch', max=4), HTML(value='')))"
      ]
     },
     "metadata": {},
     "output_type": "display_data"
    },
    {
     "name": "stdout",
     "output_type": "stream",
     "text": [
      "epoch      trn_loss   val_loss                               \n",
      "    0      0.240781   0.244055  \n",
      "    1      0.243797   0.244058                               \n",
      "    2      0.240715   0.244108                               \n",
      "    3      0.240419   0.244108                               \n"
     ]
    },
    {
     "data": {
      "text/plain": [
       "[array([0.24411])]"
      ]
     },
     "execution_count": 229,
     "metadata": {},
     "output_type": "execute_result"
    }
   ],
   "source": [
    "m.fit(lr/100, 2, cycle_len=2, wds=1e-7, best_save_name=\"best_home_default3\")"
   ]
  },
  {
   "cell_type": "code",
   "execution_count": 230,
   "metadata": {},
   "outputs": [],
   "source": [
    "m.load(name=\"best_home_default3\")"
   ]
  },
  {
   "cell_type": "code",
   "execution_count": 191,
   "metadata": {},
   "outputs": [
    {
     "data": {
      "application/vnd.jupyter.widget-view+json": {
       "model_id": "9b1509bab91e40ba9d567ca081c32666",
       "version_major": 2,
       "version_minor": 0
      },
      "text/plain": [
       "HBox(children=(IntProgress(value=0, description='Epoch', max=4), HTML(value='')))"
      ]
     },
     "metadata": {},
     "output_type": "display_data"
    },
    {
     "name": "stdout",
     "output_type": "stream",
     "text": [
      "epoch      trn_loss   val_loss                               \n",
      "    0      0.240971   0.243845  \n",
      "    1      0.24114    0.243841                               \n",
      "    2      0.24201    0.243893                               \n",
      "    3      0.239349   0.243892                               \n"
     ]
    },
    {
     "data": {
      "text/plain": [
       "[array([0.24389])]"
      ]
     },
     "execution_count": 191,
     "metadata": {},
     "output_type": "execute_result"
    }
   ],
   "source": [
    "m.fit(lr/200, 2, cycle_len=2, wds=1e-7, best_save_name=\"best_home_default3\")"
   ]
  },
  {
   "cell_type": "code",
   "execution_count": 231,
   "metadata": {},
   "outputs": [],
   "source": [
    "pred_test=m.predict(True)"
   ]
  },
  {
   "cell_type": "code",
   "execution_count": 232,
   "metadata": {},
   "outputs": [],
   "source": [
    "pred_test = np.exp(pred_test)"
   ]
  },
  {
   "cell_type": "code",
   "execution_count": 233,
   "metadata": {},
   "outputs": [
    {
     "data": {
      "text/plain": [
       "array([0.95233, 0.84603, 0.95668, 0.93582, 0.85727, 0.96387, 0.99033, 0.93875, 0.99291, 0.91884, 0.97441,\n",
       "       0.94762, 0.90235, 0.9617 , 0.94503, 0.90325, 0.94984, 0.98107, 0.90896, 0.94906, ..., 0.91477,\n",
       "       0.94455, 0.96792, 0.97143, 0.96396, 0.92955, 0.94011, 0.99746, 0.91922, 0.96943, 0.92687, 0.93189,\n",
       "       0.973  , 0.87605, 0.95676, 0.98473, 0.92664, 0.97337, 0.9484 , 0.78212], dtype=float32)"
      ]
     },
     "execution_count": 233,
     "metadata": {},
     "output_type": "execute_result"
    }
   ],
   "source": [
    "pred_test[:,0]"
   ]
  },
  {
   "cell_type": "code",
   "execution_count": 234,
   "metadata": {},
   "outputs": [
    {
     "data": {
      "text/plain": [
       "(array([    1.,     1.,     7.,    52.,   189.,  1019.,  1119.,  2522., 12032., 31802.]),\n",
       " array([0.22523, 0.30271, 0.38018, 0.45766, 0.53514, 0.61262, 0.69009, 0.76757, 0.84505, 0.92252, 1.     ]),\n",
       " <a list of 10 Patch objects>)"
      ]
     },
     "execution_count": 234,
     "metadata": {},
     "output_type": "execute_result"
    },
    {
     "data": {
      "image/png": "[encoded data removed]",
      "text/plain": [
       "<Figure size 432x288 with 1 Axes>"
      ]
     },
     "metadata": {},
     "output_type": "display_data"
    }
   ],
   "source": [
    "matplotlib.pyplot.hist(pred_test[:,0])"
   ]
  },
  {
   "cell_type": "code",
   "execution_count": 235,
   "metadata": {},
   "outputs": [],
   "source": [
    "application_test['TARGET']=pred_test[:,1]"
   ]
  },
  {
   "cell_type": "code",
   "execution_count": 240,
   "metadata": {},
   "outputs": [],
   "source": [
    "csv_fn=f'{PATH}/tmp/sub8.csv'"
   ]
  },
  {
   "cell_type": "code",
   "execution_count": 241,
   "metadata": {},
   "outputs": [],
   "source": [
    "application_test['SK_ID_CURR'] = application_test['SK_ID_CURR'].astype(int)"
   ]
  },
  {
   "cell_type": "code",
   "execution_count": 242,
   "metadata": {},
   "outputs": [],
   "source": [
    "application_test[['SK_ID_CURR','TARGET']].to_csv(csv_fn, index=False)"
   ]
  },
  {
   "cell_type": "code",
   "execution_count": 243,
   "metadata": {},
   "outputs": [
    {
     "data": {
      "text/html": [
       "<a href='data/tmp/sub8.csv' target='_blank'>data/tmp/sub8.csv</a><br>"
      ],
      "text/plain": [
       "/home/cheeseblubber/workspace/competition/home-default-credit/data/tmp/sub8.csv"
      ]
     },
     "execution_count": 243,
     "metadata": {},
     "output_type": "execute_result"
    }
   ],
   "source": [
    "FileLink(csv_fn)"
   ]
  },
  {
   "cell_type": "markdown",
   "metadata": {},
   "source": [
    "# More data = more overfitting??"
   ]
  },
  {
   "cell_type": "code",
   "execution_count": null,
   "metadata": {},
   "outputs": [],
   "source": []
  }
 ],
 "metadata": {
  "kernelspec": {
   "display_name": "Python 3",
   "language": "python",
   "name": "python3"
  },
  "language_info": {
   "codemirror_mode": {
    "name": "ipython",
    "version": 3
   },
   "file_extension": ".py",
   "mimetype": "text/x-python",
   "name": "python",
   "nbconvert_exporter": "python",
   "pygments_lexer": "ipython3",
   "version": "3.6.5"
  }
 },
 "nbformat": 4,
 "nbformat_minor": 2
}
