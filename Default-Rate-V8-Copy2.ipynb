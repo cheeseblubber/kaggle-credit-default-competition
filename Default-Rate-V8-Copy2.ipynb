{
 "cells": [
  {
   "cell_type": "code",
   "execution_count": 1,
   "metadata": {},
   "outputs": [],
   "source": [
    "%matplotlib inline\n",
    "%reload_ext autoreload\n",
    "%autoreload 2"
   ]
  },
  {
   "cell_type": "code",
   "execution_count": 2,
   "metadata": {},
   "outputs": [],
   "source": [
    "from fastai.structured import apply_cats, proc_df\n",
    "from fastai.column_data import *\n",
    "from sklearn.preprocessing import LabelEncoder\n",
    "import pandas as pd\n",
    "import dill as pickle\n",
    "from IPython.display import display\n",
    "\n",
    "pd.options.display.max_columns = None\n",
    "import numpy as np\n",
    "np.set_printoptions(threshold=50, edgeitems=20)\n",
    "data_path=Path('data/')\n",
    "PATH = data_path\n",
    "SK_ID_CURR = \"SK_ID_CURR\""
   ]
  },
  {
   "cell_type": "code",
   "execution_count": 3,
   "metadata": {},
   "outputs": [],
   "source": [
    "cred_card_bal = pickle.load(open('data/credit_card_balance','rb'))\n",
    "pos_cash_bal = pickle.load(open('data/POS_CASH_balance','rb'))\n",
    "prev = pickle.load(open('data/previous_application','rb'))\n",
    "bureau_bal = pickle.load(open('data/bureau_balance','rb'))\n",
    "install = pickle.load(open('data/installments_payments','rb'))\n",
    "bureau = pickle.load(open('data/bureau','rb'))\n",
    "application_train = pickle.load(open('data/application_train','rb'))\n",
    "application_test = pickle.load(open('data/application_test','rb'))"
   ]
  },
  {
   "cell_type": "code",
   "execution_count": 4,
   "metadata": {},
   "outputs": [],
   "source": [
    "merged_df = pickle.load(open('data/merged_df.pickle','rb'))"
   ]
  },
  {
   "cell_type": "code",
   "execution_count": 5,
   "metadata": {},
   "outputs": [
    {
     "data": {
      "text/plain": [
       "213"
      ]
     },
     "execution_count": 5,
     "metadata": {},
     "output_type": "execute_result"
    }
   ],
   "source": [
    "len(merged_df.columns)"
   ]
  },
  {
   "cell_type": "code",
   "execution_count": 6,
   "metadata": {
    "scrolled": true
   },
   "outputs": [
    {
     "data": {
      "text/html": [
       "<div>\n",
       "<style scoped>\n",
       "    .dataframe tbody tr th:only-of-type {\n",
       "        vertical-align: middle;\n",
       "    }\n",
       "\n",
       "    .dataframe tbody tr th {\n",
       "        vertical-align: top;\n",
       "    }\n",
       "\n",
       "    .dataframe thead th {\n",
       "        text-align: right;\n",
       "    }\n",
       "</style>\n",
       "<table border=\"1\" class=\"dataframe\">\n",
       "  <thead>\n",
       "    <tr style=\"text-align: right;\">\n",
       "      <th></th>\n",
       "      <th>SK_ID_PREV</th>\n",
       "      <th>SK_ID_CURR</th>\n",
       "      <th>NAME_CONTRACT_TYPE</th>\n",
       "      <th>AMT_ANNUITY</th>\n",
       "      <th>AMT_APPLICATION</th>\n",
       "      <th>AMT_CREDIT</th>\n",
       "      <th>AMT_DOWN_PAYMENT</th>\n",
       "      <th>AMT_GOODS_PRICE</th>\n",
       "      <th>WEEKDAY_APPR_PROCESS_START</th>\n",
       "      <th>HOUR_APPR_PROCESS_START</th>\n",
       "      <th>FLAG_LAST_APPL_PER_CONTRACT</th>\n",
       "      <th>NFLAG_LAST_APPL_IN_DAY</th>\n",
       "      <th>RATE_DOWN_PAYMENT</th>\n",
       "      <th>RATE_INTEREST_PRIMARY</th>\n",
       "      <th>RATE_INTEREST_PRIVILEGED</th>\n",
       "      <th>NAME_CASH_LOAN_PURPOSE</th>\n",
       "      <th>NAME_CONTRACT_STATUS</th>\n",
       "      <th>DAYS_DECISION</th>\n",
       "      <th>NAME_PAYMENT_TYPE</th>\n",
       "      <th>CODE_REJECT_REASON</th>\n",
       "      <th>NAME_TYPE_SUITE</th>\n",
       "      <th>NAME_CLIENT_TYPE</th>\n",
       "      <th>NAME_GOODS_CATEGORY</th>\n",
       "      <th>NAME_PORTFOLIO</th>\n",
       "      <th>NAME_PRODUCT_TYPE</th>\n",
       "      <th>CHANNEL_TYPE</th>\n",
       "      <th>SELLERPLACE_AREA</th>\n",
       "      <th>NAME_SELLER_INDUSTRY</th>\n",
       "      <th>CNT_PAYMENT</th>\n",
       "      <th>NAME_YIELD_GROUP</th>\n",
       "      <th>PRODUCT_COMBINATION</th>\n",
       "      <th>DAYS_FIRST_DRAWING</th>\n",
       "      <th>DAYS_FIRST_DUE</th>\n",
       "      <th>DAYS_LAST_DUE_1ST_VERSION</th>\n",
       "      <th>DAYS_LAST_DUE</th>\n",
       "      <th>DAYS_TERMINATION</th>\n",
       "      <th>NFLAG_INSURED_ON_APPROVAL</th>\n",
       "    </tr>\n",
       "  </thead>\n",
       "  <tbody>\n",
       "    <tr>\n",
       "      <th>1327623</th>\n",
       "      <td>1964938</td>\n",
       "      <td>156309</td>\n",
       "      <td>Cash loans</td>\n",
       "      <td>16279.335</td>\n",
       "      <td>463500.0</td>\n",
       "      <td>536917.5</td>\n",
       "      <td>NaN</td>\n",
       "      <td>463500.0</td>\n",
       "      <td>SATURDAY</td>\n",
       "      <td>8</td>\n",
       "      <td>Y</td>\n",
       "      <td>1</td>\n",
       "      <td>NaN</td>\n",
       "      <td>NaN</td>\n",
       "      <td>NaN</td>\n",
       "      <td>XNA</td>\n",
       "      <td>Refused</td>\n",
       "      <td>-397</td>\n",
       "      <td>Cash through the bank</td>\n",
       "      <td>HC</td>\n",
       "      <td>Family</td>\n",
       "      <td>Repeater</td>\n",
       "      <td>XNA</td>\n",
       "      <td>Cash</td>\n",
       "      <td>x-sell</td>\n",
       "      <td>Credit and cash offices</td>\n",
       "      <td>-1</td>\n",
       "      <td>XNA</td>\n",
       "      <td>48.0</td>\n",
       "      <td>low_action</td>\n",
       "      <td>Cash X-Sell: low</td>\n",
       "      <td>NaN</td>\n",
       "      <td>NaN</td>\n",
       "      <td>NaN</td>\n",
       "      <td>NaN</td>\n",
       "      <td>NaN</td>\n",
       "      <td>NaN</td>\n",
       "    </tr>\n",
       "    <tr>\n",
       "      <th>1145379</th>\n",
       "      <td>2176617</td>\n",
       "      <td>127659</td>\n",
       "      <td>Cash loans</td>\n",
       "      <td>40119.390</td>\n",
       "      <td>855000.0</td>\n",
       "      <td>954315.0</td>\n",
       "      <td>NaN</td>\n",
       "      <td>855000.0</td>\n",
       "      <td>MONDAY</td>\n",
       "      <td>6</td>\n",
       "      <td>Y</td>\n",
       "      <td>1</td>\n",
       "      <td>NaN</td>\n",
       "      <td>NaN</td>\n",
       "      <td>NaN</td>\n",
       "      <td>Everyday expenses</td>\n",
       "      <td>Refused</td>\n",
       "      <td>-543</td>\n",
       "      <td>Cash through the bank</td>\n",
       "      <td>VERIF</td>\n",
       "      <td>NaN</td>\n",
       "      <td>Repeater</td>\n",
       "      <td>XNA</td>\n",
       "      <td>Cash</td>\n",
       "      <td>walk-in</td>\n",
       "      <td>Credit and cash offices</td>\n",
       "      <td>-1</td>\n",
       "      <td>XNA</td>\n",
       "      <td>48.0</td>\n",
       "      <td>middle</td>\n",
       "      <td>Cash Street: middle</td>\n",
       "      <td>NaN</td>\n",
       "      <td>NaN</td>\n",
       "      <td>NaN</td>\n",
       "      <td>NaN</td>\n",
       "      <td>NaN</td>\n",
       "      <td>NaN</td>\n",
       "    </tr>\n",
       "    <tr>\n",
       "      <th>592644</th>\n",
       "      <td>1525697</td>\n",
       "      <td>319126</td>\n",
       "      <td>Consumer loans</td>\n",
       "      <td>NaN</td>\n",
       "      <td>66522.6</td>\n",
       "      <td>66522.6</td>\n",
       "      <td>0.0</td>\n",
       "      <td>66522.6</td>\n",
       "      <td>THURSDAY</td>\n",
       "      <td>11</td>\n",
       "      <td>Y</td>\n",
       "      <td>1</td>\n",
       "      <td>0.000000</td>\n",
       "      <td>NaN</td>\n",
       "      <td>NaN</td>\n",
       "      <td>XAP</td>\n",
       "      <td>Refused</td>\n",
       "      <td>-722</td>\n",
       "      <td>Cash through the bank</td>\n",
       "      <td>SCO</td>\n",
       "      <td>NaN</td>\n",
       "      <td>Repeater</td>\n",
       "      <td>Mobile</td>\n",
       "      <td>XNA</td>\n",
       "      <td>XNA</td>\n",
       "      <td>Country-wide</td>\n",
       "      <td>36</td>\n",
       "      <td>Connectivity</td>\n",
       "      <td>NaN</td>\n",
       "      <td>XNA</td>\n",
       "      <td>POS mobile with interest</td>\n",
       "      <td>NaN</td>\n",
       "      <td>NaN</td>\n",
       "      <td>NaN</td>\n",
       "      <td>NaN</td>\n",
       "      <td>NaN</td>\n",
       "      <td>NaN</td>\n",
       "    </tr>\n",
       "    <tr>\n",
       "      <th>562615</th>\n",
       "      <td>1449512</td>\n",
       "      <td>192884</td>\n",
       "      <td>Cash loans</td>\n",
       "      <td>17565.345</td>\n",
       "      <td>270000.0</td>\n",
       "      <td>321142.5</td>\n",
       "      <td>NaN</td>\n",
       "      <td>270000.0</td>\n",
       "      <td>THURSDAY</td>\n",
       "      <td>10</td>\n",
       "      <td>Y</td>\n",
       "      <td>1</td>\n",
       "      <td>NaN</td>\n",
       "      <td>NaN</td>\n",
       "      <td>NaN</td>\n",
       "      <td>XNA</td>\n",
       "      <td>Approved</td>\n",
       "      <td>-1089</td>\n",
       "      <td>Cash through the bank</td>\n",
       "      <td>XAP</td>\n",
       "      <td>Unaccompanied</td>\n",
       "      <td>Repeater</td>\n",
       "      <td>XNA</td>\n",
       "      <td>Cash</td>\n",
       "      <td>x-sell</td>\n",
       "      <td>Credit and cash offices</td>\n",
       "      <td>-1</td>\n",
       "      <td>XNA</td>\n",
       "      <td>42.0</td>\n",
       "      <td>high</td>\n",
       "      <td>Cash X-Sell: high</td>\n",
       "      <td>365243.0</td>\n",
       "      <td>-1059.0</td>\n",
       "      <td>171.0</td>\n",
       "      <td>-759.0</td>\n",
       "      <td>-749.0</td>\n",
       "      <td>1.0</td>\n",
       "    </tr>\n",
       "    <tr>\n",
       "      <th>429204</th>\n",
       "      <td>1785011</td>\n",
       "      <td>106672</td>\n",
       "      <td>Consumer loans</td>\n",
       "      <td>10781.415</td>\n",
       "      <td>71055.0</td>\n",
       "      <td>79042.5</td>\n",
       "      <td>7105.5</td>\n",
       "      <td>71055.0</td>\n",
       "      <td>SUNDAY</td>\n",
       "      <td>6</td>\n",
       "      <td>Y</td>\n",
       "      <td>1</td>\n",
       "      <td>0.089828</td>\n",
       "      <td>NaN</td>\n",
       "      <td>NaN</td>\n",
       "      <td>XAP</td>\n",
       "      <td>Approved</td>\n",
       "      <td>-1998</td>\n",
       "      <td>XNA</td>\n",
       "      <td>XAP</td>\n",
       "      <td>Family</td>\n",
       "      <td>New</td>\n",
       "      <td>Consumer Electronics</td>\n",
       "      <td>POS</td>\n",
       "      <td>XNA</td>\n",
       "      <td>Country-wide</td>\n",
       "      <td>1763</td>\n",
       "      <td>Consumer electronics</td>\n",
       "      <td>10.0</td>\n",
       "      <td>high</td>\n",
       "      <td>POS household with interest</td>\n",
       "      <td>365243.0</td>\n",
       "      <td>-1967.0</td>\n",
       "      <td>-1697.0</td>\n",
       "      <td>-1697.0</td>\n",
       "      <td>-1690.0</td>\n",
       "      <td>0.0</td>\n",
       "    </tr>\n",
       "    <tr>\n",
       "      <th>1336855</th>\n",
       "      <td>2031812</td>\n",
       "      <td>271692</td>\n",
       "      <td>Consumer loans</td>\n",
       "      <td>NaN</td>\n",
       "      <td>19305.0</td>\n",
       "      <td>19305.0</td>\n",
       "      <td>0.0</td>\n",
       "      <td>19305.0</td>\n",
       "      <td>WEDNESDAY</td>\n",
       "      <td>12</td>\n",
       "      <td>Y</td>\n",
       "      <td>1</td>\n",
       "      <td>0.000000</td>\n",
       "      <td>NaN</td>\n",
       "      <td>NaN</td>\n",
       "      <td>XAP</td>\n",
       "      <td>Unused offer</td>\n",
       "      <td>-1421</td>\n",
       "      <td>Cash through the bank</td>\n",
       "      <td>CLIENT</td>\n",
       "      <td>NaN</td>\n",
       "      <td>Repeater</td>\n",
       "      <td>Photo / Cinema Equipment</td>\n",
       "      <td>XNA</td>\n",
       "      <td>XNA</td>\n",
       "      <td>Country-wide</td>\n",
       "      <td>50</td>\n",
       "      <td>Connectivity</td>\n",
       "      <td>NaN</td>\n",
       "      <td>XNA</td>\n",
       "      <td>POS mobile with interest</td>\n",
       "      <td>NaN</td>\n",
       "      <td>NaN</td>\n",
       "      <td>NaN</td>\n",
       "      <td>NaN</td>\n",
       "      <td>NaN</td>\n",
       "      <td>NaN</td>\n",
       "    </tr>\n",
       "    <tr>\n",
       "      <th>241980</th>\n",
       "      <td>1316937</td>\n",
       "      <td>283272</td>\n",
       "      <td>Revolving loans</td>\n",
       "      <td>9000.000</td>\n",
       "      <td>0.0</td>\n",
       "      <td>180000.0</td>\n",
       "      <td>NaN</td>\n",
       "      <td>NaN</td>\n",
       "      <td>MONDAY</td>\n",
       "      <td>10</td>\n",
       "      <td>Y</td>\n",
       "      <td>1</td>\n",
       "      <td>NaN</td>\n",
       "      <td>NaN</td>\n",
       "      <td>NaN</td>\n",
       "      <td>XAP</td>\n",
       "      <td>Approved</td>\n",
       "      <td>-2824</td>\n",
       "      <td>XNA</td>\n",
       "      <td>XAP</td>\n",
       "      <td>NaN</td>\n",
       "      <td>Repeater</td>\n",
       "      <td>XNA</td>\n",
       "      <td>Cards</td>\n",
       "      <td>x-sell</td>\n",
       "      <td>Country-wide</td>\n",
       "      <td>519</td>\n",
       "      <td>Consumer electronics</td>\n",
       "      <td>0.0</td>\n",
       "      <td>XNA</td>\n",
       "      <td>Card Street</td>\n",
       "      <td>-2810.0</td>\n",
       "      <td>-2773.0</td>\n",
       "      <td>365243.0</td>\n",
       "      <td>-1983.0</td>\n",
       "      <td>365243.0</td>\n",
       "      <td>0.0</td>\n",
       "    </tr>\n",
       "    <tr>\n",
       "      <th>925430</th>\n",
       "      <td>2339794</td>\n",
       "      <td>179294</td>\n",
       "      <td>Cash loans</td>\n",
       "      <td>6024.600</td>\n",
       "      <td>45000.0</td>\n",
       "      <td>54580.5</td>\n",
       "      <td>NaN</td>\n",
       "      <td>45000.0</td>\n",
       "      <td>THURSDAY</td>\n",
       "      <td>14</td>\n",
       "      <td>Y</td>\n",
       "      <td>1</td>\n",
       "      <td>NaN</td>\n",
       "      <td>NaN</td>\n",
       "      <td>NaN</td>\n",
       "      <td>XNA</td>\n",
       "      <td>Approved</td>\n",
       "      <td>-545</td>\n",
       "      <td>Cash through the bank</td>\n",
       "      <td>XAP</td>\n",
       "      <td>NaN</td>\n",
       "      <td>Refreshed</td>\n",
       "      <td>XNA</td>\n",
       "      <td>Cash</td>\n",
       "      <td>x-sell</td>\n",
       "      <td>Credit and cash offices</td>\n",
       "      <td>-1</td>\n",
       "      <td>XNA</td>\n",
       "      <td>12.0</td>\n",
       "      <td>high</td>\n",
       "      <td>Cash X-Sell: high</td>\n",
       "      <td>365243.0</td>\n",
       "      <td>-515.0</td>\n",
       "      <td>-185.0</td>\n",
       "      <td>-245.0</td>\n",
       "      <td>-240.0</td>\n",
       "      <td>1.0</td>\n",
       "    </tr>\n",
       "    <tr>\n",
       "      <th>893665</th>\n",
       "      <td>1538594</td>\n",
       "      <td>419752</td>\n",
       "      <td>Consumer loans</td>\n",
       "      <td>1068.930</td>\n",
       "      <td>20808.0</td>\n",
       "      <td>20808.0</td>\n",
       "      <td>0.0</td>\n",
       "      <td>20808.0</td>\n",
       "      <td>TUESDAY</td>\n",
       "      <td>18</td>\n",
       "      <td>Y</td>\n",
       "      <td>1</td>\n",
       "      <td>0.000000</td>\n",
       "      <td>NaN</td>\n",
       "      <td>NaN</td>\n",
       "      <td>XAP</td>\n",
       "      <td>Approved</td>\n",
       "      <td>-1522</td>\n",
       "      <td>Cash through the bank</td>\n",
       "      <td>XAP</td>\n",
       "      <td>Unaccompanied</td>\n",
       "      <td>Repeater</td>\n",
       "      <td>Photo / Cinema Equipment</td>\n",
       "      <td>POS</td>\n",
       "      <td>XNA</td>\n",
       "      <td>Country-wide</td>\n",
       "      <td>500</td>\n",
       "      <td>Consumer electronics</td>\n",
       "      <td>24.0</td>\n",
       "      <td>low_action</td>\n",
       "      <td>POS household without interest</td>\n",
       "      <td>365243.0</td>\n",
       "      <td>-1491.0</td>\n",
       "      <td>-801.0</td>\n",
       "      <td>-1371.0</td>\n",
       "      <td>-1362.0</td>\n",
       "      <td>0.0</td>\n",
       "    </tr>\n",
       "    <tr>\n",
       "      <th>1270877</th>\n",
       "      <td>1034897</td>\n",
       "      <td>203180</td>\n",
       "      <td>Consumer loans</td>\n",
       "      <td>3976.650</td>\n",
       "      <td>20650.5</td>\n",
       "      <td>19503.0</td>\n",
       "      <td>2065.5</td>\n",
       "      <td>20650.5</td>\n",
       "      <td>SATURDAY</td>\n",
       "      <td>16</td>\n",
       "      <td>Y</td>\n",
       "      <td>1</td>\n",
       "      <td>0.104296</td>\n",
       "      <td>NaN</td>\n",
       "      <td>NaN</td>\n",
       "      <td>XAP</td>\n",
       "      <td>Approved</td>\n",
       "      <td>-2232</td>\n",
       "      <td>Cash through the bank</td>\n",
       "      <td>XAP</td>\n",
       "      <td>NaN</td>\n",
       "      <td>Repeater</td>\n",
       "      <td>Photo / Cinema Equipment</td>\n",
       "      <td>POS</td>\n",
       "      <td>XNA</td>\n",
       "      <td>Country-wide</td>\n",
       "      <td>20</td>\n",
       "      <td>Connectivity</td>\n",
       "      <td>6.0</td>\n",
       "      <td>high</td>\n",
       "      <td>POS mobile with interest</td>\n",
       "      <td>365243.0</td>\n",
       "      <td>-2177.0</td>\n",
       "      <td>-2027.0</td>\n",
       "      <td>-2027.0</td>\n",
       "      <td>-1909.0</td>\n",
       "      <td>0.0</td>\n",
       "    </tr>\n",
       "  </tbody>\n",
       "</table>\n",
       "</div>"
      ],
      "text/plain": [
       "         SK_ID_PREV  SK_ID_CURR NAME_CONTRACT_TYPE  AMT_ANNUITY  \\\n",
       "1327623     1964938      156309         Cash loans    16279.335   \n",
       "1145379     2176617      127659         Cash loans    40119.390   \n",
       "592644      1525697      319126     Consumer loans          NaN   \n",
       "562615      1449512      192884         Cash loans    17565.345   \n",
       "429204      1785011      106672     Consumer loans    10781.415   \n",
       "1336855     2031812      271692     Consumer loans          NaN   \n",
       "241980      1316937      283272    Revolving loans     9000.000   \n",
       "925430      2339794      179294         Cash loans     6024.600   \n",
       "893665      1538594      419752     Consumer loans     1068.930   \n",
       "1270877     1034897      203180     Consumer loans     3976.650   \n",
       "\n",
       "         AMT_APPLICATION  AMT_CREDIT  AMT_DOWN_PAYMENT  AMT_GOODS_PRICE  \\\n",
       "1327623         463500.0    536917.5               NaN         463500.0   \n",
       "1145379         855000.0    954315.0               NaN         855000.0   \n",
       "592644           66522.6     66522.6               0.0          66522.6   \n",
       "562615          270000.0    321142.5               NaN         270000.0   \n",
       "429204           71055.0     79042.5            7105.5          71055.0   \n",
       "1336855          19305.0     19305.0               0.0          19305.0   \n",
       "241980               0.0    180000.0               NaN              NaN   \n",
       "925430           45000.0     54580.5               NaN          45000.0   \n",
       "893665           20808.0     20808.0               0.0          20808.0   \n",
       "1270877          20650.5     19503.0            2065.5          20650.5   \n",
       "\n",
       "        WEEKDAY_APPR_PROCESS_START  HOUR_APPR_PROCESS_START  \\\n",
       "1327623                   SATURDAY                        8   \n",
       "1145379                     MONDAY                        6   \n",
       "592644                    THURSDAY                       11   \n",
       "562615                    THURSDAY                       10   \n",
       "429204                      SUNDAY                        6   \n",
       "1336855                  WEDNESDAY                       12   \n",
       "241980                      MONDAY                       10   \n",
       "925430                    THURSDAY                       14   \n",
       "893665                     TUESDAY                       18   \n",
       "1270877                   SATURDAY                       16   \n",
       "\n",
       "        FLAG_LAST_APPL_PER_CONTRACT  NFLAG_LAST_APPL_IN_DAY  \\\n",
       "1327623                           Y                       1   \n",
       "1145379                           Y                       1   \n",
       "592644                            Y                       1   \n",
       "562615                            Y                       1   \n",
       "429204                            Y                       1   \n",
       "1336855                           Y                       1   \n",
       "241980                            Y                       1   \n",
       "925430                            Y                       1   \n",
       "893665                            Y                       1   \n",
       "1270877                           Y                       1   \n",
       "\n",
       "         RATE_DOWN_PAYMENT  RATE_INTEREST_PRIMARY  RATE_INTEREST_PRIVILEGED  \\\n",
       "1327623                NaN                    NaN                       NaN   \n",
       "1145379                NaN                    NaN                       NaN   \n",
       "592644            0.000000                    NaN                       NaN   \n",
       "562615                 NaN                    NaN                       NaN   \n",
       "429204            0.089828                    NaN                       NaN   \n",
       "1336855           0.000000                    NaN                       NaN   \n",
       "241980                 NaN                    NaN                       NaN   \n",
       "925430                 NaN                    NaN                       NaN   \n",
       "893665            0.000000                    NaN                       NaN   \n",
       "1270877           0.104296                    NaN                       NaN   \n",
       "\n",
       "        NAME_CASH_LOAN_PURPOSE NAME_CONTRACT_STATUS  DAYS_DECISION  \\\n",
       "1327623                    XNA              Refused           -397   \n",
       "1145379      Everyday expenses              Refused           -543   \n",
       "592644                     XAP              Refused           -722   \n",
       "562615                     XNA             Approved          -1089   \n",
       "429204                     XAP             Approved          -1998   \n",
       "1336855                    XAP         Unused offer          -1421   \n",
       "241980                     XAP             Approved          -2824   \n",
       "925430                     XNA             Approved           -545   \n",
       "893665                     XAP             Approved          -1522   \n",
       "1270877                    XAP             Approved          -2232   \n",
       "\n",
       "             NAME_PAYMENT_TYPE CODE_REJECT_REASON NAME_TYPE_SUITE  \\\n",
       "1327623  Cash through the bank                 HC          Family   \n",
       "1145379  Cash through the bank              VERIF             NaN   \n",
       "592644   Cash through the bank                SCO             NaN   \n",
       "562615   Cash through the bank                XAP   Unaccompanied   \n",
       "429204                     XNA                XAP          Family   \n",
       "1336855  Cash through the bank             CLIENT             NaN   \n",
       "241980                     XNA                XAP             NaN   \n",
       "925430   Cash through the bank                XAP             NaN   \n",
       "893665   Cash through the bank                XAP   Unaccompanied   \n",
       "1270877  Cash through the bank                XAP             NaN   \n",
       "\n",
       "        NAME_CLIENT_TYPE       NAME_GOODS_CATEGORY NAME_PORTFOLIO  \\\n",
       "1327623         Repeater                       XNA           Cash   \n",
       "1145379         Repeater                       XNA           Cash   \n",
       "592644          Repeater                    Mobile            XNA   \n",
       "562615          Repeater                       XNA           Cash   \n",
       "429204               New      Consumer Electronics            POS   \n",
       "1336855         Repeater  Photo / Cinema Equipment            XNA   \n",
       "241980          Repeater                       XNA          Cards   \n",
       "925430         Refreshed                       XNA           Cash   \n",
       "893665          Repeater  Photo / Cinema Equipment            POS   \n",
       "1270877         Repeater  Photo / Cinema Equipment            POS   \n",
       "\n",
       "        NAME_PRODUCT_TYPE             CHANNEL_TYPE  SELLERPLACE_AREA  \\\n",
       "1327623            x-sell  Credit and cash offices                -1   \n",
       "1145379           walk-in  Credit and cash offices                -1   \n",
       "592644                XNA             Country-wide                36   \n",
       "562615             x-sell  Credit and cash offices                -1   \n",
       "429204                XNA             Country-wide              1763   \n",
       "1336855               XNA             Country-wide                50   \n",
       "241980             x-sell             Country-wide               519   \n",
       "925430             x-sell  Credit and cash offices                -1   \n",
       "893665                XNA             Country-wide               500   \n",
       "1270877               XNA             Country-wide                20   \n",
       "\n",
       "         NAME_SELLER_INDUSTRY  CNT_PAYMENT NAME_YIELD_GROUP  \\\n",
       "1327623                   XNA         48.0       low_action   \n",
       "1145379                   XNA         48.0           middle   \n",
       "592644           Connectivity          NaN              XNA   \n",
       "562615                    XNA         42.0             high   \n",
       "429204   Consumer electronics         10.0             high   \n",
       "1336855          Connectivity          NaN              XNA   \n",
       "241980   Consumer electronics          0.0              XNA   \n",
       "925430                    XNA         12.0             high   \n",
       "893665   Consumer electronics         24.0       low_action   \n",
       "1270877          Connectivity          6.0             high   \n",
       "\n",
       "                    PRODUCT_COMBINATION  DAYS_FIRST_DRAWING  DAYS_FIRST_DUE  \\\n",
       "1327623                Cash X-Sell: low                 NaN             NaN   \n",
       "1145379             Cash Street: middle                 NaN             NaN   \n",
       "592644         POS mobile with interest                 NaN             NaN   \n",
       "562615                Cash X-Sell: high            365243.0         -1059.0   \n",
       "429204      POS household with interest            365243.0         -1967.0   \n",
       "1336855        POS mobile with interest                 NaN             NaN   \n",
       "241980                      Card Street             -2810.0         -2773.0   \n",
       "925430                Cash X-Sell: high            365243.0          -515.0   \n",
       "893665   POS household without interest            365243.0         -1491.0   \n",
       "1270877        POS mobile with interest            365243.0         -2177.0   \n",
       "\n",
       "         DAYS_LAST_DUE_1ST_VERSION  DAYS_LAST_DUE  DAYS_TERMINATION  \\\n",
       "1327623                        NaN            NaN               NaN   \n",
       "1145379                        NaN            NaN               NaN   \n",
       "592644                         NaN            NaN               NaN   \n",
       "562615                       171.0         -759.0            -749.0   \n",
       "429204                     -1697.0        -1697.0           -1690.0   \n",
       "1336855                        NaN            NaN               NaN   \n",
       "241980                    365243.0        -1983.0          365243.0   \n",
       "925430                      -185.0         -245.0            -240.0   \n",
       "893665                      -801.0        -1371.0           -1362.0   \n",
       "1270877                    -2027.0        -2027.0           -1909.0   \n",
       "\n",
       "         NFLAG_INSURED_ON_APPROVAL  \n",
       "1327623                        NaN  \n",
       "1145379                        NaN  \n",
       "592644                         NaN  \n",
       "562615                         1.0  \n",
       "429204                         0.0  \n",
       "1336855                        NaN  \n",
       "241980                         0.0  \n",
       "925430                         1.0  \n",
       "893665                         0.0  \n",
       "1270877                        0.0  "
      ]
     },
     "execution_count": 6,
     "metadata": {},
     "output_type": "execute_result"
    }
   ],
   "source": [
    "prev.sample(10)"
   ]
  },
  {
   "cell_type": "code",
   "execution_count": 7,
   "metadata": {},
   "outputs": [],
   "source": [
    "def most_recent_sk_id(curr_sk_id):\n",
    "    columns = prev[prev[\"SK_ID_CURR\"] == curr_sk_id]\n",
    "    most_recent_loan = columns[columns[\"DAYS_DECISION\"] == max(columns[\"DAYS_DECISION\"])]\n",
    "    recent_prev_sk_id = list(most_recent_loan[\"SK_ID_PREV\"])[0]\n",
    "    return recent_prev_sk_id"
   ]
  },
  {
   "cell_type": "code",
   "execution_count": 8,
   "metadata": {},
   "outputs": [],
   "source": [
    "largest_idx = prev.groupby([\"SK_ID_CURR\"], sort=False)['DAYS_DECISION'].idxmax()"
   ]
  },
  {
   "cell_type": "code",
   "execution_count": 9,
   "metadata": {},
   "outputs": [],
   "source": [
    "def get_most_recent(prev_df):\n",
    "    largest_idx = prev_df.groupby([\"SK_ID_CURR\"], sort=False)['DAYS_DECISION'].idxmax()\n",
    "    return prev_df[prev_df.index.isin(largest_idx.values)]"
   ]
  },
  {
   "cell_type": "code",
   "execution_count": 10,
   "metadata": {},
   "outputs": [],
   "source": [
    "most_recent = get_most_recent(prev)"
   ]
  },
  {
   "cell_type": "code",
   "execution_count": 11,
   "metadata": {
    "scrolled": true
   },
   "outputs": [
    {
     "data": {
      "text/plain": [
       "338857"
      ]
     },
     "execution_count": 11,
     "metadata": {},
     "output_type": "execute_result"
    }
   ],
   "source": [
    "len(most_recent)"
   ]
  },
  {
   "cell_type": "code",
   "execution_count": 12,
   "metadata": {},
   "outputs": [],
   "source": [
    "joined_df = pd.merge(merged_df, most_recent, how='left', on=['SK_ID_CURR'], suffixes=[\"\", \"_add_1\"])"
   ]
  },
  {
   "cell_type": "code",
   "execution_count": 13,
   "metadata": {},
   "outputs": [
    {
     "data": {
      "text/plain": [
       "356255"
      ]
     },
     "execution_count": 13,
     "metadata": {},
     "output_type": "execute_result"
    }
   ],
   "source": [
    "len(joined_df)"
   ]
  },
  {
   "cell_type": "code",
   "execution_count": 14,
   "metadata": {},
   "outputs": [],
   "source": [
    "train_df = joined_df.loc[joined_df[SK_ID_CURR].isin(application_train[SK_ID_CURR])]"
   ]
  },
  {
   "cell_type": "code",
   "execution_count": 15,
   "metadata": {},
   "outputs": [],
   "source": [
    "test_df = joined_df.loc[joined_df[SK_ID_CURR].isin(application_test[SK_ID_CURR])]"
   ]
  },
  {
   "cell_type": "code",
   "execution_count": 16,
   "metadata": {},
   "outputs": [],
   "source": [
    "assert(len(train_df) == len(application_train))"
   ]
  },
  {
   "cell_type": "code",
   "execution_count": 17,
   "metadata": {},
   "outputs": [],
   "source": [
    "assert(len(test_df) == len(application_test))"
   ]
  },
  {
   "cell_type": "code",
   "execution_count": 18,
   "metadata": {},
   "outputs": [
    {
     "data": {
      "text/plain": [
       "249"
      ]
     },
     "execution_count": 18,
     "metadata": {},
     "output_type": "execute_result"
    }
   ],
   "source": [
    "len(train_df.columns)"
   ]
  },
  {
   "cell_type": "code",
   "execution_count": 19,
   "metadata": {},
   "outputs": [],
   "source": [
    "samp_size = len(train_df)"
   ]
  },
  {
   "cell_type": "code",
   "execution_count": 20,
   "metadata": {},
   "outputs": [],
   "source": [
    "train_ratio  = 0.75\n",
    "train_size = int(samp_size * train_ratio); train_size\n",
    "val_idx = list(range(train_size, len(train_df)))"
   ]
  },
  {
   "cell_type": "code",
   "execution_count": 21,
   "metadata": {
    "scrolled": true
   },
   "outputs": [
    {
     "data": {
      "text/plain": [
       "[230633,\n",
       " 230634,\n",
       " 230635,\n",
       " 230636,\n",
       " 230637,\n",
       " 230638,\n",
       " 230639,\n",
       " 230640,\n",
       " 230641,\n",
       " 230642]"
      ]
     },
     "execution_count": 21,
     "metadata": {},
     "output_type": "execute_result"
    }
   ],
   "source": [
    "val_idx[:10]"
   ]
  },
  {
   "cell_type": "code",
   "execution_count": 22,
   "metadata": {},
   "outputs": [],
   "source": [
    "column_type_map = joined_df.columns.to_series().groupby(joined_df.dtypes).groups"
   ]
  },
  {
   "cell_type": "code",
   "execution_count": 23,
   "metadata": {},
   "outputs": [],
   "source": [
    "dtype_int64, dtype_float64, dtype_o = column_type_map.keys()"
   ]
  },
  {
   "cell_type": "code",
   "execution_count": 24,
   "metadata": {},
   "outputs": [
    {
     "data": {
      "text/plain": [
       "Index(['CNT_CHILDREN', 'DAYS_BIRTH', 'DAYS_EMPLOYED', 'DAYS_ID_PUBLISH',\n",
       "       'FLAG_CONT_MOBILE', 'FLAG_DOCUMENT_10', 'FLAG_DOCUMENT_11',\n",
       "       'FLAG_DOCUMENT_12', 'FLAG_DOCUMENT_13', 'FLAG_DOCUMENT_14',\n",
       "       'FLAG_DOCUMENT_15', 'FLAG_DOCUMENT_16', 'FLAG_DOCUMENT_17',\n",
       "       'FLAG_DOCUMENT_18', 'FLAG_DOCUMENT_19', 'FLAG_DOCUMENT_2',\n",
       "       'FLAG_DOCUMENT_20', 'FLAG_DOCUMENT_21', 'FLAG_DOCUMENT_3',\n",
       "       'FLAG_DOCUMENT_4', 'FLAG_DOCUMENT_5', 'FLAG_DOCUMENT_6',\n",
       "       'FLAG_DOCUMENT_7', 'FLAG_DOCUMENT_8', 'FLAG_DOCUMENT_9', 'FLAG_EMAIL',\n",
       "       'FLAG_EMP_PHONE', 'FLAG_MOBIL', 'FLAG_PHONE', 'FLAG_WORK_PHONE',\n",
       "       'HOUR_APPR_PROCESS_START', 'LIVE_CITY_NOT_WORK_CITY',\n",
       "       'LIVE_REGION_NOT_WORK_REGION', 'REGION_RATING_CLIENT',\n",
       "       'REGION_RATING_CLIENT_W_CITY', 'REG_CITY_NOT_LIVE_CITY',\n",
       "       'REG_CITY_NOT_WORK_CITY', 'REG_REGION_NOT_LIVE_REGION',\n",
       "       'REG_REGION_NOT_WORK_REGION', 'SK_ID_CURR'],\n",
       "      dtype='object')"
      ]
     },
     "execution_count": 24,
     "metadata": {},
     "output_type": "execute_result"
    }
   ],
   "source": [
    "column_type_map[dtype_int64]"
   ]
  },
  {
   "cell_type": "code",
   "execution_count": 25,
   "metadata": {},
   "outputs": [
    {
     "data": {
      "text/plain": [
       "Index(['CODE_GENDER', 'EMERGENCYSTATE_MODE', 'FLAG_OWN_CAR', 'FLAG_OWN_REALTY',\n",
       "       'FONDKAPREMONT_MODE', 'HOUSETYPE_MODE', 'NAME_CONTRACT_TYPE',\n",
       "       'NAME_EDUCATION_TYPE', 'NAME_FAMILY_STATUS', 'NAME_HOUSING_TYPE',\n",
       "       'NAME_INCOME_TYPE', 'NAME_TYPE_SUITE', 'OCCUPATION_TYPE',\n",
       "       'ORGANIZATION_TYPE', 'WALLSMATERIAL_MODE', 'WEEKDAY_APPR_PROCESS_START',\n",
       "       'NAME_CONTRACT_TYPE_BAVG', 'WEEKDAY_APPR_PROCESS_START_BAVG',\n",
       "       'FLAG_LAST_APPL_PER_CONTRACT', 'NAME_CASH_LOAN_PURPOSE',\n",
       "       'NAME_CONTRACT_STATUS', 'NAME_PAYMENT_TYPE', 'CODE_REJECT_REASON',\n",
       "       'NAME_TYPE_SUITE_BAVG', 'NAME_CLIENT_TYPE', 'NAME_GOODS_CATEGORY',\n",
       "       'NAME_PORTFOLIO', 'NAME_PRODUCT_TYPE', 'CHANNEL_TYPE',\n",
       "       'NAME_SELLER_INDUSTRY', 'NAME_YIELD_GROUP', 'PRODUCT_COMBINATION',\n",
       "       'NAME_CONTRACT_STATUS_CCAVG', 'STATUS', 'NAME_CONTRACT_STATUS_CAVG',\n",
       "       'NAME_CONTRACT_TYPE_add_1', 'WEEKDAY_APPR_PROCESS_START_add_1',\n",
       "       'FLAG_LAST_APPL_PER_CONTRACT_add_1', 'NAME_CASH_LOAN_PURPOSE_add_1',\n",
       "       'NAME_CONTRACT_STATUS_add_1', 'NAME_PAYMENT_TYPE_add_1',\n",
       "       'CODE_REJECT_REASON_add_1', 'NAME_TYPE_SUITE_add_1',\n",
       "       'NAME_CLIENT_TYPE_add_1', 'NAME_GOODS_CATEGORY_add_1',\n",
       "       'NAME_PORTFOLIO_add_1', 'NAME_PRODUCT_TYPE_add_1', 'CHANNEL_TYPE_add_1',\n",
       "       'NAME_SELLER_INDUSTRY_add_1', 'NAME_YIELD_GROUP_add_1',\n",
       "       'PRODUCT_COMBINATION_add_1'],\n",
       "      dtype='object')"
      ]
     },
     "execution_count": 25,
     "metadata": {},
     "output_type": "execute_result"
    }
   ],
   "source": [
    "column_type_map[dtype_o]"
   ]
  },
  {
   "cell_type": "code",
   "execution_count": 26,
   "metadata": {},
   "outputs": [],
   "source": [
    "cat_vars  = list(set(column_type_map[dtype_int64])) + list(set(column_type_map[dtype_o]))"
   ]
  },
  {
   "cell_type": "code",
   "execution_count": 27,
   "metadata": {},
   "outputs": [],
   "source": [
    "days = []\n",
    "for var in cat_vars:\n",
    "    if \"DAYS\" in var:\n",
    "        days.append(var)"
   ]
  },
  {
   "cell_type": "code",
   "execution_count": 28,
   "metadata": {},
   "outputs": [],
   "source": [
    "not_cat = [\"SK_ID_CURR\"] + days"
   ]
  },
  {
   "cell_type": "code",
   "execution_count": 29,
   "metadata": {},
   "outputs": [
    {
     "data": {
      "text/plain": [
       "['SK_ID_CURR', 'DAYS_BIRTH', 'DAYS_EMPLOYED', 'DAYS_ID_PUBLISH']"
      ]
     },
     "execution_count": 29,
     "metadata": {},
     "output_type": "execute_result"
    }
   ],
   "source": [
    "not_cat"
   ]
  },
  {
   "cell_type": "code",
   "execution_count": 30,
   "metadata": {},
   "outputs": [
    {
     "data": {
      "text/plain": [
       "['SK_ID_CURR', 'DAYS_BIRTH', 'DAYS_EMPLOYED', 'DAYS_ID_PUBLISH']"
      ]
     },
     "execution_count": 30,
     "metadata": {},
     "output_type": "execute_result"
    }
   ],
   "source": [
    "not_cat"
   ]
  },
  {
   "cell_type": "code",
   "execution_count": 31,
   "metadata": {},
   "outputs": [],
   "source": [
    "# train_df[\"SK_ID_CURR\"] = train_df[\"SK_ID_CURR\"].astype(\"int64\")"
   ]
  },
  {
   "cell_type": "code",
   "execution_count": 32,
   "metadata": {},
   "outputs": [],
   "source": [
    "# test_df[\"SK_ID_CURR\"] = train_df[\"SK_ID_CURR\"].astype(\"int64\")"
   ]
  },
  {
   "cell_type": "code",
   "execution_count": 33,
   "metadata": {},
   "outputs": [],
   "source": [
    "cat_vars = list(set(cat_vars) - set(not_cat))"
   ]
  },
  {
   "cell_type": "code",
   "execution_count": 34,
   "metadata": {},
   "outputs": [],
   "source": [
    "cat_vars = list(set(cat_vars) - set(days))"
   ]
  },
  {
   "cell_type": "code",
   "execution_count": 35,
   "metadata": {
    "scrolled": true
   },
   "outputs": [
    {
     "data": {
      "text/plain": [
       "['FLAG_OWN_REALTY',\n",
       " 'FLAG_EMP_PHONE',\n",
       " 'EMERGENCYSTATE_MODE',\n",
       " 'WEEKDAY_APPR_PROCESS_START_BAVG',\n",
       " 'WEEKDAY_APPR_PROCESS_START',\n",
       " 'HOUSETYPE_MODE',\n",
       " 'OCCUPATION_TYPE',\n",
       " 'FONDKAPREMONT_MODE',\n",
       " 'NAME_TYPE_SUITE_add_1',\n",
       " 'FLAG_DOCUMENT_10',\n",
       " 'NAME_CASH_LOAN_PURPOSE_add_1',\n",
       " 'FLAG_LAST_APPL_PER_CONTRACT',\n",
       " 'CHANNEL_TYPE',\n",
       " 'FLAG_DOCUMENT_21',\n",
       " 'CNT_CHILDREN',\n",
       " 'CODE_REJECT_REASON',\n",
       " 'NAME_CLIENT_TYPE',\n",
       " 'REG_REGION_NOT_LIVE_REGION',\n",
       " 'CODE_REJECT_REASON_add_1',\n",
       " 'NAME_CONTRACT_STATUS',\n",
       " 'REG_CITY_NOT_LIVE_CITY',\n",
       " 'FLAG_MOBIL',\n",
       " 'FLAG_DOCUMENT_18',\n",
       " 'WEEKDAY_APPR_PROCESS_START_add_1',\n",
       " 'WALLSMATERIAL_MODE',\n",
       " 'HOUR_APPR_PROCESS_START',\n",
       " 'FLAG_DOCUMENT_6',\n",
       " 'REGION_RATING_CLIENT',\n",
       " 'CHANNEL_TYPE_add_1',\n",
       " 'LIVE_CITY_NOT_WORK_CITY',\n",
       " 'NAME_CONTRACT_STATUS_CCAVG',\n",
       " 'FLAG_OWN_CAR',\n",
       " 'NAME_PAYMENT_TYPE_add_1',\n",
       " 'FLAG_LAST_APPL_PER_CONTRACT_add_1',\n",
       " 'FLAG_WORK_PHONE',\n",
       " 'FLAG_DOCUMENT_13',\n",
       " 'NAME_SELLER_INDUSTRY_add_1',\n",
       " 'NAME_PORTFOLIO',\n",
       " 'CODE_GENDER',\n",
       " 'STATUS',\n",
       " 'NAME_CONTRACT_TYPE_add_1',\n",
       " 'NAME_EDUCATION_TYPE',\n",
       " 'ORGANIZATION_TYPE',\n",
       " 'FLAG_PHONE',\n",
       " 'NAME_YIELD_GROUP',\n",
       " 'REG_CITY_NOT_WORK_CITY',\n",
       " 'NAME_TYPE_SUITE_BAVG',\n",
       " 'FLAG_DOCUMENT_7',\n",
       " 'FLAG_DOCUMENT_12',\n",
       " 'REGION_RATING_CLIENT_W_CITY',\n",
       " 'FLAG_EMAIL',\n",
       " 'NAME_CONTRACT_TYPE_BAVG',\n",
       " 'NAME_INCOME_TYPE',\n",
       " 'FLAG_DOCUMENT_5',\n",
       " 'NAME_PAYMENT_TYPE',\n",
       " 'NAME_CONTRACT_STATUS_CAVG',\n",
       " 'FLAG_DOCUMENT_17',\n",
       " 'FLAG_DOCUMENT_19',\n",
       " 'NAME_SELLER_INDUSTRY',\n",
       " 'REG_REGION_NOT_WORK_REGION',\n",
       " 'NAME_PRODUCT_TYPE_add_1',\n",
       " 'NAME_FAMILY_STATUS',\n",
       " 'NAME_PRODUCT_TYPE',\n",
       " 'FLAG_DOCUMENT_15',\n",
       " 'FLAG_DOCUMENT_8',\n",
       " 'LIVE_REGION_NOT_WORK_REGION',\n",
       " 'FLAG_CONT_MOBILE',\n",
       " 'FLAG_DOCUMENT_3',\n",
       " 'NAME_TYPE_SUITE',\n",
       " 'NAME_CASH_LOAN_PURPOSE',\n",
       " 'PRODUCT_COMBINATION_add_1',\n",
       " 'NAME_PORTFOLIO_add_1',\n",
       " 'NAME_CONTRACT_STATUS_add_1',\n",
       " 'FLAG_DOCUMENT_4',\n",
       " 'PRODUCT_COMBINATION',\n",
       " 'NAME_GOODS_CATEGORY',\n",
       " 'NAME_CONTRACT_TYPE',\n",
       " 'NAME_YIELD_GROUP_add_1',\n",
       " 'FLAG_DOCUMENT_16',\n",
       " 'NAME_HOUSING_TYPE',\n",
       " 'FLAG_DOCUMENT_11',\n",
       " 'FLAG_DOCUMENT_2',\n",
       " 'NAME_GOODS_CATEGORY_add_1',\n",
       " 'FLAG_DOCUMENT_14',\n",
       " 'NAME_CLIENT_TYPE_add_1',\n",
       " 'FLAG_DOCUMENT_20',\n",
       " 'FLAG_DOCUMENT_9']"
      ]
     },
     "execution_count": 35,
     "metadata": {},
     "output_type": "execute_result"
    }
   ],
   "source": [
    "cat_vars"
   ]
  },
  {
   "cell_type": "code",
   "execution_count": 36,
   "metadata": {},
   "outputs": [],
   "source": [
    "contin_vars = list(set(column_type_map[dtype_float64])) + not_cat"
   ]
  },
  {
   "cell_type": "code",
   "execution_count": 37,
   "metadata": {},
   "outputs": [
    {
     "data": {
      "text/plain": [
       "['SK_ID_CURR', 'DAYS_BIRTH', 'DAYS_EMPLOYED', 'DAYS_ID_PUBLISH']"
      ]
     },
     "execution_count": 37,
     "metadata": {},
     "output_type": "execute_result"
    }
   ],
   "source": [
    "not_cat"
   ]
  },
  {
   "cell_type": "code",
   "execution_count": 38,
   "metadata": {},
   "outputs": [
    {
     "data": {
      "text/plain": [
       "['LIVINGAPARTMENTS_MODE',\n",
       " 'AMT_CREDIT_PAVG',\n",
       " 'APARTMENTS_MODE',\n",
       " 'FLOORSMIN_AVG',\n",
       " 'AMT_BALANCE',\n",
       " 'PREV APP COUNT',\n",
       " 'DAYS_ENDDATE_FACT',\n",
       " 'HOUR_APPR_PROCESS_START_add_1',\n",
       " 'AMT_RECIVABLE',\n",
       " 'AMT_INST_MIN_REGULARITY',\n",
       " 'AMT_CREDIT_add_1',\n",
       " 'AMT_INCOME_TOTAL',\n",
       " 'ELEVATORS_MODE',\n",
       " 'CNT_PAYMENT',\n",
       " 'SK_DPD_CAVG',\n",
       " 'AMT_TOTAL_RECEIVABLE',\n",
       " 'AMT_ANNUITY_BAVG',\n",
       " 'AMT_DRAWINGS_ATM_CURRENT',\n",
       " 'AMT_RECEIVABLE_PRINCIPAL',\n",
       " 'APARTMENTS_MEDI',\n",
       " 'CNT_DRAWINGS_ATM_CURRENT',\n",
       " 'LIVINGAREA_AVG',\n",
       " 'DAYS_FIRST_DRAWING',\n",
       " 'TOTALAREA_MODE',\n",
       " 'YEARS_BEGINEXPLUATATION_MEDI',\n",
       " 'DAYS_LAST_PHONE_CHANGE',\n",
       " 'DAYS_TERMINATION_add_1',\n",
       " 'AMT_PAYMENT',\n",
       " 'AMT_CREDIT_SUM_DEBT',\n",
       " 'AMT_ANNUITY_PAVG',\n",
       " 'BASEMENTAREA_AVG',\n",
       " 'DAYS_INSTALMENT',\n",
       " 'AMT_APPLICATION',\n",
       " 'DAYS_LAST_DUE_1ST_VERSION_add_1',\n",
       " 'LIVINGAREA_MODE',\n",
       " 'DEF_30_CNT_SOCIAL_CIRCLE',\n",
       " 'FLOORSMAX_MEDI',\n",
       " 'AMT_CREDIT_SUM_OVERDUE',\n",
       " 'NUM_INSTALMENT_VERSION',\n",
       " 'OBS_60_CNT_SOCIAL_CIRCLE',\n",
       " 'SK_ID_CURR_CNT_CRED_CARD',\n",
       " 'DAYS_DECISION_add_1',\n",
       " 'AMT_ANNUITY_add_1',\n",
       " 'NUM_INSTALMENT_NUMBER',\n",
       " 'DAYS_LAST_DUE',\n",
       " 'DAYS_FIRST_DRAWING_add_1',\n",
       " 'ELEVATORS_MEDI',\n",
       " 'NONLIVINGAREA_MEDI',\n",
       " 'DAYS_DECISION',\n",
       " 'SELLERPLACE_AREA',\n",
       " 'COMMONAREA_MEDI',\n",
       " 'NFLAG_INSURED_ON_APPROVAL',\n",
       " 'CNT_FAM_MEMBERS',\n",
       " 'EXT_SOURCE_2',\n",
       " 'SK_ID_PREV_CCAVG',\n",
       " 'SK_ID_PREV_IAVG',\n",
       " 'DAYS_REGISTRATION',\n",
       " 'CNT_INSTALMENT',\n",
       " 'FLOORSMIN_MODE',\n",
       " 'AMT_REQ_CREDIT_BUREAU_YEAR',\n",
       " 'SK_DPD_DEF_CAVG',\n",
       " 'DAYS_ENTRY_PAYMENT',\n",
       " 'COMMONAREA_MODE',\n",
       " 'APARTMENTS_AVG',\n",
       " 'SK_DPD_DEF',\n",
       " 'AMT_DOWN_PAYMENT_add_1',\n",
       " 'AMT_REQ_CREDIT_BUREAU_MON',\n",
       " 'CNT_CREDIT_PROLONG',\n",
       " 'NFLAG_LAST_APPL_IN_DAY',\n",
       " 'OWN_CAR_AGE',\n",
       " 'CNT_DRAWINGS_POS_CURRENT',\n",
       " 'AMT_DRAWINGS_POS_CURRENT',\n",
       " 'AMT_GOODS_PRICE',\n",
       " 'RATE_INTEREST_PRIMARY',\n",
       " 'ENTRANCES_AVG',\n",
       " 'DAYS_FIRST_DUE',\n",
       " 'AMT_CREDIT_LIMIT_ACTUAL',\n",
       " 'SK_ID_CURR_CNT_BUREAU',\n",
       " 'NFLAG_LAST_APPL_IN_DAY_add_1',\n",
       " 'AMT_REQ_CREDIT_BUREAU_DAY',\n",
       " 'NONLIVINGAPARTMENTS_AVG',\n",
       " 'DAYS_CREDIT',\n",
       " 'FLOORSMIN_MEDI',\n",
       " 'LANDAREA_AVG',\n",
       " 'EXT_SOURCE_3',\n",
       " 'LANDAREA_MEDI',\n",
       " 'BASEMENTAREA_MODE',\n",
       " 'CNT_DRAWINGS_CURRENT',\n",
       " 'SK_ID_CURR_CNT_INSTALL',\n",
       " 'AMT_CREDIT',\n",
       " 'ELEVATORS_AVG',\n",
       " 'EXT_SOURCE_1',\n",
       " 'AMT_REQ_CREDIT_BUREAU_HOUR',\n",
       " 'YEARS_BUILD_MODE',\n",
       " 'FLOORSMAX_MODE',\n",
       " 'AMT_DRAWINGS_OTHER_CURRENT',\n",
       " 'YEARS_BUILD_AVG',\n",
       " 'DAYS_TERMINATION',\n",
       " 'SK_ID_PREV',\n",
       " 'TARGET',\n",
       " 'ENTRANCES_MEDI',\n",
       " 'MONTHS_BALANCE_B_B',\n",
       " 'SELLERPLACE_AREA_add_1',\n",
       " 'SK_ID_CURR_CNT_POS_CASH',\n",
       " 'DAYS_FIRST_DUE_add_1',\n",
       " 'CNT_INSTALMENT_FUTURE',\n",
       " 'AMT_REQ_CREDIT_BUREAU_WEEK',\n",
       " 'DAYS_CREDIT_ENDDATE',\n",
       " 'YEARS_BEGINEXPLUATATION_AVG',\n",
       " 'LANDAREA_MODE',\n",
       " 'NONLIVINGAPARTMENTS_MEDI',\n",
       " 'AMT_CREDIT_SUM_LIMIT',\n",
       " 'NONLIVINGAREA_MODE',\n",
       " 'AMT_APPLICATION_add_1',\n",
       " 'CNT_PAYMENT_add_1',\n",
       " 'DAYS_LAST_DUE_1ST_VERSION',\n",
       " 'SK_DPD',\n",
       " 'AMT_INSTALMENT',\n",
       " 'SK_ID_BUREAU',\n",
       " 'RATE_INTEREST_PRIVILEGED_add_1',\n",
       " 'NFLAG_INSURED_ON_APPROVAL_add_1',\n",
       " 'AMT_DRAWINGS_CURRENT',\n",
       " 'AMT_CREDIT_SUM',\n",
       " 'DEF_60_CNT_SOCIAL_CIRCLE',\n",
       " 'RATE_DOWN_PAYMENT_add_1',\n",
       " 'SK_ID_PREV_add_1',\n",
       " 'RATE_INTEREST_PRIVILEGED',\n",
       " 'OBS_30_CNT_SOCIAL_CIRCLE',\n",
       " 'AMT_REQ_CREDIT_BUREAU_QRT',\n",
       " 'DAYS_CREDIT_UPDATE',\n",
       " 'AMT_GOODS_PRICE_add_1',\n",
       " 'FLOORSMAX_AVG',\n",
       " 'CNT_DRAWINGS_OTHER_CURRENT',\n",
       " 'BASEMENTAREA_MEDI',\n",
       " 'RATE_INTEREST_PRIMARY_add_1',\n",
       " 'DAYS_LAST_DUE_add_1',\n",
       " 'RATE_DOWN_PAYMENT',\n",
       " 'HOUR_APPR_PROCESS_START_PAVG',\n",
       " 'YEARS_BUILD_MEDI',\n",
       " 'AMT_CREDIT_MAX_OVERDUE',\n",
       " 'MONTHS_BALANCE',\n",
       " 'REGION_POPULATION_RELATIVE',\n",
       " 'AMT_PAYMENT_TOTAL_CURRENT',\n",
       " 'LIVINGAPARTMENTS_MEDI',\n",
       " 'AMT_ANNUITY',\n",
       " 'COMMONAREA_AVG',\n",
       " 'AMT_PAYMENT_CURRENT',\n",
       " 'NONLIVINGAREA_AVG',\n",
       " 'CREDIT_DAY_OVERDUE',\n",
       " 'ENTRANCES_MODE',\n",
       " 'AMT_DOWN_PAYMENT',\n",
       " 'LIVINGAREA_MEDI',\n",
       " 'TOTAL PREV LOAN AMT',\n",
       " 'AMT_GOODS_PRICE_PAVG',\n",
       " 'YEARS_BEGINEXPLUATATION_MODE',\n",
       " 'CNT_INSTALMENT_MATURE_CUM',\n",
       " 'NONLIVINGAPARTMENTS_MODE',\n",
       " 'LIVINGAPARTMENTS_AVG',\n",
       " 'SK_ID_CURR',\n",
       " 'DAYS_BIRTH',\n",
       " 'DAYS_EMPLOYED',\n",
       " 'DAYS_ID_PUBLISH']"
      ]
     },
     "execution_count": 38,
     "metadata": {},
     "output_type": "execute_result"
    }
   ],
   "source": [
    "contin_vars"
   ]
  },
  {
   "cell_type": "code",
   "execution_count": 39,
   "metadata": {
    "scrolled": true
   },
   "outputs": [
    {
     "name": "stderr",
     "output_type": "stream",
     "text": [
      "/home/cheeseblubber/anaconda3/envs/fastai-latest/lib/python3.6/site-packages/ipykernel_launcher.py:2: SettingWithCopyWarning: \n",
      "A value is trying to be set on a copy of a slice from a DataFrame.\n",
      "Try using .loc[row_indexer,col_indexer] = value instead\n",
      "\n",
      "See the caveats in the documentation: http://pandas.pydata.org/pandas-docs/stable/indexing.html#indexing-view-versus-copy\n",
      "  \n",
      "/home/cheeseblubber/anaconda3/envs/fastai-latest/lib/python3.6/site-packages/ipykernel_launcher.py:3: SettingWithCopyWarning: \n",
      "A value is trying to be set on a copy of a slice from a DataFrame.\n",
      "Try using .loc[row_indexer,col_indexer] = value instead\n",
      "\n",
      "See the caveats in the documentation: http://pandas.pydata.org/pandas-docs/stable/indexing.html#indexing-view-versus-copy\n",
      "  This is separate from the ipykernel package so we can avoid doing imports until\n"
     ]
    }
   ],
   "source": [
    "for v in cat_vars:\n",
    "    train_df[v] = train_df[v].astype('category')\n",
    "    test_df[v] = test_df[v].astype('category')"
   ]
  },
  {
   "cell_type": "code",
   "execution_count": 40,
   "metadata": {},
   "outputs": [
    {
     "name": "stderr",
     "output_type": "stream",
     "text": [
      "/home/cheeseblubber/anaconda3/envs/fastai-latest/lib/python3.6/site-packages/ipykernel_launcher.py:2: SettingWithCopyWarning: \n",
      "A value is trying to be set on a copy of a slice from a DataFrame.\n",
      "Try using .loc[row_indexer,col_indexer] = value instead\n",
      "\n",
      "See the caveats in the documentation: http://pandas.pydata.org/pandas-docs/stable/indexing.html#indexing-view-versus-copy\n",
      "  \n",
      "/home/cheeseblubber/anaconda3/envs/fastai-latest/lib/python3.6/site-packages/ipykernel_launcher.py:3: SettingWithCopyWarning: \n",
      "A value is trying to be set on a copy of a slice from a DataFrame.\n",
      "Try using .loc[row_indexer,col_indexer] = value instead\n",
      "\n",
      "See the caveats in the documentation: http://pandas.pydata.org/pandas-docs/stable/indexing.html#indexing-view-versus-copy\n",
      "  This is separate from the ipykernel package so we can avoid doing imports until\n"
     ]
    }
   ],
   "source": [
    "for v in contin_vars:\n",
    "    train_df[v] = train_df[v].fillna(0).astype('float32')\n",
    "    test_df[v] = test_df[v].fillna(0).astype('float32')"
   ]
  },
  {
   "cell_type": "code",
   "execution_count": 41,
   "metadata": {},
   "outputs": [],
   "source": [
    "cat_sz = [(c, len(train_df[c].cat.categories)+1) for c in cat_vars]"
   ]
  },
  {
   "cell_type": "code",
   "execution_count": 42,
   "metadata": {},
   "outputs": [
    {
     "name": "stderr",
     "output_type": "stream",
     "text": [
      "/home/cheeseblubber/workspace/competition/home-default-credit/fastai/structured.py:200: SettingWithCopyWarning: \n",
      "A value is trying to be set on a copy of a slice from a DataFrame.\n",
      "Try using .loc[row_indexer,col_indexer] = value instead\n",
      "\n",
      "See the caveats in the documentation: http://pandas.pydata.org/pandas-docs/stable/indexing.html#indexing-view-versus-copy\n",
      "  df[n] = pd.Categorical(c, categories=trn[n].cat.categories, ordered=True)\n"
     ]
    }
   ],
   "source": [
    "apply_cats(test_df, train_df)"
   ]
  },
  {
   "cell_type": "code",
   "execution_count": 43,
   "metadata": {},
   "outputs": [
    {
     "data": {
      "text/plain": [
       "[('FLAG_OWN_REALTY', 3),\n",
       " ('FLAG_EMP_PHONE', 3),\n",
       " ('EMERGENCYSTATE_MODE', 3),\n",
       " ('WEEKDAY_APPR_PROCESS_START_BAVG', 8),\n",
       " ('WEEKDAY_APPR_PROCESS_START', 8),\n",
       " ('HOUSETYPE_MODE', 4),\n",
       " ('OCCUPATION_TYPE', 19),\n",
       " ('FONDKAPREMONT_MODE', 5),\n",
       " ('NAME_TYPE_SUITE_add_1', 8),\n",
       " ('FLAG_DOCUMENT_10', 3),\n",
       " ('NAME_CASH_LOAN_PURPOSE_add_1', 26),\n",
       " ('FLAG_LAST_APPL_PER_CONTRACT', 3),\n",
       " ('CHANNEL_TYPE', 9),\n",
       " ('FLAG_DOCUMENT_21', 3),\n",
       " ('CNT_CHILDREN', 16),\n",
       " ('CODE_REJECT_REASON', 10),\n",
       " ('NAME_CLIENT_TYPE', 5),\n",
       " ('REG_REGION_NOT_LIVE_REGION', 3),\n",
       " ('CODE_REJECT_REASON_add_1', 10),\n",
       " ('NAME_CONTRACT_STATUS', 5),\n",
       " ('REG_CITY_NOT_LIVE_CITY', 3),\n",
       " ('FLAG_MOBIL', 3),\n",
       " ('FLAG_DOCUMENT_18', 3),\n",
       " ('WEEKDAY_APPR_PROCESS_START_add_1', 8),\n",
       " ('WALLSMATERIAL_MODE', 8),\n",
       " ('HOUR_APPR_PROCESS_START', 25),\n",
       " ('FLAG_DOCUMENT_6', 3),\n",
       " ('REGION_RATING_CLIENT', 4),\n",
       " ('CHANNEL_TYPE_add_1', 9),\n",
       " ('LIVE_CITY_NOT_WORK_CITY', 3),\n",
       " ('NAME_CONTRACT_STATUS_CCAVG', 5),\n",
       " ('FLAG_OWN_CAR', 3),\n",
       " ('NAME_PAYMENT_TYPE_add_1', 5),\n",
       " ('FLAG_LAST_APPL_PER_CONTRACT_add_1', 3),\n",
       " ('FLAG_WORK_PHONE', 3),\n",
       " ('FLAG_DOCUMENT_13', 3),\n",
       " ('NAME_SELLER_INDUSTRY_add_1', 12),\n",
       " ('NAME_PORTFOLIO', 6),\n",
       " ('CODE_GENDER', 4),\n",
       " ('STATUS', 9),\n",
       " ('NAME_CONTRACT_TYPE_add_1', 5),\n",
       " ('NAME_EDUCATION_TYPE', 6),\n",
       " ('ORGANIZATION_TYPE', 59),\n",
       " ('FLAG_PHONE', 3),\n",
       " ('NAME_YIELD_GROUP', 6),\n",
       " ('REG_CITY_NOT_WORK_CITY', 3),\n",
       " ('NAME_TYPE_SUITE_BAVG', 9),\n",
       " ('FLAG_DOCUMENT_7', 3),\n",
       " ('FLAG_DOCUMENT_12', 3),\n",
       " ('REGION_RATING_CLIENT_W_CITY', 4),\n",
       " ('FLAG_EMAIL', 3),\n",
       " ('NAME_CONTRACT_TYPE_BAVG', 5),\n",
       " ('NAME_INCOME_TYPE', 9),\n",
       " ('FLAG_DOCUMENT_5', 3),\n",
       " ('NAME_PAYMENT_TYPE', 5),\n",
       " ('NAME_CONTRACT_STATUS_CAVG', 8),\n",
       " ('FLAG_DOCUMENT_17', 3),\n",
       " ('FLAG_DOCUMENT_19', 3),\n",
       " ('NAME_SELLER_INDUSTRY', 12),\n",
       " ('REG_REGION_NOT_WORK_REGION', 3),\n",
       " ('NAME_PRODUCT_TYPE_add_1', 4),\n",
       " ('NAME_FAMILY_STATUS', 7),\n",
       " ('NAME_PRODUCT_TYPE', 4),\n",
       " ('FLAG_DOCUMENT_15', 3),\n",
       " ('FLAG_DOCUMENT_8', 3),\n",
       " ('LIVE_REGION_NOT_WORK_REGION', 3),\n",
       " ('FLAG_CONT_MOBILE', 3),\n",
       " ('FLAG_DOCUMENT_3', 3),\n",
       " ('NAME_TYPE_SUITE', 8),\n",
       " ('NAME_CASH_LOAN_PURPOSE', 26),\n",
       " ('PRODUCT_COMBINATION_add_1', 18),\n",
       " ('NAME_PORTFOLIO_add_1', 6),\n",
       " ('NAME_CONTRACT_STATUS_add_1', 5),\n",
       " ('FLAG_DOCUMENT_4', 3),\n",
       " ('PRODUCT_COMBINATION', 19),\n",
       " ('NAME_GOODS_CATEGORY', 27),\n",
       " ('NAME_CONTRACT_TYPE', 3),\n",
       " ('NAME_YIELD_GROUP_add_1', 6),\n",
       " ('FLAG_DOCUMENT_16', 3),\n",
       " ('NAME_HOUSING_TYPE', 7),\n",
       " ('FLAG_DOCUMENT_11', 3),\n",
       " ('FLAG_DOCUMENT_2', 3),\n",
       " ('NAME_GOODS_CATEGORY_add_1', 27),\n",
       " ('FLAG_DOCUMENT_14', 3),\n",
       " ('NAME_CLIENT_TYPE_add_1', 5),\n",
       " ('FLAG_DOCUMENT_20', 3),\n",
       " ('FLAG_DOCUMENT_9', 3)]"
      ]
     },
     "execution_count": 43,
     "metadata": {},
     "output_type": "execute_result"
    }
   ],
   "source": [
    "cat_sz"
   ]
  },
  {
   "cell_type": "code",
   "execution_count": 44,
   "metadata": {},
   "outputs": [],
   "source": [
    "emb_szs = [(c, min(50, (c+1)//2)) for _,c in cat_sz]"
   ]
  },
  {
   "cell_type": "code",
   "execution_count": 45,
   "metadata": {},
   "outputs": [
    {
     "name": "stderr",
     "output_type": "stream",
     "text": [
      "/home/cheeseblubber/anaconda3/envs/fastai-latest/lib/python3.6/site-packages/pandas/core/frame.py:3694: SettingWithCopyWarning: \n",
      "A value is trying to be set on a copy of a slice from a DataFrame\n",
      "\n",
      "See the caveats in the documentation: http://pandas.pydata.org/pandas-docs/stable/indexing.html#indexing-view-versus-copy\n",
      "  errors=errors)\n"
     ]
    }
   ],
   "source": [
    "proc_train_df, y, _, mapper = proc_df(train_df, y_fld=\"TARGET\", skip_flds=[\"SK_ID_CURR\", \"SK_ID_PREV\"], do_scale=True)"
   ]
  },
  {
   "cell_type": "code",
   "execution_count": 46,
   "metadata": {},
   "outputs": [
    {
     "name": "stderr",
     "output_type": "stream",
     "text": [
      "/home/cheeseblubber/anaconda3/envs/fastai-latest/lib/python3.6/site-packages/pandas/core/frame.py:3694: SettingWithCopyWarning: \n",
      "A value is trying to be set on a copy of a slice from a DataFrame\n",
      "\n",
      "See the caveats in the documentation: http://pandas.pydata.org/pandas-docs/stable/indexing.html#indexing-view-versus-copy\n",
      "  errors=errors)\n"
     ]
    }
   ],
   "source": [
    "proc_test_df, _, nas, mapper = proc_df(test_df, do_scale=True, mapper=mapper)"
   ]
  },
  {
   "cell_type": "code",
   "execution_count": 47,
   "metadata": {},
   "outputs": [],
   "source": [
    "bs = 1000"
   ]
  },
  {
   "cell_type": "code",
   "execution_count": 48,
   "metadata": {},
   "outputs": [
    {
     "data": {
      "text/plain": [
       "array([1., 0., 0., 0., 0., 0., 0., 0., 0., 0.], dtype=float32)"
      ]
     },
     "execution_count": 48,
     "metadata": {},
     "output_type": "execute_result"
    }
   ],
   "source": [
    "y[:10]"
   ]
  },
  {
   "cell_type": "code",
   "execution_count": 49,
   "metadata": {},
   "outputs": [
    {
     "data": {
      "text/plain": [
       "249"
      ]
     },
     "execution_count": 49,
     "metadata": {},
     "output_type": "execute_result"
    }
   ],
   "source": [
    "len(proc_test_df.columns)"
   ]
  },
  {
   "cell_type": "code",
   "execution_count": 50,
   "metadata": {},
   "outputs": [],
   "source": [
    "proc_test_df.drop(columns=[\"TARGET\"], inplace=True)"
   ]
  },
  {
   "cell_type": "code",
   "execution_count": 51,
   "metadata": {
    "scrolled": true
   },
   "outputs": [
    {
     "data": {
      "text/plain": [
       "[('FLAG_OWN_REALTY', 3),\n",
       " ('FLAG_EMP_PHONE', 3),\n",
       " ('EMERGENCYSTATE_MODE', 3),\n",
       " ('WEEKDAY_APPR_PROCESS_START_BAVG', 8),\n",
       " ('WEEKDAY_APPR_PROCESS_START', 8),\n",
       " ('HOUSETYPE_MODE', 4),\n",
       " ('OCCUPATION_TYPE', 19),\n",
       " ('FONDKAPREMONT_MODE', 5),\n",
       " ('NAME_TYPE_SUITE_add_1', 8),\n",
       " ('FLAG_DOCUMENT_10', 3),\n",
       " ('NAME_CASH_LOAN_PURPOSE_add_1', 26),\n",
       " ('FLAG_LAST_APPL_PER_CONTRACT', 3),\n",
       " ('CHANNEL_TYPE', 9),\n",
       " ('FLAG_DOCUMENT_21', 3),\n",
       " ('CNT_CHILDREN', 16),\n",
       " ('CODE_REJECT_REASON', 10),\n",
       " ('NAME_CLIENT_TYPE', 5),\n",
       " ('REG_REGION_NOT_LIVE_REGION', 3),\n",
       " ('CODE_REJECT_REASON_add_1', 10),\n",
       " ('NAME_CONTRACT_STATUS', 5),\n",
       " ('REG_CITY_NOT_LIVE_CITY', 3),\n",
       " ('FLAG_MOBIL', 3),\n",
       " ('FLAG_DOCUMENT_18', 3),\n",
       " ('WEEKDAY_APPR_PROCESS_START_add_1', 8),\n",
       " ('WALLSMATERIAL_MODE', 8),\n",
       " ('HOUR_APPR_PROCESS_START', 25),\n",
       " ('FLAG_DOCUMENT_6', 3),\n",
       " ('REGION_RATING_CLIENT', 4),\n",
       " ('CHANNEL_TYPE_add_1', 9),\n",
       " ('LIVE_CITY_NOT_WORK_CITY', 3),\n",
       " ('NAME_CONTRACT_STATUS_CCAVG', 5),\n",
       " ('FLAG_OWN_CAR', 3),\n",
       " ('NAME_PAYMENT_TYPE_add_1', 5),\n",
       " ('FLAG_LAST_APPL_PER_CONTRACT_add_1', 3),\n",
       " ('FLAG_WORK_PHONE', 3),\n",
       " ('FLAG_DOCUMENT_13', 3),\n",
       " ('NAME_SELLER_INDUSTRY_add_1', 12),\n",
       " ('NAME_PORTFOLIO', 6),\n",
       " ('CODE_GENDER', 4),\n",
       " ('STATUS', 9),\n",
       " ('NAME_CONTRACT_TYPE_add_1', 5),\n",
       " ('NAME_EDUCATION_TYPE', 6),\n",
       " ('ORGANIZATION_TYPE', 59),\n",
       " ('FLAG_PHONE', 3),\n",
       " ('NAME_YIELD_GROUP', 6),\n",
       " ('REG_CITY_NOT_WORK_CITY', 3),\n",
       " ('NAME_TYPE_SUITE_BAVG', 9),\n",
       " ('FLAG_DOCUMENT_7', 3),\n",
       " ('FLAG_DOCUMENT_12', 3),\n",
       " ('REGION_RATING_CLIENT_W_CITY', 4),\n",
       " ('FLAG_EMAIL', 3),\n",
       " ('NAME_CONTRACT_TYPE_BAVG', 5),\n",
       " ('NAME_INCOME_TYPE', 9),\n",
       " ('FLAG_DOCUMENT_5', 3),\n",
       " ('NAME_PAYMENT_TYPE', 5),\n",
       " ('NAME_CONTRACT_STATUS_CAVG', 8),\n",
       " ('FLAG_DOCUMENT_17', 3),\n",
       " ('FLAG_DOCUMENT_19', 3),\n",
       " ('NAME_SELLER_INDUSTRY', 12),\n",
       " ('REG_REGION_NOT_WORK_REGION', 3),\n",
       " ('NAME_PRODUCT_TYPE_add_1', 4),\n",
       " ('NAME_FAMILY_STATUS', 7),\n",
       " ('NAME_PRODUCT_TYPE', 4),\n",
       " ('FLAG_DOCUMENT_15', 3),\n",
       " ('FLAG_DOCUMENT_8', 3),\n",
       " ('LIVE_REGION_NOT_WORK_REGION', 3),\n",
       " ('FLAG_CONT_MOBILE', 3),\n",
       " ('FLAG_DOCUMENT_3', 3),\n",
       " ('NAME_TYPE_SUITE', 8),\n",
       " ('NAME_CASH_LOAN_PURPOSE', 26),\n",
       " ('PRODUCT_COMBINATION_add_1', 18),\n",
       " ('NAME_PORTFOLIO_add_1', 6),\n",
       " ('NAME_CONTRACT_STATUS_add_1', 5),\n",
       " ('FLAG_DOCUMENT_4', 3),\n",
       " ('PRODUCT_COMBINATION', 19),\n",
       " ('NAME_GOODS_CATEGORY', 27),\n",
       " ('NAME_CONTRACT_TYPE', 3),\n",
       " ('NAME_YIELD_GROUP_add_1', 6),\n",
       " ('FLAG_DOCUMENT_16', 3),\n",
       " ('NAME_HOUSING_TYPE', 7),\n",
       " ('FLAG_DOCUMENT_11', 3),\n",
       " ('FLAG_DOCUMENT_2', 3),\n",
       " ('NAME_GOODS_CATEGORY_add_1', 27),\n",
       " ('FLAG_DOCUMENT_14', 3),\n",
       " ('NAME_CLIENT_TYPE_add_1', 5),\n",
       " ('FLAG_DOCUMENT_20', 3),\n",
       " ('FLAG_DOCUMENT_9', 3)]"
      ]
     },
     "execution_count": 51,
     "metadata": {},
     "output_type": "execute_result"
    }
   ],
   "source": [
    "cat_sz"
   ]
  },
  {
   "cell_type": "code",
   "execution_count": 52,
   "metadata": {},
   "outputs": [],
   "source": [
    "# proc_train_df.to_pickle(\"data/train_df1\")\n",
    "# proc_test_df.to_pickle(\"data/test_df1\")"
   ]
  },
  {
   "cell_type": "code",
   "execution_count": 53,
   "metadata": {
    "scrolled": true
   },
   "outputs": [
    {
     "data": {
      "text/plain": [
       "307511    0.0\n",
       "307512    0.0\n",
       "307513    0.0\n",
       "307514    0.0\n",
       "307515    0.0\n",
       "307516    0.0\n",
       "307517    0.0\n",
       "307518    0.0\n",
       "307519    0.0\n",
       "307520    0.0\n",
       "307521    0.0\n",
       "307522    0.0\n",
       "307523    0.0\n",
       "307524    0.0\n",
       "307525    0.0\n",
       "307526    0.0\n",
       "307527    0.0\n",
       "307528    0.0\n",
       "307529    0.0\n",
       "307530    0.0\n",
       "307531    0.0\n",
       "307532    0.0\n",
       "307533    0.0\n",
       "307534    0.0\n",
       "307535    0.0\n",
       "307536    0.0\n",
       "307537    0.0\n",
       "307538    0.0\n",
       "307539    0.0\n",
       "307540    0.0\n",
       "         ... \n",
       "356225    0.0\n",
       "356226    0.0\n",
       "356227    0.0\n",
       "356228    0.0\n",
       "356229    0.0\n",
       "356230    0.0\n",
       "356231    0.0\n",
       "356232    0.0\n",
       "356233    0.0\n",
       "356234    0.0\n",
       "356235    0.0\n",
       "356236    0.0\n",
       "356237    0.0\n",
       "356238    0.0\n",
       "356239    0.0\n",
       "356240    0.0\n",
       "356241    0.0\n",
       "356242    0.0\n",
       "356243    0.0\n",
       "356244    0.0\n",
       "356245    0.0\n",
       "356246    0.0\n",
       "356247    0.0\n",
       "356248    0.0\n",
       "356249    0.0\n",
       "356250    0.0\n",
       "356251    0.0\n",
       "356252    0.0\n",
       "356253    0.0\n",
       "356254    0.0\n",
       "Name: TARGET, Length: 48744, dtype: float32"
      ]
     },
     "execution_count": 53,
     "metadata": {},
     "output_type": "execute_result"
    }
   ],
   "source": [
    "test_df[\"TARGET\"]"
   ]
  },
  {
   "cell_type": "code",
   "execution_count": 54,
   "metadata": {},
   "outputs": [
    {
     "data": {
      "text/plain": [
       "False"
      ]
     },
     "execution_count": 54,
     "metadata": {},
     "output_type": "execute_result"
    }
   ],
   "source": [
    "\"TARGET\" in list(proc_train_df.columns)"
   ]
  },
  {
   "cell_type": "code",
   "execution_count": 55,
   "metadata": {},
   "outputs": [
    {
     "data": {
      "text/plain": [
       "['SK_ID_CURR', 'SK_ID_PREV']"
      ]
     },
     "execution_count": 55,
     "metadata": {},
     "output_type": "execute_result"
    }
   ],
   "source": [
    "list(set(proc_test_df.columns) - set(proc_train_df.columns))"
   ]
  },
  {
   "cell_type": "code",
   "execution_count": 56,
   "metadata": {},
   "outputs": [
    {
     "data": {
      "text/plain": [
       "248"
      ]
     },
     "execution_count": 56,
     "metadata": {},
     "output_type": "execute_result"
    }
   ],
   "source": [
    "len(proc_test_df.columns)"
   ]
  },
  {
   "cell_type": "code",
   "execution_count": 57,
   "metadata": {},
   "outputs": [],
   "source": [
    "proc_test_df.drop(columns=[\"SK_ID_PREV\", \"SK_ID_CURR\"], inplace=True)"
   ]
  },
  {
   "cell_type": "code",
   "execution_count": 58,
   "metadata": {},
   "outputs": [],
   "source": [
    "md = ColumnarModelData.from_data_frame(\n",
    "    PATH, val_idx, proc_train_df, y.astype(np.int32), \n",
    "    cat_flds=cat_vars, bs=bs, is_reg=False, test_df=proc_test_df,\n",
    "    is_multi=False\n",
    ")"
   ]
  },
  {
   "cell_type": "code",
   "execution_count": 59,
   "metadata": {},
   "outputs": [],
   "source": [
    "m = md.get_learner(emb_szs, len(proc_train_df.columns)-len(cat_vars), 0.1, 2, [50,30], drops=[0.2, 0.1])"
   ]
  },
  {
   "cell_type": "code",
   "execution_count": 60,
   "metadata": {},
   "outputs": [
    {
     "data": {
      "application/vnd.jupyter.widget-view+json": {
       "model_id": "fedef044e1b54e2eba6640388bc50961",
       "version_major": 2,
       "version_minor": 0
      },
      "text/plain": [
       "HBox(children=(IntProgress(value=0, description='Epoch', max=1), HTML(value='')))"
      ]
     },
     "metadata": {},
     "output_type": "display_data"
    },
    {
     "name": "stdout",
     "output_type": "stream",
     "text": [
      "epoch      trn_loss   val_loss                               \n",
      "    0      0.346524   0.278169  \n",
      "\n"
     ]
    }
   ],
   "source": [
    "m.lr_find()"
   ]
  },
  {
   "cell_type": "code",
   "execution_count": 61,
   "metadata": {},
   "outputs": [
    {
     "data": {
      "image/png": "[encoded data removed]",
      "text/plain": [
       "<Figure size 432x288 with 1 Axes>"
      ]
     },
     "metadata": {},
     "output_type": "display_data"
    }
   ],
   "source": [
    "m.sched.plot()"
   ]
  },
  {
   "cell_type": "code",
   "execution_count": 62,
   "metadata": {},
   "outputs": [],
   "source": [
    "lr = 1e-3"
   ]
  },
  {
   "cell_type": "code",
   "execution_count": 63,
   "metadata": {},
   "outputs": [
    {
     "data": {
      "application/vnd.jupyter.widget-view+json": {
       "model_id": "d5e280e412544fcbb452dea53e3cce6e",
       "version_major": 2,
       "version_minor": 0
      },
      "text/plain": [
       "HBox(children=(IntProgress(value=0, description='Epoch', max=4), HTML(value='')))"
      ]
     },
     "metadata": {},
     "output_type": "display_data"
    },
    {
     "name": "stdout",
     "output_type": "stream",
     "text": [
      "epoch      trn_loss   val_loss                               \n",
      "    0      0.270688   0.253164  \n",
      "    1      0.259848   0.251528                               \n",
      "    2      0.261312   0.250361                               \n",
      "    3      0.25589    0.249193                               \n",
      "\n"
     ]
    },
    {
     "data": {
      "text/plain": [
       "[array([0.24919])]"
      ]
     },
     "execution_count": 63,
     "metadata": {},
     "output_type": "execute_result"
    }
   ],
   "source": [
    "m.fit(lr, 2, cycle_len=2)"
   ]
  },
  {
   "cell_type": "code",
   "execution_count": 64,
   "metadata": {},
   "outputs": [
    {
     "data": {
      "application/vnd.jupyter.widget-view+json": {
       "model_id": "3858d1d6eac34c70a07ddb6cca854785",
       "version_major": 2,
       "version_minor": 0
      },
      "text/plain": [
       "HBox(children=(IntProgress(value=0, description='Epoch', max=4), HTML(value='')))"
      ]
     },
     "metadata": {},
     "output_type": "display_data"
    },
    {
     "name": "stdout",
     "output_type": "stream",
     "text": [
      "epoch      trn_loss   val_loss                               \n",
      "    0      0.25713    0.249542  \n",
      "    1      0.253653   0.248271                               \n",
      "    2      0.25243    0.247834                               \n",
      "    3      0.253279   0.247461                               \n",
      "\n"
     ]
    },
    {
     "data": {
      "text/plain": [
       "[array([0.24746])]"
      ]
     },
     "execution_count": 64,
     "metadata": {},
     "output_type": "execute_result"
    }
   ],
   "source": [
    "m.fit(lr, 2, cycle_len=2)"
   ]
  },
  {
   "cell_type": "code",
   "execution_count": 65,
   "metadata": {},
   "outputs": [
    {
     "data": {
      "application/vnd.jupyter.widget-view+json": {
       "model_id": "475883e8d1dc4a7f942434e9c01238f7",
       "version_major": 2,
       "version_minor": 0
      },
      "text/plain": [
       "HBox(children=(IntProgress(value=0, description='Epoch', max=4), HTML(value='')))"
      ]
     },
     "metadata": {},
     "output_type": "display_data"
    },
    {
     "name": "stdout",
     "output_type": "stream",
     "text": [
      "epoch      trn_loss   val_loss                               \n",
      "    0      0.253666   0.247406  \n",
      "    1      0.250611   0.247172                               \n",
      "    2      0.252003   0.247591                               \n",
      "    3      0.247068   0.246538                               \n",
      "\n"
     ]
    },
    {
     "data": {
      "text/plain": [
       "[array([0.24654])]"
      ]
     },
     "execution_count": 65,
     "metadata": {},
     "output_type": "execute_result"
    }
   ],
   "source": [
    "m.fit(lr, 2, cycle_len=2)"
   ]
  },
  {
   "cell_type": "code",
   "execution_count": 66,
   "metadata": {},
   "outputs": [
    {
     "data": {
      "application/vnd.jupyter.widget-view+json": {
       "model_id": "2acd6f3e55194c109fd8f11d16a67eda",
       "version_major": 2,
       "version_minor": 0
      },
      "text/plain": [
       "HBox(children=(IntProgress(value=0, description='Epoch', max=15), HTML(value='')))"
      ]
     },
     "metadata": {},
     "output_type": "display_data"
    },
    {
     "name": "stdout",
     "output_type": "stream",
     "text": [
      "epoch      trn_loss   val_loss                               \n",
      "    0      0.250472   0.247309  \n",
      "    1      0.246302   0.246642                               \n",
      "    2      0.243831   0.246405                               \n",
      "    3      0.245062   0.246938                               \n",
      "    4      0.246787   0.246543                               \n",
      "    5      0.246192   0.246451                               \n",
      "    6      0.246304   0.246762                               \n",
      "    7      0.24489    0.246524                               \n",
      "    8      0.242401   0.246465                               \n",
      "    9      0.244605   0.248182                               \n",
      "    10     0.243639   0.246976                               \n",
      "    11     0.240037   0.246715                               \n",
      "    12     0.242655   0.247298                               \n",
      "    13     0.24212    0.247233                               \n",
      "    14     0.237109   0.246996                               \n",
      "\n"
     ]
    },
    {
     "data": {
      "text/plain": [
       "[array([0.247])]"
      ]
     },
     "execution_count": 66,
     "metadata": {},
     "output_type": "execute_result"
    }
   ],
   "source": [
    "m.fit(lr, 5, wds=1e-7, cycle_len=3, best_save_name=\"best_home_default1\")"
   ]
  },
  {
   "cell_type": "code",
   "execution_count": 67,
   "metadata": {},
   "outputs": [],
   "source": [
    "m.load(name=\"best_home_default1\")"
   ]
  },
  {
   "cell_type": "code",
   "execution_count": 68,
   "metadata": {},
   "outputs": [
    {
     "data": {
      "application/vnd.jupyter.widget-view+json": {
       "model_id": "b57ea2d53cfd493dbca6648ff4ca70aa",
       "version_major": 2,
       "version_minor": 0
      },
      "text/plain": [
       "HBox(children=(IntProgress(value=0, description='Epoch', max=4), HTML(value='')))"
      ]
     },
     "metadata": {},
     "output_type": "display_data"
    },
    {
     "name": "stdout",
     "output_type": "stream",
     "text": [
      "epoch      trn_loss   val_loss                               \n",
      "    0      0.248324   0.246439  \n",
      "    1      0.245918   0.246365                               \n",
      "    2      0.245296   0.246307                               \n",
      "    3      0.24476    0.246377                               \n",
      "\n"
     ]
    },
    {
     "data": {
      "text/plain": [
       "[array([0.24638])]"
      ]
     },
     "execution_count": 68,
     "metadata": {},
     "output_type": "execute_result"
    }
   ],
   "source": [
    "m.fit(lr/10, 2, cycle_len=2, wds=1e-7, best_save_name=\"best_home_default2\")"
   ]
  },
  {
   "cell_type": "code",
   "execution_count": 69,
   "metadata": {},
   "outputs": [],
   "source": [
    "m.load(name=\"best_home_default2\")"
   ]
  },
  {
   "cell_type": "code",
   "execution_count": 70,
   "metadata": {},
   "outputs": [],
   "source": [
    "pred_test=m.predict(True)"
   ]
  },
  {
   "cell_type": "code",
   "execution_count": 71,
   "metadata": {},
   "outputs": [],
   "source": [
    "pred_test = np.exp(pred_test)"
   ]
  },
  {
   "cell_type": "code",
   "execution_count": 72,
   "metadata": {},
   "outputs": [
    {
     "data": {
      "text/plain": [
       "array([0.97448, 0.8418 , 0.94074, 0.89931, 0.80659, 0.96739, 0.97404, 0.96621, 0.98438, 0.85234, 0.97342,\n",
       "       0.951  , 0.88783, 0.96161, 0.96416, 0.86352, 0.94732, 0.97208, 0.83933, 0.95161, ..., 0.91386,\n",
       "       0.91526, 0.98401, 0.97078, 0.98756, 0.93182, 0.89695, 0.98905, 0.91819, 0.96647, 0.951  , 0.93   ,\n",
       "       0.9666 , 0.91358, 0.96653, 0.95205, 0.91822, 0.97493, 0.93358, 0.87553], dtype=float32)"
      ]
     },
     "execution_count": 72,
     "metadata": {},
     "output_type": "execute_result"
    }
   ],
   "source": [
    "pred_test[:,0]"
   ]
  },
  {
   "cell_type": "code",
   "execution_count": 73,
   "metadata": {},
   "outputs": [
    {
     "data": {
      "text/plain": [
       "(array([    1.,     2.,    13.,   112.,   402.,   947.,  1877.,  4358., 12010., 29022.]),\n",
       " array([0.29673, 0.36706, 0.43738, 0.50771, 0.57804, 0.64836, 0.71869, 0.78902, 0.85935, 0.92967, 1.     ]),\n",
       " <a list of 10 Patch objects>)"
      ]
     },
     "execution_count": 73,
     "metadata": {},
     "output_type": "execute_result"
    },
    {
     "data": {
      "image/png": "[encoded data removed]",
      "text/plain": [
       "<Figure size 432x288 with 1 Axes>"
      ]
     },
     "metadata": {},
     "output_type": "display_data"
    }
   ],
   "source": [
    "matplotlib.pyplot.hist(pred_test[:,0])"
   ]
  },
  {
   "cell_type": "code",
   "execution_count": 74,
   "metadata": {},
   "outputs": [],
   "source": [
    "application_test['TARGET']=pred_test[:,1]"
   ]
  },
  {
   "cell_type": "code",
   "execution_count": 116,
   "metadata": {},
   "outputs": [],
   "source": [
    "csv_fn=f'{PATH}/tmp/sub7.csv'"
   ]
  },
  {
   "cell_type": "code",
   "execution_count": 117,
   "metadata": {},
   "outputs": [],
   "source": [
    "application_test['SK_ID_CURR'] = application_test['SK_ID_CURR'].astype(int)"
   ]
  },
  {
   "cell_type": "code",
   "execution_count": 118,
   "metadata": {},
   "outputs": [],
   "source": [
    "application_test[['SK_ID_CURR','TARGET']].to_csv(csv_fn, index=False)"
   ]
  },
  {
   "cell_type": "code",
   "execution_count": null,
   "metadata": {},
   "outputs": [
    {
     "data": {
      "text/html": [
       "<a href='data/tmp/sub7.csv' target='_blank'>data/tmp/sub7.csv</a><br>"
      ],
      "text/plain": [
       "/home/cheeseblubber/workspace/competition/home-default-credit/data/tmp/sub7.csv"
      ]
     },
     "execution_count": 119,
     "metadata": {},
     "output_type": "execute_result"
    }
   ],
   "source": [
    "FileLink(csv_fn)"
   ]
  },
  {
   "cell_type": "code",
   "execution_count": null,
   "metadata": {},
   "outputs": [],
   "source": []
  }
 ],
 "metadata": {
  "kernelspec": {
   "display_name": "Python 3",
   "language": "python",
   "name": "python3"
  },
  "language_info": {
   "codemirror_mode": {
    "name": "ipython",
    "version": 3
   },
   "file_extension": ".py",
   "mimetype": "text/x-python",
   "name": "python",
   "nbconvert_exporter": "python",
   "pygments_lexer": "ipython3",
   "version": "3.6.5"
  }
 },
 "nbformat": 4,
 "nbformat_minor": 2
}
